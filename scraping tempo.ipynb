{
 "cells": [
  {
   "cell_type": "markdown",
   "metadata": {},
   "source": [
    "# Web scraping basics with BeautifulSoup"
   ]
  },
  {
   "cell_type": "markdown",
   "metadata": {},
   "source": [
    "## Introduction\n",
    "\n",
    "As a data scientist, I often find myself looking for external data sources that could be relevant for my machine learning projects. The problem is that it is uncommon to find open source data sets that perfectly correspond to what you are looking for, or free APIs that give you access to data. In this case, web scraping can be one solution to get more data. "
   ]
  },
  {
   "cell_type": "markdown",
   "metadata": {},
   "source": [
    "#### What is web scraping?\n",
    "\n",
    "Web scraping consists in gathering data available on websites. This can be done manually by a human user or by a bot. The latter can of course gather data much faster than a human user and that is why we are going to focus on this. Is it therefore technically possible to collect all the data of a website in a matter of minutes this kind of bot. The legality of this practice is not well defined however. Websites usually describe in their terms of use and in their robots.txt file if they allow scrapers or not.\n",
    "\n",
    "#### How does it work?\n",
    "\n",
    "Web scrapers gather website data in the same way a human would do it: the scraper goes onto a web page of the website, gets the relevant data, and move forward to the next web page. Every website has a different structure, that is why web scrapers are usually built to explore one website. The two important issues that arise during the implementation of a web scraper are the following:\n",
    "- What is the structure of the web pages that contain relevant data?\n",
    "- How can we get to those web pages?\n",
    "\n",
    "In order to answer those questions, we need to understand a little how websites work. Websites are created using HTML (Hypertext Markup Language), along with CSS (Cascading Style Sheets) and JavaScript. HTML elements are separated by tags and they directly introduce content to the web page. Here is what a basic HTML document looks like:"
   ]
  },
  {
   "cell_type": "markdown",
   "metadata": {},
   "source": [
    "<img src=\"images/basic_html_page.png\">"
   ]
  },
  {
   "cell_type": "markdown",
   "metadata": {},
   "source": [
    "We can see that the content of the first heading is contained between the 'h1' tags. The first paragraph is contained between the 'p' tags. On a real website, we need to find out between which tags the relevant data is and tell it to our scraper. We also need to specify which links should be explored and where they can be found among the HTML file. With all this information, our scraper should be able to gather the required data."
   ]
  },
  {
   "cell_type": "markdown",
   "metadata": {},
   "source": [
    "#### What tools are we going to use?\n",
    "\n",
    "In this tutorial we are going to use the Python modules requests and BeautifulSoup.\n",
    "\n",
    "Requests will allow us to send HTTP requests to get the HTML files.\n",
    "\n",
    "Link to requests documentation: http://docs.python-requests.org/en/master/\n",
    "\n",
    "BeautifulSoup will be used to parse the HTML files. It is one of the most used library for web scraping. Its is quite simple to use and has many features that help gathering websites data efficiently.\n",
    "\n",
    "Link to BeautifulSoup documentation: https://www.crummy.com/software/BeautifulSoup/bs4/doc/"
   ]
  },
  {
   "cell_type": "markdown",
   "metadata": {},
   "source": [
    "## Prerequisites\n",
    "\n",
    "- python 2.7\n",
    "- requests\n",
    "- beautifulsoup4\n",
    "- pandas"
   ]
  },
  {
   "cell_type": "markdown",
   "metadata": {},
   "source": [
    "## Objective\n",
    "\n",
    "We want to scrape the data of an online book store: http://books.toscrape.com/\n",
    "\n",
    "This website is fictional so we can scrape it as much as we want.\n",
    "\n",
    "In this tutorial we will be gathering the following information about all the products of the website:\n",
    "- book title\n",
    "- price\n",
    "- availability\n",
    "- image\n",
    "- category\n",
    "- rating"
   ]
  },
  {
   "cell_type": "markdown",
   "metadata": {},
   "source": [
    "## Warm-up: get the content of the main page\n",
    "\n",
    "First let's use the requests module to get the HTML of the website's main page."
   ]
  },
  {
   "cell_type": "code",
   "execution_count": 1,
   "metadata": {},
   "outputs": [],
   "source": [
    "main_url = \"https://www.tempo.co/indeks/2019/03/04/nasional\""
   ]
  },
  {
   "cell_type": "code",
   "execution_count": 2,
   "metadata": {},
   "outputs": [],
   "source": [
    "import requests\n",
    "result = requests.get(main_url)"
   ]
  },
  {
   "cell_type": "code",
   "execution_count": 3,
   "metadata": {},
   "outputs": [
    {
     "data": {
      "text/plain": [
       "'<!DOCTYPE html>\\r\\n<html id=\"tempoco-2017\" lang=\"en\">\\r\\n  <head>\\r\\n\\r\\n\\t<title>Indeks 4 Maret 2019 - Tempo.co</title>\\n\\r\\n  <meta charset=\"utf-8\">\\r\\n  <meta name=\"viewport\" content=\"width=device-width, initial-scale=1.0\">\\r\\n  <link rel=\"original-source\" href=\"https://www.tempo.co/\" />\\r\\n    <link rel=\"canonical\" href=\"https://nasional.tempo.co/read/1181493/hadiri-deklarasi-geunting-ksp-jokowi-serius-tangani-stunting\" />\\r\\n  \\t    <link rel=\"publisher\" href=\"https://plus.google.com/109335234362909335582\"/>\\r\\n\\r\\n    \\r\\n    <meta name=\"description\" content=\"\"/>\\r\\n    <meta name=\"keywords\" content=\"\"/>\\r\\n      \\t<meta property=\"fb:app_id\" content=\"332404380172618\" />\\r\\n    <meta property=\"fb:pages\" content=\"160355148441\">\\r\\n    <meta property=\"og:locale\" content=\"id_ID\" />\\r\\n\\t\\t<meta content=\"all\" name=\"robots\"/>\\r\\n\\t\\t<meta content=\"index, follow\" name=\"robots\"/>\\r\\n\\t\\t<meta content=\"index, follow\" name=\"yahoobot\"/>\\r\\n\\t\\t<!-- iklan 0 =  -  -  -->\\t\\t\\t\\t<meta name=\"adx:sections\" content=\"indek\" />\\r\\n\\t\\t<link rel=\"alternate\" '"
      ]
     },
     "execution_count": 3,
     "metadata": {},
     "output_type": "execute_result"
    }
   ],
   "source": [
    "result.text[:1000]"
   ]
  },
  {
   "cell_type": "markdown",
   "metadata": {},
   "source": [
    "The result is quite messy! Let's make this more readable:"
   ]
  },
  {
   "cell_type": "code",
   "execution_count": 4,
   "metadata": {},
   "outputs": [],
   "source": [
    "from bs4 import BeautifulSoup\n",
    "soup = BeautifulSoup(result.text, 'html.parser')"
   ]
  },
  {
   "cell_type": "code",
   "execution_count": 5,
   "metadata": {},
   "outputs": [
    {
     "name": "stdout",
     "output_type": "stream",
     "text": [
      "<!DOCTYPE html>\n",
      "<html id=\"tempoco-2017\" lang=\"en\">\n",
      " <head>\n",
      "  <title>\n",
      "   Indeks 4 Maret 2019 - Tempo.co\n",
      "  </title>\n",
      "  <meta charset=\"utf-8\"/>\n",
      "  <meta content=\"width=device-width, initial-scale=1.0\" name=\"viewport\"/>\n",
      "  <link href=\"https://www.tempo.co/\" rel=\"original-source\"/>\n",
      "  <link href=\"https://nasional.tempo.co/read/1181493/hadiri-deklarasi-geunting-ksp-jokowi-serius-tangani-stunting\" rel=\"canonical\"/>\n",
      "  <link href=\"https://plus.google.com/109335234362909335582\" rel=\"publisher\"/>\n",
      "  <meta content=\"\" name=\"description\">\n",
      "   <meta content=\"\" name=\"keywords\">\n",
      "    <meta content=\"332404380172618\" property=\"fb:app_id\"/>\n",
      "    <meta content=\"160355148441\" property=\"fb:pages\"/>\n",
      "    <meta content=\"id_ID\" property=\"og:locale\">\n",
      "     <meta content=\"all\" name=\"robots\"/>\n",
      "     <meta content=\"index, follow\" name=\"robots\"/>\n",
      "     <meta content=\"index, follow\" name=\"yahoobot\"/>\n",
      "     <!-- iklan 0 =  -  -  -->\n",
      "     <meta content=\"indek\" name=\"adx:sections\"/>\n",
      "     <link href=\"https://www.tempo.co/rss\" rel=\"al\n"
     ]
    }
   ],
   "source": [
    "print(soup.prettify()[:1000])"
   ]
  },
  {
   "cell_type": "markdown",
   "metadata": {},
   "source": [
    "The function prettify() makes the HTML more readable. However we will not use this directly to explore where the relevant data is.\n",
    "\n",
    "Let's define a function to request and parse a HTML web page as we will need this a lot during this tutorial:"
   ]
  },
  {
   "cell_type": "code",
   "execution_count": 6,
   "metadata": {},
   "outputs": [],
   "source": [
    "def getAndParseURL(url):\n",
    "    result = requests.get(url)\n",
    "    soup = BeautifulSoup(result.text, 'html.parser')\n",
    "    return(soup)"
   ]
  },
  {
   "cell_type": "markdown",
   "metadata": {},
   "source": [
    "## Find book URLs on the main page"
   ]
  },
  {
   "cell_type": "markdown",
   "metadata": {},
   "source": [
    "Now let's start to dive deeper into the subject. In order to get the book data, we need to be able to access their product page. The first step consist in finding the URL of every book product page.\n",
    "\n",
    "In your browser, go onto the website main page, right-click on the name of a product and click on inspect. This will show you the HTML part of the web page corresponding to this element. Congratulations, you have found the first book link!\n",
    "\n",
    "Note the structure of the HTML code:"
   ]
  },
  {
   "cell_type": "markdown",
   "metadata": {},
   "source": [
    "<img src=\"images/inspect.png\">"
   ]
  },
  {
   "cell_type": "markdown",
   "metadata": {},
   "source": [
    "You can try this with every other product on the page: the structure is always the same. The link of the product corresponds to the 'href' attribute of the 'a' tag. This one belongs to an 'article' tag with the a class value 'product_pod'. This seems to be a reliable source to spot product URLs.\n",
    "\n",
    "BeautifulSoup enables us to find those special 'article' tags. We can wall the find() function in order to find the first occurence of this tag in the HTML:"
   ]
  },
  {
   "cell_type": "code",
   "execution_count": 7,
   "metadata": {},
   "outputs": [
    {
     "data": {
      "text/plain": [
       "<div class=\"card card-type-1\">\n",
       "<div class=\"wrapper clearfix\">\n",
       "<a class=\"col\" href=\"https://nasional.tempo.co/read/1181863/ksatria-airlangga-kasus-andi-arief-jokowi-serius-lawan-narkoba\">\n",
       "<img src=\"https://statik.tempo.co/data/2019/03/04/id_823956/823956_400.jpg\"/>\n",
       "</a>\n",
       "<a class=\"col\" href=\"https://nasional.tempo.co/read/1181863/ksatria-airlangga-kasus-andi-arief-jokowi-serius-lawan-narkoba\">\n",
       "<h2 class=\"title\">Ksatria Airlangga: Kasus Andi Arief, Jokowi Serius Lawan Narkoba</h2>\n",
       "<p>Ksatria Airlangga menyebut penangkapan Andi Arief bukti Jokowi serius lawan narkoba.</p>\n",
       "<span class=\"col\">4 Maret 2019 22:11 WIB</span>\n",
       "</a>\n",
       "</div>\n",
       "</div>"
      ]
     },
     "execution_count": 7,
     "metadata": {},
     "output_type": "execute_result"
    }
   ],
   "source": [
    "soup.find(\"div\", class_ = \"card card-type-1\")"
   ]
  },
  {
   "cell_type": "markdown",
   "metadata": {},
   "source": [
    "We still have too much information.\n",
    "\n",
    "Let's dive deeper in the tree by adding the other child tags:"
   ]
  },
  {
   "cell_type": "code",
   "execution_count": 8,
   "metadata": {},
   "outputs": [
    {
     "data": {
      "text/plain": [
       "<a class=\"col\" href=\"https://nasional.tempo.co/read/1181863/ksatria-airlangga-kasus-andi-arief-jokowi-serius-lawan-narkoba\">\n",
       "<img src=\"https://statik.tempo.co/data/2019/03/04/id_823956/823956_400.jpg\"/>\n",
       "</a>"
      ]
     },
     "execution_count": 8,
     "metadata": {},
     "output_type": "execute_result"
    }
   ],
   "source": [
    "soup.find(\"div\", class_ = \"card card-type-1\").div.a"
   ]
  },
  {
   "cell_type": "markdown",
   "metadata": {},
   "source": [
    "Much better! But we only need the URL contained in the 'href' value. \n",
    "\n",
    "We can get this by adding .get(\"href\") to the previous instruction:"
   ]
  },
  {
   "cell_type": "markdown",
   "metadata": {},
   "source": [
    "Ok, we managed to get our first product URL with BeautifulSoup. \n",
    "\n",
    "Now let's gather all the products URLs on the main web page at once using the findAll() function:"
   ]
  },
  {
   "cell_type": "code",
   "execution_count": 20,
   "metadata": {},
   "outputs": [
    {
     "name": "stdout",
     "output_type": "stream",
     "text": [
      "<class 'bs4.element.ResultSet'>\n",
      "42\n"
     ]
    },
    {
     "data": {
      "text/plain": [
       "['https://nasional.tempo.co/read/1181863/ksatria-airlangga-kasus-andi-arief-jokowi-serius-lawan-narkoba',\n",
       " 'https://nasional.tempo.co/read/1181849/soal-penangkapan-andi-arief-demokrat-masalah-sensitif-bagi-kami',\n",
       " 'https://nasional.tempo.co/read/1181838/andi-arief-ditangkap-demokrat-tak-ada-toleransi-untuk-narkoba',\n",
       " 'https://nasional.tempo.co/read/1181837/sebut-andi-arief-korban-polisi-buka-peluang-rehabilitasi',\n",
       " 'https://nasional.tempo.co/read/1181834/tkn-komentari-andi-arief-jokowi-serius-berantas-narkoba',\n",
       " 'https://nasional.tempo.co/read/1181828/andi-arief-terjerat-narkoba-psi-menyindir-lewat-cuitan',\n",
       " 'https://nasional.tempo.co/read/1181821/ada-dua-wna-di-dpt-pemilu-2019-kota-cirebon',\n",
       " 'https://nasional.tempo.co/read/1181820/kasus-suap-bakamla-kpk-bekukan-rekening-pt-merial-esa-rp-60-m',\n",
       " 'https://nasional.tempo.co/read/1181809/3-komentar-andi-arief-sepekan-sebelum-ditangkap-beri-jokowi-c',\n",
       " 'https://nasional.tempo.co/read/1181815/menteri-agama-dukung-ide-jokowi-soal-hari-sarung',\n",
       " 'https://nasional.tempo.co/read/1181811/sabu-andi-arief-di-dalam-kloset-polisi-itu-belum-tentu-benar',\n",
       " 'https://nasional.tempo.co/read/1181804/polisi-sebut-andi-arief-positif-gunakan-sabu',\n",
       " 'https://nasional.tempo.co/read/1181791/kabar-andi-arief-ditangkap-bersama-perempuan-polisi-dia-sendiri',\n",
       " 'https://nasional.tempo.co/read/1181784/ombudsman-ri-sebut-program-agraria-jokowi-jk-jalan-di-tempat',\n",
       " 'https://nasional.tempo.co/read/1181781/3-kontroversi-andi-arief-di-pilpres-jenderal-kardus-kontainer',\n",
       " 'https://nasional.tempo.co/read/1181761/demokrat-kabar-penangkapan-andi-arief-bak-petir-di-siang-bolong',\n",
       " 'https://nasional.tempo.co/read/1181760/andi-arief-ditangkap-psi-ragu-bawaslu-buka-mahar-rp-1-triliun',\n",
       " 'https://nasional.tempo.co/read/1181743/fadli-zon-jangan-bawa-urusan-rumah-tangga-pak-prabowo',\n",
       " 'https://nasional.tempo.co/read/1181740/andi-arief-ditangkap-budiman-sudjamtiko-apa-enaknya-narkoba-ndi',\n",
       " 'https://nasional.tempo.co/read/1181728/divisi-hukum-demokrat-cari-tahu-soal-penangkapan-andi-arief',\n",
       " 'https://nasional.tempo.co/read/1181727/demokrat-cari-info-soal-penangkapan-andi-arief-karena-narkoba',\n",
       " 'https://nasional.tempo.co/read/1181721/polisi-sebut-andi-arief-sempat-menolak-tes-urin-untuk-cek-narkoba',\n",
       " 'https://nasional.tempo.co/read/1181692/kubu-jokowi-dekat-abdul-somad-bpn-prabowo-sudah-terlambat',\n",
       " 'https://nasional.tempo.co/read/1181719/polisi-temukan-bong-sabu-diduga-milik-andi-arief-di-kloset-hotel',\n",
       " 'https://nasional.tempo.co/read/1181712/desak-muktamar-luar-biasa-nu-choirul-bantah-gergaji-maruf-amin',\n",
       " 'https://nasional.tempo.co/read/1181708/polisi-konfirmasi-tangkap-andi-arief-dugaan-kasus-narkoba',\n",
       " 'https://nasional.tempo.co/read/1181700/surya-paloh-jokowi-tak-pernah-atur-anaknya-dapat-proyek-besar',\n",
       " 'https://nasional.tempo.co/read/1181685/kpa-jokowi-sertifikasi-tanah-luput-soal-redistribusi-lahan',\n",
       " 'https://nasional.tempo.co/read/1181673/fadli-zon-sebut-sudah-lapor-lhkpn-ke-kpk',\n",
       " 'https://nasional.tempo.co/read/1181658/satgas-tinombala-tangkap-seorang-terduga-teroris-kelompok-mit']"
      ]
     },
     "execution_count": 20,
     "metadata": {},
     "output_type": "execute_result"
    }
   ],
   "source": [
    "a = soup.find('section', class_ = 'list list-type-1')\n",
    "containers = a.find_all('div', class_ = 'card card-type-1')\n",
    "print(type(containers))\n",
    "print(len(containers))\n",
    "main_page_products_urls = []\n",
    "for c in containers:\n",
    "    #print(c)\n",
    "    x = c.find('a')\n",
    "    a_link = x.get('href')\n",
    "    #print(a_link)\n",
    "    main_page_products_urls.append(a_link)\n",
    "    \n",
    "main_page_products_urls[:30]\n",
    "    "
   ]
  },
  {
   "cell_type": "code",
   "execution_count": 21,
   "metadata": {},
   "outputs": [
    {
     "name": "stdout",
     "output_type": "stream",
     "text": [
      "42 fetched products URLs\n",
      "One example:\n"
     ]
    },
    {
     "data": {
      "text/plain": [
       "'https://nasional.tempo.co/read/1181863/ksatria-airlangga-kasus-andi-arief-jokowi-serius-lawan-narkoba'"
      ]
     },
     "execution_count": 21,
     "metadata": {},
     "output_type": "execute_result"
    }
   ],
   "source": [
    "print(str(len(main_page_products_urls)) + \" fetched products URLs\")\n",
    "print(\"One example:\")\n",
    "main_page_products_urls[0]"
   ]
  },
  {
   "cell_type": "markdown",
   "metadata": {},
   "source": [
    "This function is very handy for finding all the values at once, but you have to check that all the information collected is relevant. Sometimes one same tag can contain completely different data. That is why it is important to be as specific as possible when choosing the tags. Here we decided to rely on the tag 'article' with the 'product_pod' class because this seems to be a very specific tag and it is unlikely that we can find data other than product data in it.\n",
    "\n",
    "The previous URLs correspond to their relative path from the main page. In order to make them complete, we just need to add before them the URL of the main page: http://books.toscrape.com/index.html (after removing the index.html part).\n",
    "\n",
    "Now let's use this to define a function to retrieve book links on any given page of the website:"
   ]
  },
  {
   "cell_type": "code",
   "execution_count": 22,
   "metadata": {},
   "outputs": [],
   "source": [
    "def getBooksURLs(url):\n",
    "   \n",
    "    #containers = a.find_all('div', class_ = 'card card-type-1')\n",
    "    \n",
    "    soup = getAndParseURL(url)\n",
    "    a = soup.find('section', class_ = 'list list-type-1')\n",
    "    # remove the index.html part of the base url before returning the results\n",
    "    return([x.div.a.get('href') for x in a.findAll(\"div\", class_ = \"card card-type-1\")])"
   ]
  },
  {
   "cell_type": "markdown",
   "metadata": {},
   "source": [
    "## Find book categories URLs on the main page\n",
    "\n",
    "Now let's try retrieving the URLs corresponding the different product categories:"
   ]
  },
  {
   "cell_type": "markdown",
   "metadata": {},
   "source": [
    "<img src=\"images/inspect2.png\">"
   ]
  },
  {
   "cell_type": "markdown",
   "metadata": {},
   "source": [
    "By inspecting, we can see that they follow the same URL pattern: 'catalogue/category/books'. \n",
    "\n",
    "We can tell BeautifulSoup to match the URLs that contain this pattern in order to retrieve easily the categories URLs:"
   ]
  },
  {
   "cell_type": "code",
   "execution_count": 12,
   "metadata": {
    "scrolled": true
   },
   "outputs": [
    {
     "name": "stdout",
     "output_type": "stream",
     "text": [
      "0 fetched categories URLs\n",
      "Some examples:\n"
     ]
    },
    {
     "data": {
      "text/plain": [
       "[]"
      ]
     },
     "execution_count": 12,
     "metadata": {},
     "output_type": "execute_result"
    }
   ],
   "source": [
    "import re\n",
    "\n",
    "categories_urls = [main_url + x.get('href') for x in soup.find_all(\"a\", href=re.compile(\"catalogue/category/books\"))]\n",
    "categories_urls = categories_urls[1:] # we remove the first one because it corresponds to all the books\n",
    "\n",
    "print(str(len(categories_urls)) + \" fetched categories URLs\")\n",
    "print(\"Some examples:\")\n",
    "categories_urls[:5]"
   ]
  },
  {
   "cell_type": "markdown",
   "metadata": {},
   "source": [
    "We managed to retrieve the 50 categories URLs successfully! \n",
    "\n",
    "Remember to always check what you fetched to be sure that all the information is relevant.\n",
    "\n",
    "Getting the URLs of subsections of a website can be very useful if we want to scrape a specific part of it."
   ]
  },
  {
   "cell_type": "markdown",
   "metadata": {},
   "source": [
    "## Scrape all books data"
   ]
  },
  {
   "cell_type": "markdown",
   "metadata": {},
   "source": [
    "For the last part of this tutorial, we will finally tackle our main objective: gather data about all the books of the website.\n",
    "\n",
    "We know how to get the links of the books within a given page. If all the books were displayed on a same page this would be easy. However this situation is unlikely as it is not very user friendly to display all the catalog to the user on the same page.\n",
    "\n",
    "Usually products are displayed on multiple pages or on one page but through scrolling. We can see here at the bottom of the main page that there are 50 products pages and a button 'next' to access to the next product page."
   ]
  },
  {
   "cell_type": "markdown",
   "metadata": {},
   "source": [
    "<img src=\"images/next.png\">"
   ]
  },
  {
   "cell_type": "markdown",
   "metadata": {},
   "source": [
    "On the next pages there is also a 'previous' button to come back to the last product page."
   ]
  },
  {
   "cell_type": "markdown",
   "metadata": {},
   "source": [
    "<img src=\"images/previous_next.png\">"
   ]
  },
  {
   "cell_type": "markdown",
   "metadata": {},
   "source": [
    "### Get all pages URLs"
   ]
  },
  {
   "cell_type": "markdown",
   "metadata": {},
   "source": [
    "In order to fetch all the products URLs, we need to be able to get through all the pages. To do so, we can go iteratively through all the 'next' buttons."
   ]
  },
  {
   "cell_type": "markdown",
   "metadata": {},
   "source": [
    "<img src=\"images/next_inspect.png\">"
   ]
  },
  {
   "cell_type": "markdown",
   "metadata": {},
   "source": [
    "The 'next' button contains the pattern 'page'. We can use this to retrieve the URLs of the next pages. But let's be careful: the 'previous' button also contains this pattern!\n",
    "\n",
    "If we have two results when matching with 'page', we should take the second one as it will correspond to the next page. For the first and the last pages we will have only one result because we will have either the 'next' button or the 'previous' button."
   ]
  },
  {
   "cell_type": "code",
   "execution_count": 13,
   "metadata": {},
   "outputs": [],
   "source": [
    "# store all the results into a list\n",
    "pages_urls = [main_url]\n",
    "\n",
    "soup = getAndParseURL(pages_urls[0])\n",
    "\n",
    "# while we get two matches, this means that the web page contains a 'previous' and a 'next' button\n",
    "# if there is only one button, this means that we are either on the first page or on the last page\n",
    "# we stop when we get to the last page\n",
    "\n",
    "while len(soup.findAll(\"a\", href=re.compile(\"page\"))) == 2 or len(pages_urls) == 1:\n",
    "    \n",
    "    # get the new complete url by adding the fetched URL to the base URL (and removing the .html part of the base URL)\n",
    "    new_url = \"/\".join(pages_urls[-1].split(\"/\")[:-1]) + \"/\" + soup.findAll(\"a\", href=re.compile(\"page\"))[-1].get(\"href\")\n",
    "    \n",
    "    # add the URL to the list\n",
    "    pages_urls.append(new_url)\n",
    "    \n",
    "    # parse the next page\n",
    "    soup = getAndParseURL(new_url)"
   ]
  },
  {
   "cell_type": "code",
   "execution_count": 14,
   "metadata": {},
   "outputs": [
    {
     "name": "stdout",
     "output_type": "stream",
     "text": [
      "50 fetched URLs\n",
      "Some examples:\n"
     ]
    },
    {
     "data": {
      "text/plain": [
       "['http://books.toscrape.com/index.html',\n",
       " u'http://books.toscrape.com/catalogue/page-2.html',\n",
       " u'http://books.toscrape.com/catalogue/page-3.html',\n",
       " u'http://books.toscrape.com/catalogue/page-4.html',\n",
       " u'http://books.toscrape.com/catalogue/page-5.html']"
      ]
     },
     "execution_count": 14,
     "metadata": {},
     "output_type": "execute_result"
    }
   ],
   "source": [
    "print(str(len(pages_urls)) + \" fetched URLs\")\n",
    "print(\"Some examples:\")\n",
    "pages_urls[:5]"
   ]
  },
  {
   "cell_type": "markdown",
   "metadata": {},
   "source": [
    "We successfully managed to get the 50 pages URLs. What is interesting here is that the URL of those pages is highly predictable. We could have just created this list by incrementing 'page-X.html' until 50.\n",
    "\n",
    "This solution could work for this exact example but would not work anymore if the number of pages changed (e.g. if the website decided to print more products per pages, or if the catalog changed).\n",
    "\n",
    "One solution could be to increment the value until we get on a 404 page."
   ]
  },
  {
   "cell_type": "markdown",
   "metadata": {},
   "source": [
    "<img src=\"images/404.png\">"
   ]
  },
  {
   "cell_type": "markdown",
   "metadata": {},
   "source": [
    "Here we can see that trying to go to the 51th page effectively gets us a 404 error. \n",
    "\n",
    "Fortunately the result of a request has a very useful attribute that can show us the return status of the HTML request."
   ]
  },
  {
   "cell_type": "code",
   "execution_count": 49,
   "metadata": {},
   "outputs": [
    {
     "name": "stdout",
     "output_type": "stream",
     "text": [
      "status code for page 50: 200\n",
      "status code for page 51: 200\n"
     ]
    }
   ],
   "source": [
    "result = requests.get(\"https://www.tempo.co/indeks/2019/03/04/nasional\")\n",
    "print(\"status code for page 50: \" + str(result.status_code))\n",
    "\n",
    "result = requests.get(\"https://www.tempo.co/indeks/2019/03/37/nasional\")\n",
    "print(\"status code for page 51: \" + str(result.status_code))"
   ]
  },
  {
   "cell_type": "markdown",
   "metadata": {},
   "source": [
    "The 200 code indicates that there is no error. The 404 code tells us that the page was not found.\n",
    "\n",
    "We can use this information to get all our pages URLs: we should iterate until we get a 404 code.\n",
    "\n",
    "Let's try this method now:"
   ]
  },
  {
   "cell_type": "code",
   "execution_count": 23,
   "metadata": {},
   "outputs": [],
   "source": [
    "#str(int(pages_urls[-1].split(\"/\")[6]) + 1 )\n",
    "pages_urls = []\n",
    "tahun = [\"2019\"]\n",
    "bulan = [\"01\", \"02\", \"03\", \"04\", \"05\", \"06\", \"07\", \"08\", \"09\", \"10\", \"11\", \"12\"]\n",
    "tgl = [\"01\", \"02\", \"03\", \"04\", \"05\", \"06\", \"07\", \"08\", \"09\", \"10\", \"11\", \"12\", \"13\", \"14\", \"15\", \"16\", \"17\", \"18\", \"19\", \"20\", \"21\", \"22\", \"23\", \"24\", \"25\", \"26\", \"27\", \"28\", \"29\", \"30\", \"31\"]\n",
    "new_page = \"https://www.tempo.co/indeks/2019/01/01/nasional\"\n",
    "#while requests.get(new_page).status_code == 200:\n",
    "for y in bulan:\n",
    "    for x in tgl:\n",
    "            pages_urls.append(new_page)\n",
    "            new_page = pages_urls[-1].split(\"/\")[0] + \"/\" + pages_urls[-1].split(\"/\")[1] + \"/\" + pages_urls[-1].split(\"/\")[2] + \"/\" + pages_urls[-1].split(\"/\")[3] + \"/\" + \"2019/\" + y + \"/\" + x + \"/nasional\"\n",
    "    \n",
    "    \n",
    "    #new_page = pages_urls[-1].split(\"/\")[0] + \"/\" + pages_urls[-1].split(\"/\")[1] + \"/\" + pages_urls[-1].split(\"/\")[2] + \"/\" + pages_urls[-1].split(\"/\")[3] + \"/\" + pages_urls[-1].split(\"/\")[4] + \"/\" + pages_urls[-1].split(\"/\")[5] + \"/\" + str(x) + \"/\" + pages_urls[-1].split(\"/\")[7]\n",
    "    "
   ]
  },
  {
   "cell_type": "code",
   "execution_count": 25,
   "metadata": {},
   "outputs": [
    {
     "name": "stdout",
     "output_type": "stream",
     "text": [
      "372 fetched URLs\n",
      "Some examples:\n"
     ]
    },
    {
     "data": {
      "text/plain": [
       "['https://www.tempo.co/indeks/2019/10/21/nasional',\n",
       " 'https://www.tempo.co/indeks/2019/10/22/nasional',\n",
       " 'https://www.tempo.co/indeks/2019/10/23/nasional',\n",
       " 'https://www.tempo.co/indeks/2019/10/24/nasional',\n",
       " 'https://www.tempo.co/indeks/2019/10/25/nasional',\n",
       " 'https://www.tempo.co/indeks/2019/10/26/nasional',\n",
       " 'https://www.tempo.co/indeks/2019/10/27/nasional',\n",
       " 'https://www.tempo.co/indeks/2019/10/28/nasional',\n",
       " 'https://www.tempo.co/indeks/2019/10/29/nasional',\n",
       " 'https://www.tempo.co/indeks/2019/10/30/nasional',\n",
       " 'https://www.tempo.co/indeks/2019/10/31/nasional',\n",
       " 'https://www.tempo.co/indeks/2019/11/01/nasional',\n",
       " 'https://www.tempo.co/indeks/2019/11/02/nasional',\n",
       " 'https://www.tempo.co/indeks/2019/11/03/nasional',\n",
       " 'https://www.tempo.co/indeks/2019/11/04/nasional',\n",
       " 'https://www.tempo.co/indeks/2019/11/05/nasional',\n",
       " 'https://www.tempo.co/indeks/2019/11/06/nasional',\n",
       " 'https://www.tempo.co/indeks/2019/11/07/nasional',\n",
       " 'https://www.tempo.co/indeks/2019/11/08/nasional',\n",
       " 'https://www.tempo.co/indeks/2019/11/09/nasional',\n",
       " 'https://www.tempo.co/indeks/2019/11/10/nasional',\n",
       " 'https://www.tempo.co/indeks/2019/11/11/nasional',\n",
       " 'https://www.tempo.co/indeks/2019/11/12/nasional',\n",
       " 'https://www.tempo.co/indeks/2019/11/13/nasional',\n",
       " 'https://www.tempo.co/indeks/2019/11/14/nasional',\n",
       " 'https://www.tempo.co/indeks/2019/11/15/nasional',\n",
       " 'https://www.tempo.co/indeks/2019/11/16/nasional',\n",
       " 'https://www.tempo.co/indeks/2019/11/17/nasional',\n",
       " 'https://www.tempo.co/indeks/2019/11/18/nasional',\n",
       " 'https://www.tempo.co/indeks/2019/11/19/nasional',\n",
       " 'https://www.tempo.co/indeks/2019/11/20/nasional',\n",
       " 'https://www.tempo.co/indeks/2019/11/21/nasional',\n",
       " 'https://www.tempo.co/indeks/2019/11/22/nasional',\n",
       " 'https://www.tempo.co/indeks/2019/11/23/nasional',\n",
       " 'https://www.tempo.co/indeks/2019/11/24/nasional',\n",
       " 'https://www.tempo.co/indeks/2019/11/25/nasional',\n",
       " 'https://www.tempo.co/indeks/2019/11/26/nasional',\n",
       " 'https://www.tempo.co/indeks/2019/11/27/nasional',\n",
       " 'https://www.tempo.co/indeks/2019/11/28/nasional',\n",
       " 'https://www.tempo.co/indeks/2019/11/29/nasional',\n",
       " 'https://www.tempo.co/indeks/2019/11/30/nasional',\n",
       " 'https://www.tempo.co/indeks/2019/11/31/nasional',\n",
       " 'https://www.tempo.co/indeks/2019/12/01/nasional',\n",
       " 'https://www.tempo.co/indeks/2019/12/02/nasional',\n",
       " 'https://www.tempo.co/indeks/2019/12/03/nasional',\n",
       " 'https://www.tempo.co/indeks/2019/12/04/nasional',\n",
       " 'https://www.tempo.co/indeks/2019/12/05/nasional',\n",
       " 'https://www.tempo.co/indeks/2019/12/06/nasional',\n",
       " 'https://www.tempo.co/indeks/2019/12/07/nasional',\n",
       " 'https://www.tempo.co/indeks/2019/12/08/nasional',\n",
       " 'https://www.tempo.co/indeks/2019/12/09/nasional',\n",
       " 'https://www.tempo.co/indeks/2019/12/10/nasional',\n",
       " 'https://www.tempo.co/indeks/2019/12/11/nasional',\n",
       " 'https://www.tempo.co/indeks/2019/12/12/nasional',\n",
       " 'https://www.tempo.co/indeks/2019/12/13/nasional',\n",
       " 'https://www.tempo.co/indeks/2019/12/14/nasional',\n",
       " 'https://www.tempo.co/indeks/2019/12/15/nasional',\n",
       " 'https://www.tempo.co/indeks/2019/12/16/nasional',\n",
       " 'https://www.tempo.co/indeks/2019/12/17/nasional',\n",
       " 'https://www.tempo.co/indeks/2019/12/18/nasional',\n",
       " 'https://www.tempo.co/indeks/2019/12/19/nasional',\n",
       " 'https://www.tempo.co/indeks/2019/12/20/nasional',\n",
       " 'https://www.tempo.co/indeks/2019/12/21/nasional',\n",
       " 'https://www.tempo.co/indeks/2019/12/22/nasional',\n",
       " 'https://www.tempo.co/indeks/2019/12/23/nasional',\n",
       " 'https://www.tempo.co/indeks/2019/12/24/nasional',\n",
       " 'https://www.tempo.co/indeks/2019/12/25/nasional',\n",
       " 'https://www.tempo.co/indeks/2019/12/26/nasional',\n",
       " 'https://www.tempo.co/indeks/2019/12/27/nasional',\n",
       " 'https://www.tempo.co/indeks/2019/12/28/nasional',\n",
       " 'https://www.tempo.co/indeks/2019/12/29/nasional',\n",
       " 'https://www.tempo.co/indeks/2019/12/30/nasional']"
      ]
     },
     "execution_count": 25,
     "metadata": {},
     "output_type": "execute_result"
    }
   ],
   "source": [
    "print(str(len(pages_urls)) + \" fetched URLs\")\n",
    "print(\"Some examples:\")\n",
    "pages_urls[300:373]"
   ]
  },
  {
   "cell_type": "markdown",
   "metadata": {},
   "source": [
    "We managed to obtain the same URLs using this simpler method!"
   ]
  },
  {
   "cell_type": "markdown",
   "metadata": {},
   "source": [
    "### Get all products URLs\n",
    "\n",
    "Now the next step consists in fetching all the products URLs for every page. This step is quite simple as we already have the list of all pages and the function to get products URLs from a page.\n",
    "\n",
    "Let's iterate through the pages and apply our function:"
   ]
  },
  {
   "cell_type": "code",
   "execution_count": 26,
   "metadata": {},
   "outputs": [],
   "source": [
    "booksURLs = []\n",
    "for page in pages_urls:\n",
    "    booksURLs.extend(getBooksURLs(page))"
   ]
  },
  {
   "cell_type": "code",
   "execution_count": 28,
   "metadata": {},
   "outputs": [
    {
     "name": "stdout",
     "output_type": "stream",
     "text": [
      "3081 fetched URLs\n",
      "Some examples:\n"
     ]
    },
    {
     "data": {
      "text/plain": [
       "['https://nasional.tempo.co/read/1186893/korban-meninggal-banjir-sentani-mencapai-89-orang-74-hilang',\n",
       " 'https://nasional.tempo.co/read/1186884/banser-cabut-laporan-atas-tirto-id-soal-kartun-provokatif-nu',\n",
       " 'https://nasional.tempo.co/read/1186882/senior-minta-golkar-tak-ambil-sikap-ekstrem-soal-erwin-aksa',\n",
       " 'https://nasional.tempo.co/read/1186869/golkar-gelar-rapat-khusus-bahas-dukungan-erwin-aksa-ke-sandiaga',\n",
       " 'https://nasional.tempo.co/read/1186859/kegiatan-disisipi-politik-kompolnas-ingatkan-netralitas-polri',\n",
       " 'https://nasional.tempo.co/read/1186851/jokowi-segera-integrasikan-sistem-transportasi-jabodetabek',\n",
       " 'https://nasional.tempo.co/read/1186825/kpk-sita-laptop-dari-rumah-romahurmuziy',\n",
       " 'https://nasional.tempo.co/read/1186820/3-fakta-seputar-kontroversi-ajakan-dukung-jokowi-di-acara-polri',\n",
       " 'https://nasional.tempo.co/read/1186816/kpk-sita-uang-dari-ruang-menteri-agama-sekjen-ppp-honor-pribadi',\n",
       " 'https://nasional.tempo.co/read/1186808/ky-disarankan-usut-tudingan-pelanggaran-etik-komisionernya',\n",
       " 'https://nasional.tempo.co/read/1186804/kpk-geledah-rumah-tersangka-jual-beli-jabatan-romahurmuziy',\n",
       " 'https://nasional.tempo.co/read/1186785/eks-irjen-kemenag-menteri-harusnya-tahu-ada-jual-beli-jabatan',\n",
       " 'https://nasional.tempo.co/read/1186782/erwin-aksa-cerita-keluarga-besar-yang-kerap-beda-pilihan-politik',\n",
       " 'https://nasional.tempo.co/read/1186777/erwin-aksa-dukung-sandiaga-bpn-sebut-cuma-bahlil-hipmi-ke-jokowi',\n",
       " 'https://nasional.tempo.co/read/1186767/suharso-monoarfa-dikukuhkan-jadi-ketua-umum-ppp-besok',\n",
       " 'https://nasional.tempo.co/read/1186757/bnpb-peringatkan-potensi-banjir-dan-longsor-sampai-21-maret',\n",
       " 'https://nasional.tempo.co/read/1186750/h2-pengungsi-akibat-banjir-sentani-hampir-5000-orang',\n",
       " 'https://nasional.tempo.co/read/1186744/ada-ajakan-dukung-jokowi-polri-bantah-acaranya-berbau-politik',\n",
       " 'https://nasional.tempo.co/read/1186734/pemerintah-kaget-teror-di-selandia-baru-yang-masuk-negara-aman',\n",
       " 'https://nasional.tempo.co/read/1186687/kpk-banyak-aduan-terkait-dugaan-jual-beli-jabatan-romahurmuziy',\n",
       " 'https://nasional.tempo.co/read/1186728/pengamat-maruf-amin-sandiaga-belum-tawarkan-tata-kelola-riset',\n",
       " 'https://nasional.tempo.co/read/1186686/dahnil-anzar-jelaskan-alasan-sandiaga-ingin-hapus-ujian-nasional',\n",
       " 'https://nasional.tempo.co/read/1186688/kala-iriana-jokowi-dan-istri-jusuf-kalla-merasakan-berdiri-di-mrt',\n",
       " 'https://nasional.tempo.co/read/1186707/kementerian-agama-tolak-komentari-uang-di-ruangan-menteri-lukman',\n",
       " 'https://nasional.tempo.co/read/1186711/kementerian-agama-pastikan-seleksi-jabatan-sesuai-aturan',\n",
       " 'https://nasional.tempo.co/read/1186697/erwin-aksa-cerita-keputusan-mendukung-prabowo-ketimbang-jokowi',\n",
       " 'https://nasional.tempo.co/read/1186694/penyandang-dana-teroris-sibolga-berikan-uang-untuk-beli-bahan-bom',\n",
       " 'https://nasional.tempo.co/read/1187521/penyebab-kematian-45-hiu-di-kolam-karimunjawa-belum-diketahui',\n",
       " 'https://nasional.tempo.co/read/1187520/menjelang-pilpres-2019-megawati-ziarah-ke-makam-bung-karno',\n",
       " 'https://nasional.tempo.co/read/1187519/plt-ketum-ppp-suharso-monoarfa-saya-mau-ppp-bangkit',\n",
       " 'https://nasional.tempo.co/read/1187511/pidato-pertama-sebagai-plt-ketum-ppp-suharso-monoarfa-menangis',\n",
       " 'https://nasional.tempo.co/read/1187491/polisi-tahan-petani-bawang-subkhan-atas-dugaan-penganiayaan',\n",
       " 'https://nasional.tempo.co/read/1187473/ppp-resmi-jadi-ketum-suharso-monoarfa-mundur-dari-wantimpres',\n",
       " 'https://nasional.tempo.co/read/1187472/taufik-kurniawan-didakwa-terima-suap-rp-485-miliar-dari-2-bupati',\n",
       " 'https://nasional.tempo.co/read/1187467/dpp-ppp-belum-bulat-soal-suharso-monoarfa-sebagai-plt-ketua-umum',\n",
       " 'https://nasional.tempo.co/read/1187458/halangi-penyidikan-eddy-sindoro-lucas-dihukum-7-tahun-bui',\n",
       " 'https://nasional.tempo.co/read/1187430/densus-88-tangkap-seorang-terduga-teroris-di-kalimantan-timur',\n",
       " 'https://nasional.tempo.co/read/1187410/fahmi-divonis-35-tahun-bui-inneke-koesherawati-sabar-saja',\n",
       " 'https://nasional.tempo.co/read/1187400/suap-kalapas-sukamiskin-fahmi-darmawansyah-divonis-35-tahun-bui',\n",
       " 'https://nasional.tempo.co/read/1187397/jaksa-taufik-kurniawan-pesan-tiga-kamar-untuk-transaksi-suap',\n",
       " 'https://nasional.tempo.co/read/1187375/kpk-sita-uang-menteri-agama-humas-penjelasan-rinci-dari-kpk',\n",
       " 'https://nasional.tempo.co/read/1187370/kader-muda-ppp-ingin-muktamar-luar-biasa-6-bulan-setelah-mukernas',\n",
       " 'https://nasional.tempo.co/read/1187316/jurnalis-akademisi-ahli-ham-sepakat-toleransi-harus-diupayakan',\n",
       " 'https://nasional.tempo.co/read/1187339/sandiaga-terharu-erwin-aksa-lepas-jabatan-di-golkar-demi-dirinya',\n",
       " 'https://nasional.tempo.co/read/1187329/bnpb-masih-mendata-berikut-bangunan-rusak-akibat-banjir-sentani',\n",
       " 'https://nasional.tempo.co/read/1187326/kpk-bawa-2-koperdari-kantor-kementerian-agama-gresik',\n",
       " 'https://nasional.tempo.co/read/1187317/hingga-tadi-pagi-korban-tewas-banjir-sentani-104-orang',\n",
       " 'https://nasional.tempo.co/read/1187297/anggota-brimob-gugur-dalam-baku-tembak-dengan-kkb-di-nduga',\n",
       " 'https://nasional.tempo.co/read/1187268/pengadilan-tipikor-akan-bacakan-putusan-advokat-lucas-hari-ini',\n",
       " 'https://nasional.tempo.co/read/1187257/titik-panas-di-riau-meningkat-nyaris-100-persen-dalam-dua-hari',\n",
       " 'https://nasional.tempo.co/read/1187252/dialog-indo-pasifik-jk-ingatkan-penguatan-ekonomi-keamanan',\n",
       " 'https://nasional.tempo.co/read/1187205/tak-hanya-ke-erwin-aksa-kubu-prabowo-sebut-dekati-aksa-mahmud',\n",
       " 'https://nasional.tempo.co/read/1187197/mukernas-ppp-kukuhkan-plt-ketua-umum-hasil-rapat-harian',\n",
       " 'https://nasional.tempo.co/read/1187189/tagar-polisi-dukung-jokowi-trending-di-twitter',\n",
       " 'https://nasional.tempo.co/read/1187177/peneliti-senior-siapkan-beberapa-strategi-turunkan-kepala-lipi',\n",
       " 'https://nasional.tempo.co/read/1187173/cegah-banjir-sentani-terulang-klhk-keluarkan-4-rekomendasi',\n",
       " 'https://nasional.tempo.co/read/1187166/ppp-jawa-tengah-dukung-suharso-monoarfa-gantikan-romahurmuziy',\n",
       " 'https://nasional.tempo.co/read/1187160/presiden-jokowi-persilakan-kpk-periksa-menteri-agama-lukman-hakim',\n",
       " 'https://nasional.tempo.co/read/1187156/ppp-sebut-pemilihan-suharso-monoarfa-sebagai-ketua-sesuai-adart',\n",
       " 'https://nasional.tempo.co/read/1187152/periksa-menteri-agama-kpk-akan-dalami-asal-duit-ratusan-juta',\n",
       " 'https://nasional.tempo.co/read/1187149/kubu-jokowi-dihantui-tingginya-angka-golput',\n",
       " 'https://nasional.tempo.co/read/1187127/penyebar-video-hoaks-surat-suara-tercoblos-01-ditangkap',\n",
       " 'https://nasional.tempo.co/read/1187123/banjir-sentani-pln-telah-pulihkan-69-gardu-listrik-di-jayapura',\n",
       " 'https://nasional.tempo.co/read/1187122/agung-laksono-dukung-pemecatan-erwin-aksa-dari-partai-golkar',\n",
       " 'https://nasional.tempo.co/read/1187120/teror-di-selandia-baru-australia-khawatirkan-aksi-balas-dendam',\n",
       " 'https://nasional.tempo.co/read/1187116/menkes-sangsi-sandiaga-mampu-selesaikan-defisit-bpjs-kesehatan',\n",
       " 'https://nasional.tempo.co/read/1187121/nganjuk-diguncang-gempa-bumi-tidak-berpotensi-tsunami',\n",
       " 'https://nasional.tempo.co/read/1187606/teduga-teroris-meninggal-dunia-di-rumah-sakit-polri-kramat-jati',\n",
       " 'https://nasional.tempo.co/read/1187602/suharso-monoarfa-mengundurkan-diri-dari-wantimpres',\n",
       " 'https://nasional.tempo.co/read/1187583/kronologi-dugaan-penganiayaan-oleh-petani-bawang-subkhan',\n",
       " 'https://nasional.tempo.co/read/1187577/suharso-monoarfa-cerita-kejatuhan-ppp-setelah-pemilu-2004',\n",
       " 'https://nasional.tempo.co/read/1187576/suharso-monoarfa-ajak-kubu-ppp-djan-faridz-islah',\n",
       " 'https://nasional.tempo.co/read/1187523/suharso-monoarfa-tegaskan-jadi-plt-ketum-ppp-sesuai-adart',\n",
       " 'https://nasional.tempo.co/read/1187544/menteri-agama-tolak-jelaskan-uang-yang-disita-kpk-dari-ruangannya',\n",
       " 'https://nasional.tempo.co/read/1187535/maimoen-zubair-5-kali-minta-suharso-monoarfa-jadi-plt-ketum-ppp',\n",
       " 'https://nasional.tempo.co/read/1187533/jadi-plt-ketum-ppp-suharso-monoarfa-saya-dilamar-bukan-menawarkan-diri',\n",
       " 'https://nasional.tempo.co/read/1187534/wiranto-anggap-ancaman-hoax-ke-masyarakat-serupa-terorisme',\n",
       " 'https://nasional.tempo.co/read/1187531/polri-tunda-millenial-safety-road-festival-2019',\n",
       " 'https://nasional.tempo.co/read/1187530/kata-aher-soal-diperiksa-dalam-2-kasus-pada-2-pekan-terakhir',\n",
       " 'https://nasional.tempo.co/read/1187529/dicecar-pertemuan-dengan-neneng-di-moskow-begini-jawaban-aher',\n",
       " 'https://nasional.tempo.co/read/1187527/ppp-kukuhkan-suharso-monoarfa-plt-ketum-dalam-30-menit-mukernas']"
      ]
     },
     "execution_count": 28,
     "metadata": {},
     "output_type": "execute_result"
    }
   ],
   "source": [
    "print(str(len(booksURLs)) + \" fetched URLs\")\n",
    "print(\"Some examples:\")\n",
    "booksURLs[3000:3082]"
   ]
  },
  {
   "cell_type": "markdown",
   "metadata": {},
   "source": [
    "We finally got the 1000 book URLs. This corresponds to the number indicated on the website!"
   ]
  },
  {
   "cell_type": "markdown",
   "metadata": {},
   "source": [
    "### Get product data\n",
    "\n",
    "The last step consist in scraping the data for each product. Let's explore first how the information is structured on the products pages:"
   ]
  },
  {
   "cell_type": "markdown",
   "metadata": {},
   "source": [
    "<img src=\"images/product_inspect.png\">"
   ]
  },
  {
   "cell_type": "markdown",
   "metadata": {},
   "source": [
    "We can easily retrieve a lot of information for every book:\n",
    "- book title\n",
    "- price\n",
    "- availability\n",
    "- image\n",
    "- category\n",
    "- rating\n",
    "\n",
    "Let's do it!"
   ]
  },
  {
   "cell_type": "code",
   "execution_count": 30,
   "metadata": {},
   "outputs": [
    {
     "ename": "KeyboardInterrupt",
     "evalue": "",
     "output_type": "error",
     "traceback": [
      "\u001b[1;31m---------------------------------------------------------------------------\u001b[0m",
      "\u001b[1;31mTypeError\u001b[0m                                 Traceback (most recent call last)",
      "\u001b[1;32m~\\Anaconda3\\lib\\site-packages\\urllib3\\connectionpool.py\u001b[0m in \u001b[0;36m_make_request\u001b[1;34m(self, conn, method, url, timeout, chunked, **httplib_request_kw)\u001b[0m\n\u001b[0;32m    379\u001b[0m             \u001b[1;32mtry\u001b[0m\u001b[1;33m:\u001b[0m  \u001b[1;31m# Python 2.7, use buffering of HTTP responses\u001b[0m\u001b[1;33m\u001b[0m\u001b[0m\n\u001b[1;32m--> 380\u001b[1;33m                 \u001b[0mhttplib_response\u001b[0m \u001b[1;33m=\u001b[0m \u001b[0mconn\u001b[0m\u001b[1;33m.\u001b[0m\u001b[0mgetresponse\u001b[0m\u001b[1;33m(\u001b[0m\u001b[0mbuffering\u001b[0m\u001b[1;33m=\u001b[0m\u001b[1;32mTrue\u001b[0m\u001b[1;33m)\u001b[0m\u001b[1;33m\u001b[0m\u001b[0m\n\u001b[0m\u001b[0;32m    381\u001b[0m             \u001b[1;32mexcept\u001b[0m \u001b[0mTypeError\u001b[0m\u001b[1;33m:\u001b[0m  \u001b[1;31m# Python 2.6 and older, Python 3\u001b[0m\u001b[1;33m\u001b[0m\u001b[0m\n",
      "\u001b[1;31mTypeError\u001b[0m: getresponse() got an unexpected keyword argument 'buffering'",
      "\nDuring handling of the above exception, another exception occurred:\n",
      "\u001b[1;31mKeyboardInterrupt\u001b[0m                         Traceback (most recent call last)",
      "\u001b[1;32m<timed exec>\u001b[0m in \u001b[0;36m<module>\u001b[1;34m()\u001b[0m\n",
      "\u001b[1;32m<ipython-input-6-024895b673f6>\u001b[0m in \u001b[0;36mgetAndParseURL\u001b[1;34m(url)\u001b[0m\n\u001b[0;32m      1\u001b[0m \u001b[1;32mdef\u001b[0m \u001b[0mgetAndParseURL\u001b[0m\u001b[1;33m(\u001b[0m\u001b[0murl\u001b[0m\u001b[1;33m)\u001b[0m\u001b[1;33m:\u001b[0m\u001b[1;33m\u001b[0m\u001b[0m\n\u001b[1;32m----> 2\u001b[1;33m     \u001b[0mresult\u001b[0m \u001b[1;33m=\u001b[0m \u001b[0mrequests\u001b[0m\u001b[1;33m.\u001b[0m\u001b[0mget\u001b[0m\u001b[1;33m(\u001b[0m\u001b[0murl\u001b[0m\u001b[1;33m)\u001b[0m\u001b[1;33m\u001b[0m\u001b[0m\n\u001b[0m\u001b[0;32m      3\u001b[0m     \u001b[0msoup\u001b[0m \u001b[1;33m=\u001b[0m \u001b[0mBeautifulSoup\u001b[0m\u001b[1;33m(\u001b[0m\u001b[0mresult\u001b[0m\u001b[1;33m.\u001b[0m\u001b[0mtext\u001b[0m\u001b[1;33m,\u001b[0m \u001b[1;34m'html.parser'\u001b[0m\u001b[1;33m)\u001b[0m\u001b[1;33m\u001b[0m\u001b[0m\n\u001b[0;32m      4\u001b[0m     \u001b[1;32mreturn\u001b[0m\u001b[1;33m(\u001b[0m\u001b[0msoup\u001b[0m\u001b[1;33m)\u001b[0m\u001b[1;33m\u001b[0m\u001b[0m\n",
      "\u001b[1;32m~\\Anaconda3\\lib\\site-packages\\requests\\api.py\u001b[0m in \u001b[0;36mget\u001b[1;34m(url, params, **kwargs)\u001b[0m\n\u001b[0;32m     70\u001b[0m \u001b[1;33m\u001b[0m\u001b[0m\n\u001b[0;32m     71\u001b[0m     \u001b[0mkwargs\u001b[0m\u001b[1;33m.\u001b[0m\u001b[0msetdefault\u001b[0m\u001b[1;33m(\u001b[0m\u001b[1;34m'allow_redirects'\u001b[0m\u001b[1;33m,\u001b[0m \u001b[1;32mTrue\u001b[0m\u001b[1;33m)\u001b[0m\u001b[1;33m\u001b[0m\u001b[0m\n\u001b[1;32m---> 72\u001b[1;33m     \u001b[1;32mreturn\u001b[0m \u001b[0mrequest\u001b[0m\u001b[1;33m(\u001b[0m\u001b[1;34m'get'\u001b[0m\u001b[1;33m,\u001b[0m \u001b[0murl\u001b[0m\u001b[1;33m,\u001b[0m \u001b[0mparams\u001b[0m\u001b[1;33m=\u001b[0m\u001b[0mparams\u001b[0m\u001b[1;33m,\u001b[0m \u001b[1;33m**\u001b[0m\u001b[0mkwargs\u001b[0m\u001b[1;33m)\u001b[0m\u001b[1;33m\u001b[0m\u001b[0m\n\u001b[0m\u001b[0;32m     73\u001b[0m \u001b[1;33m\u001b[0m\u001b[0m\n\u001b[0;32m     74\u001b[0m \u001b[1;33m\u001b[0m\u001b[0m\n",
      "\u001b[1;32m~\\Anaconda3\\lib\\site-packages\\requests\\api.py\u001b[0m in \u001b[0;36mrequest\u001b[1;34m(method, url, **kwargs)\u001b[0m\n\u001b[0;32m     56\u001b[0m     \u001b[1;31m# cases, and look like a memory leak in others.\u001b[0m\u001b[1;33m\u001b[0m\u001b[1;33m\u001b[0m\u001b[0m\n\u001b[0;32m     57\u001b[0m     \u001b[1;32mwith\u001b[0m \u001b[0msessions\u001b[0m\u001b[1;33m.\u001b[0m\u001b[0mSession\u001b[0m\u001b[1;33m(\u001b[0m\u001b[1;33m)\u001b[0m \u001b[1;32mas\u001b[0m \u001b[0msession\u001b[0m\u001b[1;33m:\u001b[0m\u001b[1;33m\u001b[0m\u001b[0m\n\u001b[1;32m---> 58\u001b[1;33m         \u001b[1;32mreturn\u001b[0m \u001b[0msession\u001b[0m\u001b[1;33m.\u001b[0m\u001b[0mrequest\u001b[0m\u001b[1;33m(\u001b[0m\u001b[0mmethod\u001b[0m\u001b[1;33m=\u001b[0m\u001b[0mmethod\u001b[0m\u001b[1;33m,\u001b[0m \u001b[0murl\u001b[0m\u001b[1;33m=\u001b[0m\u001b[0murl\u001b[0m\u001b[1;33m,\u001b[0m \u001b[1;33m**\u001b[0m\u001b[0mkwargs\u001b[0m\u001b[1;33m)\u001b[0m\u001b[1;33m\u001b[0m\u001b[0m\n\u001b[0m\u001b[0;32m     59\u001b[0m \u001b[1;33m\u001b[0m\u001b[0m\n\u001b[0;32m     60\u001b[0m \u001b[1;33m\u001b[0m\u001b[0m\n",
      "\u001b[1;32m~\\Anaconda3\\lib\\site-packages\\requests\\sessions.py\u001b[0m in \u001b[0;36mrequest\u001b[1;34m(self, method, url, params, data, headers, cookies, files, auth, timeout, allow_redirects, proxies, hooks, stream, verify, cert, json)\u001b[0m\n\u001b[0;32m    506\u001b[0m         }\n\u001b[0;32m    507\u001b[0m         \u001b[0msend_kwargs\u001b[0m\u001b[1;33m.\u001b[0m\u001b[0mupdate\u001b[0m\u001b[1;33m(\u001b[0m\u001b[0msettings\u001b[0m\u001b[1;33m)\u001b[0m\u001b[1;33m\u001b[0m\u001b[0m\n\u001b[1;32m--> 508\u001b[1;33m         \u001b[0mresp\u001b[0m \u001b[1;33m=\u001b[0m \u001b[0mself\u001b[0m\u001b[1;33m.\u001b[0m\u001b[0msend\u001b[0m\u001b[1;33m(\u001b[0m\u001b[0mprep\u001b[0m\u001b[1;33m,\u001b[0m \u001b[1;33m**\u001b[0m\u001b[0msend_kwargs\u001b[0m\u001b[1;33m)\u001b[0m\u001b[1;33m\u001b[0m\u001b[0m\n\u001b[0m\u001b[0;32m    509\u001b[0m \u001b[1;33m\u001b[0m\u001b[0m\n\u001b[0;32m    510\u001b[0m         \u001b[1;32mreturn\u001b[0m \u001b[0mresp\u001b[0m\u001b[1;33m\u001b[0m\u001b[0m\n",
      "\u001b[1;32m~\\Anaconda3\\lib\\site-packages\\requests\\sessions.py\u001b[0m in \u001b[0;36msend\u001b[1;34m(self, request, **kwargs)\u001b[0m\n\u001b[0;32m    616\u001b[0m \u001b[1;33m\u001b[0m\u001b[0m\n\u001b[0;32m    617\u001b[0m         \u001b[1;31m# Send the request\u001b[0m\u001b[1;33m\u001b[0m\u001b[1;33m\u001b[0m\u001b[0m\n\u001b[1;32m--> 618\u001b[1;33m         \u001b[0mr\u001b[0m \u001b[1;33m=\u001b[0m \u001b[0madapter\u001b[0m\u001b[1;33m.\u001b[0m\u001b[0msend\u001b[0m\u001b[1;33m(\u001b[0m\u001b[0mrequest\u001b[0m\u001b[1;33m,\u001b[0m \u001b[1;33m**\u001b[0m\u001b[0mkwargs\u001b[0m\u001b[1;33m)\u001b[0m\u001b[1;33m\u001b[0m\u001b[0m\n\u001b[0m\u001b[0;32m    619\u001b[0m \u001b[1;33m\u001b[0m\u001b[0m\n\u001b[0;32m    620\u001b[0m         \u001b[1;31m# Total elapsed time of the request (approximately)\u001b[0m\u001b[1;33m\u001b[0m\u001b[1;33m\u001b[0m\u001b[0m\n",
      "\u001b[1;32m~\\Anaconda3\\lib\\site-packages\\requests\\adapters.py\u001b[0m in \u001b[0;36msend\u001b[1;34m(self, request, stream, timeout, verify, cert, proxies)\u001b[0m\n\u001b[0;32m    438\u001b[0m                     \u001b[0mdecode_content\u001b[0m\u001b[1;33m=\u001b[0m\u001b[1;32mFalse\u001b[0m\u001b[1;33m,\u001b[0m\u001b[1;33m\u001b[0m\u001b[0m\n\u001b[0;32m    439\u001b[0m                     \u001b[0mretries\u001b[0m\u001b[1;33m=\u001b[0m\u001b[0mself\u001b[0m\u001b[1;33m.\u001b[0m\u001b[0mmax_retries\u001b[0m\u001b[1;33m,\u001b[0m\u001b[1;33m\u001b[0m\u001b[0m\n\u001b[1;32m--> 440\u001b[1;33m                     \u001b[0mtimeout\u001b[0m\u001b[1;33m=\u001b[0m\u001b[0mtimeout\u001b[0m\u001b[1;33m\u001b[0m\u001b[0m\n\u001b[0m\u001b[0;32m    441\u001b[0m                 )\n\u001b[0;32m    442\u001b[0m \u001b[1;33m\u001b[0m\u001b[0m\n",
      "\u001b[1;32m~\\Anaconda3\\lib\\site-packages\\urllib3\\connectionpool.py\u001b[0m in \u001b[0;36murlopen\u001b[1;34m(self, method, url, body, headers, retries, redirect, assert_same_host, timeout, pool_timeout, release_conn, chunked, body_pos, **response_kw)\u001b[0m\n\u001b[0;32m    599\u001b[0m                                                   \u001b[0mtimeout\u001b[0m\u001b[1;33m=\u001b[0m\u001b[0mtimeout_obj\u001b[0m\u001b[1;33m,\u001b[0m\u001b[1;33m\u001b[0m\u001b[0m\n\u001b[0;32m    600\u001b[0m                                                   \u001b[0mbody\u001b[0m\u001b[1;33m=\u001b[0m\u001b[0mbody\u001b[0m\u001b[1;33m,\u001b[0m \u001b[0mheaders\u001b[0m\u001b[1;33m=\u001b[0m\u001b[0mheaders\u001b[0m\u001b[1;33m,\u001b[0m\u001b[1;33m\u001b[0m\u001b[0m\n\u001b[1;32m--> 601\u001b[1;33m                                                   chunked=chunked)\n\u001b[0m\u001b[0;32m    602\u001b[0m \u001b[1;33m\u001b[0m\u001b[0m\n\u001b[0;32m    603\u001b[0m             \u001b[1;31m# If we're going to release the connection in ``finally:``, then\u001b[0m\u001b[1;33m\u001b[0m\u001b[1;33m\u001b[0m\u001b[0m\n",
      "\u001b[1;32m~\\Anaconda3\\lib\\site-packages\\urllib3\\connectionpool.py\u001b[0m in \u001b[0;36m_make_request\u001b[1;34m(self, conn, method, url, timeout, chunked, **httplib_request_kw)\u001b[0m\n\u001b[0;32m    381\u001b[0m             \u001b[1;32mexcept\u001b[0m \u001b[0mTypeError\u001b[0m\u001b[1;33m:\u001b[0m  \u001b[1;31m# Python 2.6 and older, Python 3\u001b[0m\u001b[1;33m\u001b[0m\u001b[0m\n\u001b[0;32m    382\u001b[0m                 \u001b[1;32mtry\u001b[0m\u001b[1;33m:\u001b[0m\u001b[1;33m\u001b[0m\u001b[0m\n\u001b[1;32m--> 383\u001b[1;33m                     \u001b[0mhttplib_response\u001b[0m \u001b[1;33m=\u001b[0m \u001b[0mconn\u001b[0m\u001b[1;33m.\u001b[0m\u001b[0mgetresponse\u001b[0m\u001b[1;33m(\u001b[0m\u001b[1;33m)\u001b[0m\u001b[1;33m\u001b[0m\u001b[0m\n\u001b[0m\u001b[0;32m    384\u001b[0m                 \u001b[1;32mexcept\u001b[0m \u001b[0mException\u001b[0m \u001b[1;32mas\u001b[0m \u001b[0me\u001b[0m\u001b[1;33m:\u001b[0m\u001b[1;33m\u001b[0m\u001b[0m\n\u001b[0;32m    385\u001b[0m                     \u001b[1;31m# Remove the TypeError from the exception chain in Python 3;\u001b[0m\u001b[1;33m\u001b[0m\u001b[1;33m\u001b[0m\u001b[0m\n",
      "\u001b[1;32m~\\Anaconda3\\lib\\http\\client.py\u001b[0m in \u001b[0;36mgetresponse\u001b[1;34m(self)\u001b[0m\n\u001b[0;32m   1329\u001b[0m         \u001b[1;32mtry\u001b[0m\u001b[1;33m:\u001b[0m\u001b[1;33m\u001b[0m\u001b[0m\n\u001b[0;32m   1330\u001b[0m             \u001b[1;32mtry\u001b[0m\u001b[1;33m:\u001b[0m\u001b[1;33m\u001b[0m\u001b[0m\n\u001b[1;32m-> 1331\u001b[1;33m                 \u001b[0mresponse\u001b[0m\u001b[1;33m.\u001b[0m\u001b[0mbegin\u001b[0m\u001b[1;33m(\u001b[0m\u001b[1;33m)\u001b[0m\u001b[1;33m\u001b[0m\u001b[0m\n\u001b[0m\u001b[0;32m   1332\u001b[0m             \u001b[1;32mexcept\u001b[0m \u001b[0mConnectionError\u001b[0m\u001b[1;33m:\u001b[0m\u001b[1;33m\u001b[0m\u001b[0m\n\u001b[0;32m   1333\u001b[0m                 \u001b[0mself\u001b[0m\u001b[1;33m.\u001b[0m\u001b[0mclose\u001b[0m\u001b[1;33m(\u001b[0m\u001b[1;33m)\u001b[0m\u001b[1;33m\u001b[0m\u001b[0m\n",
      "\u001b[1;32m~\\Anaconda3\\lib\\http\\client.py\u001b[0m in \u001b[0;36mbegin\u001b[1;34m(self)\u001b[0m\n\u001b[0;32m    295\u001b[0m         \u001b[1;31m# read until we get a non-100 response\u001b[0m\u001b[1;33m\u001b[0m\u001b[1;33m\u001b[0m\u001b[0m\n\u001b[0;32m    296\u001b[0m         \u001b[1;32mwhile\u001b[0m \u001b[1;32mTrue\u001b[0m\u001b[1;33m:\u001b[0m\u001b[1;33m\u001b[0m\u001b[0m\n\u001b[1;32m--> 297\u001b[1;33m             \u001b[0mversion\u001b[0m\u001b[1;33m,\u001b[0m \u001b[0mstatus\u001b[0m\u001b[1;33m,\u001b[0m \u001b[0mreason\u001b[0m \u001b[1;33m=\u001b[0m \u001b[0mself\u001b[0m\u001b[1;33m.\u001b[0m\u001b[0m_read_status\u001b[0m\u001b[1;33m(\u001b[0m\u001b[1;33m)\u001b[0m\u001b[1;33m\u001b[0m\u001b[0m\n\u001b[0m\u001b[0;32m    298\u001b[0m             \u001b[1;32mif\u001b[0m \u001b[0mstatus\u001b[0m \u001b[1;33m!=\u001b[0m \u001b[0mCONTINUE\u001b[0m\u001b[1;33m:\u001b[0m\u001b[1;33m\u001b[0m\u001b[0m\n\u001b[0;32m    299\u001b[0m                 \u001b[1;32mbreak\u001b[0m\u001b[1;33m\u001b[0m\u001b[0m\n",
      "\u001b[1;32m~\\Anaconda3\\lib\\http\\client.py\u001b[0m in \u001b[0;36m_read_status\u001b[1;34m(self)\u001b[0m\n\u001b[0;32m    256\u001b[0m \u001b[1;33m\u001b[0m\u001b[0m\n\u001b[0;32m    257\u001b[0m     \u001b[1;32mdef\u001b[0m \u001b[0m_read_status\u001b[0m\u001b[1;33m(\u001b[0m\u001b[0mself\u001b[0m\u001b[1;33m)\u001b[0m\u001b[1;33m:\u001b[0m\u001b[1;33m\u001b[0m\u001b[0m\n\u001b[1;32m--> 258\u001b[1;33m         \u001b[0mline\u001b[0m \u001b[1;33m=\u001b[0m \u001b[0mstr\u001b[0m\u001b[1;33m(\u001b[0m\u001b[0mself\u001b[0m\u001b[1;33m.\u001b[0m\u001b[0mfp\u001b[0m\u001b[1;33m.\u001b[0m\u001b[0mreadline\u001b[0m\u001b[1;33m(\u001b[0m\u001b[0m_MAXLINE\u001b[0m \u001b[1;33m+\u001b[0m \u001b[1;36m1\u001b[0m\u001b[1;33m)\u001b[0m\u001b[1;33m,\u001b[0m \u001b[1;34m\"iso-8859-1\"\u001b[0m\u001b[1;33m)\u001b[0m\u001b[1;33m\u001b[0m\u001b[0m\n\u001b[0m\u001b[0;32m    259\u001b[0m         \u001b[1;32mif\u001b[0m \u001b[0mlen\u001b[0m\u001b[1;33m(\u001b[0m\u001b[0mline\u001b[0m\u001b[1;33m)\u001b[0m \u001b[1;33m>\u001b[0m \u001b[0m_MAXLINE\u001b[0m\u001b[1;33m:\u001b[0m\u001b[1;33m\u001b[0m\u001b[0m\n\u001b[0;32m    260\u001b[0m             \u001b[1;32mraise\u001b[0m \u001b[0mLineTooLong\u001b[0m\u001b[1;33m(\u001b[0m\u001b[1;34m\"status line\"\u001b[0m\u001b[1;33m)\u001b[0m\u001b[1;33m\u001b[0m\u001b[0m\n",
      "\u001b[1;32m~\\Anaconda3\\lib\\socket.py\u001b[0m in \u001b[0;36mreadinto\u001b[1;34m(self, b)\u001b[0m\n\u001b[0;32m    584\u001b[0m         \u001b[1;32mwhile\u001b[0m \u001b[1;32mTrue\u001b[0m\u001b[1;33m:\u001b[0m\u001b[1;33m\u001b[0m\u001b[0m\n\u001b[0;32m    585\u001b[0m             \u001b[1;32mtry\u001b[0m\u001b[1;33m:\u001b[0m\u001b[1;33m\u001b[0m\u001b[0m\n\u001b[1;32m--> 586\u001b[1;33m                 \u001b[1;32mreturn\u001b[0m \u001b[0mself\u001b[0m\u001b[1;33m.\u001b[0m\u001b[0m_sock\u001b[0m\u001b[1;33m.\u001b[0m\u001b[0mrecv_into\u001b[0m\u001b[1;33m(\u001b[0m\u001b[0mb\u001b[0m\u001b[1;33m)\u001b[0m\u001b[1;33m\u001b[0m\u001b[0m\n\u001b[0m\u001b[0;32m    587\u001b[0m             \u001b[1;32mexcept\u001b[0m \u001b[0mtimeout\u001b[0m\u001b[1;33m:\u001b[0m\u001b[1;33m\u001b[0m\u001b[0m\n\u001b[0;32m    588\u001b[0m                 \u001b[0mself\u001b[0m\u001b[1;33m.\u001b[0m\u001b[0m_timeout_occurred\u001b[0m \u001b[1;33m=\u001b[0m \u001b[1;32mTrue\u001b[0m\u001b[1;33m\u001b[0m\u001b[0m\n",
      "\u001b[1;32m~\\Anaconda3\\lib\\site-packages\\urllib3\\contrib\\pyopenssl.py\u001b[0m in \u001b[0;36mrecv_into\u001b[1;34m(self, *args, **kwargs)\u001b[0m\n\u001b[0;32m    278\u001b[0m     \u001b[1;32mdef\u001b[0m \u001b[0mrecv_into\u001b[0m\u001b[1;33m(\u001b[0m\u001b[0mself\u001b[0m\u001b[1;33m,\u001b[0m \u001b[1;33m*\u001b[0m\u001b[0margs\u001b[0m\u001b[1;33m,\u001b[0m \u001b[1;33m**\u001b[0m\u001b[0mkwargs\u001b[0m\u001b[1;33m)\u001b[0m\u001b[1;33m:\u001b[0m\u001b[1;33m\u001b[0m\u001b[0m\n\u001b[0;32m    279\u001b[0m         \u001b[1;32mtry\u001b[0m\u001b[1;33m:\u001b[0m\u001b[1;33m\u001b[0m\u001b[0m\n\u001b[1;32m--> 280\u001b[1;33m             \u001b[1;32mreturn\u001b[0m \u001b[0mself\u001b[0m\u001b[1;33m.\u001b[0m\u001b[0mconnection\u001b[0m\u001b[1;33m.\u001b[0m\u001b[0mrecv_into\u001b[0m\u001b[1;33m(\u001b[0m\u001b[1;33m*\u001b[0m\u001b[0margs\u001b[0m\u001b[1;33m,\u001b[0m \u001b[1;33m**\u001b[0m\u001b[0mkwargs\u001b[0m\u001b[1;33m)\u001b[0m\u001b[1;33m\u001b[0m\u001b[0m\n\u001b[0m\u001b[0;32m    281\u001b[0m         \u001b[1;32mexcept\u001b[0m \u001b[0mOpenSSL\u001b[0m\u001b[1;33m.\u001b[0m\u001b[0mSSL\u001b[0m\u001b[1;33m.\u001b[0m\u001b[0mSysCallError\u001b[0m \u001b[1;32mas\u001b[0m \u001b[0me\u001b[0m\u001b[1;33m:\u001b[0m\u001b[1;33m\u001b[0m\u001b[0m\n\u001b[0;32m    282\u001b[0m             \u001b[1;32mif\u001b[0m \u001b[0mself\u001b[0m\u001b[1;33m.\u001b[0m\u001b[0msuppress_ragged_eofs\u001b[0m \u001b[1;32mand\u001b[0m \u001b[0me\u001b[0m\u001b[1;33m.\u001b[0m\u001b[0margs\u001b[0m \u001b[1;33m==\u001b[0m \u001b[1;33m(\u001b[0m\u001b[1;33m-\u001b[0m\u001b[1;36m1\u001b[0m\u001b[1;33m,\u001b[0m \u001b[1;34m'Unexpected EOF'\u001b[0m\u001b[1;33m)\u001b[0m\u001b[1;33m:\u001b[0m\u001b[1;33m\u001b[0m\u001b[0m\n",
      "\u001b[1;32m~\\Anaconda3\\lib\\site-packages\\OpenSSL\\SSL.py\u001b[0m in \u001b[0;36mrecv_into\u001b[1;34m(self, buffer, nbytes, flags)\u001b[0m\n\u001b[0;32m   1811\u001b[0m             \u001b[0mresult\u001b[0m \u001b[1;33m=\u001b[0m \u001b[0m_lib\u001b[0m\u001b[1;33m.\u001b[0m\u001b[0mSSL_peek\u001b[0m\u001b[1;33m(\u001b[0m\u001b[0mself\u001b[0m\u001b[1;33m.\u001b[0m\u001b[0m_ssl\u001b[0m\u001b[1;33m,\u001b[0m \u001b[0mbuf\u001b[0m\u001b[1;33m,\u001b[0m \u001b[0mnbytes\u001b[0m\u001b[1;33m)\u001b[0m\u001b[1;33m\u001b[0m\u001b[0m\n\u001b[0;32m   1812\u001b[0m         \u001b[1;32melse\u001b[0m\u001b[1;33m:\u001b[0m\u001b[1;33m\u001b[0m\u001b[0m\n\u001b[1;32m-> 1813\u001b[1;33m             \u001b[0mresult\u001b[0m \u001b[1;33m=\u001b[0m \u001b[0m_lib\u001b[0m\u001b[1;33m.\u001b[0m\u001b[0mSSL_read\u001b[0m\u001b[1;33m(\u001b[0m\u001b[0mself\u001b[0m\u001b[1;33m.\u001b[0m\u001b[0m_ssl\u001b[0m\u001b[1;33m,\u001b[0m \u001b[0mbuf\u001b[0m\u001b[1;33m,\u001b[0m \u001b[0mnbytes\u001b[0m\u001b[1;33m)\u001b[0m\u001b[1;33m\u001b[0m\u001b[0m\n\u001b[0m\u001b[0;32m   1814\u001b[0m         \u001b[0mself\u001b[0m\u001b[1;33m.\u001b[0m\u001b[0m_raise_ssl_error\u001b[0m\u001b[1;33m(\u001b[0m\u001b[0mself\u001b[0m\u001b[1;33m.\u001b[0m\u001b[0m_ssl\u001b[0m\u001b[1;33m,\u001b[0m \u001b[0mresult\u001b[0m\u001b[1;33m)\u001b[0m\u001b[1;33m\u001b[0m\u001b[0m\n\u001b[0;32m   1815\u001b[0m \u001b[1;33m\u001b[0m\u001b[0m\n",
      "\u001b[1;31mKeyboardInterrupt\u001b[0m: "
     ]
    }
   ],
   "source": [
    "%%time\n",
    "\n",
    "names = []\n",
    "deskripsi = []\n",
    "tgl = []\n",
    "link_url = []\n",
    "categories = []\n",
    "ratings = []\n",
    "\n",
    "# scrape data for every book URL: this may take some time\n",
    "for url in booksURLs:\n",
    "        soup = getAndParseURL(url)\n",
    "        # product name\n",
    "        \n",
    "        title_box = soup.find('h1', attrs={'itemprop':'headline'})\n",
    "        title = title_box.text\n",
    "        #print (title)\n",
    "        names.append(title)\n",
    "        \n",
    "        # deskripsi\n",
    "        des_box = soup.find('div', attrs={'id':'isi'})\n",
    "        tes = des_box.findAll('p')\n",
    "        des = ''\n",
    "        for x in tes:\n",
    "            des = des + x.text\n",
    "        deskripsi.append(des)\n",
    "        \n",
    "        # tanggal published\n",
    "        tgl_box = soup.find('span', attrs={'itemprop':'datePublished'})\n",
    "        tgl_p = tgl_box.text\n",
    "        tgl.append(tgl_p)\n",
    "        \n",
    "      \n",
    "        \n",
    "    "
   ]
  },
  {
   "cell_type": "code",
   "execution_count": 46,
   "metadata": {},
   "outputs": [
    {
     "name": "stdout",
     "output_type": "stream",
     "text": [
      "title: \n",
      "\t\t\t\t\t\t\tLongsor Sukabumi, Sudah 15 Korban Meninggal yang Ditemukan\t\t\t\t\t\t\n",
      "deskripsi: TEMPO.CO, Jakarta -Tim gabungan pencarian korban tanah longsor Sukabumi, tepatnya di Kampung Garehong, Dusun Cimapag, Desa Sirnaresmi, Kecamatan Cisolok, Kabupaten Sukabumi, Jawa Barat, menemukan kembali jasad warga yang tertimbun. Tercatat, hingga pukul 14.00 WIB, Selasa 1 Januari 2019, sudah 13 warga yang ditemukan.Baca : PVMBG Ungkap 3 Faktor Penyebab Longsor Sukabumi\"Hingga tadi siang, kami kembali menemukan 13 korban dalam kondisi meninggal dunia,\" kata Komandan Resor Militer 061 Suryakencana, Kolonel Muhammad Hasan, kepada wartawan di posko bencana, Senin 1 Januari 2019.Dengan begitu, lanjut Hasan, korban meninggal dunia yang tertimbun sebanyak 15 orang. Sebelumnya pada Senin 31 Desember 2018 malam, tim evakuasi gabungan menemukan dua korban. \"Hingga saat ini masih ada enam mayat di lokasi,\" jelas Hasan.Hasan memastikan, hasil pendataan detail di lapangan, korban yang terindikasi tertimbun totalnya sebanyak 35 orang. Dengan telah ditemukannya 15 mayat korban tertimbun tanah longsor, berarti tinggal tersisa sebanyak 20 orang.\"Perlu kami sampaikan, sempat ada kesimpangsiuran data. Jumlah warga yang berada di kampung itu sebanyak 101 jiwa. Terus ada satu orang bayi yang meninggal di rumah sakit. Jadi datanya sebanyak 15 korban yang sudah ditemukan termasuk bayi yang meninggal di rumah sakit,\" jelas dia.Simak juga :Korban Longsor Sukabumi: 5 Tewas, 38 Orang Masih TertimbunBerdasarkan informasi, tujuh orang yang sebelumnya sudah ditemukan itu masing-masing teridentifikasi bernama Hendra, Sasa, Ukri, Riska, Ahudi, Rita, dan Yanti. Sementara enam mayat yang masih berada di lokasi belum teridentifikasi. \"Nanti kami akan bawa ke DVI untuk diidentifikasi,\" jelasnya.Proses pencarian dan evakuasi korban tertimbun longsor Sukabumi menggunakan sejumlah alat berat. Sehingga cukup memudahkan dalam proses pencarian. \"Tadi kami menggunakan beberapa alat berat untuk memudahkan proses pencarian,\" tandas Hasan.\n",
      "date: Selasa, 1 Januari 2019 23:26 WIB\n",
      "title: \n",
      "\t\t\t\t\t\t\tPresiden Jokowi Tunda Pelantikan Kepala BNPB yang Baru\t\t\t\t\t\t\n",
      "deskripsi: TEMPO.CO, Jakarta -Presiden Joko Widodo atau Jokowi menunda pelantikan Letnan Jenderal TNI Doni Monardo sebagai Kepala Badan Nasional Penanggulanan Bencana disingkat BNPB. Awalnya Doni akan dilantik pada Rabu, 2 Januari 2019 untuk menggantikan Laksamana Muda (Purn) Willem Rampangilei.Baca : Humas, BNPB dan BPBD Siap Mendukung Kepala yang Baru\"Mohon maaf, pelantikan Kepala BNPB tidak jadi. Ditunda,\" kata juru bicara Presiden, Johan Budi, melalui pesan singkat pada Selasa, 1 Januari 2019. Johan menuturkan, kabar itu dia dengar dari Menteri Sekretaris Negara Pratikno. Pratikno juga sudah mengabarkan informasi tersebut kepada wartawan. \"Menginformasikan bahwa besok (Rabu, 2 Januari 2019) tidak ada pelantikan. Maaf jika sudah dengar ada pelantikan,\" katanya.Sebelumnya beredar undangan pelantikan Kepala BNPB baru. Berdasarkan undangan tersebut, pelantikan akan dilaksanakan digelar di Istana Negara pada Rabu, 2 Desember 2018 pukul 09.00 WIB.Johan Budi mengkonfirmasi kebenaran undangan tersebut. Dia juga menyatakan pejabat yang akan dilantik ialah Doni Monardo.Doni Monardo merupakan Sekjen Dewan Pertahanan Nasional. Sebelumnya, dia pernah menjabat sebagai Komandan Paspampres, Danjen Koppasus dan Pangdam Pattimura.Saat dikonfimasi Johan mengaku tak tahu alasan di balik penggantian jabatan tersebut. Staf Ahli Presiden, Adita Irawati, juga menyatakan tak mengetahui alasan penggantian Kepala BNPB. \"Kami tidak memiliki informasi soal itu,\" ujarnya.Simak juga : Letjen TNI Doni Monardo Besok Dilantik Jadi Kepala BNPBWillem Rampangilei dilantik Presiden Jokowi sebagai Kepala BNPB pada 7 September 2018. Menteri Sekretaris Negara Pratikno mengatakan Willem dipilih karena pengalamannya. “Pertimbangan kompetensi, pengalaman di bidang itu,” kata Pratikno, di kompleks Istana, Senin, 7 September 2015.Willem yang sebelumnya menjabat sebagai Deputi I di Kementerian Koordinator Pembangunan Manusia dan Kebudayaan itu menggantikan Syamsul Maarif sebagai kepala BNPB. Pratikno menuturkan, Syamsul diganti karena sudah terlalu lama menjabat. Dia memimpin BNPB sejak 2008.\n",
      "date: Selasa, 1 Januari 2019 23:04 WIB\n",
      "title: \n",
      "\t\t\t\t\t\t\tHumas: BNPB dan BPBD Siap Mendukung Kepala yang Baru \t\t\t\t\t\t\n",
      "deskripsi: TEMPO.CO, Jakarta-Kepala Pusat Data Informasi dan Humas Badan Nasional Penanggulangan Bencana (BNPB) Sutopo Purwo Nugroho membenarkan bahwa ada pergantian Kepala BNPB. Menurutnya pelantikan Kepala BNPB baru digelar Selasa, 2 Januar 2019 pukul 09.00 WIB di Istana Negara sesuai dengan undangan yang lebih dulu tersebar.Sutopo mengaku belum mengetahui soal siapa yang akan menggantikan posisi kepala sebelumnya, Willem Rampangilei. Namun menurut keterangan Juru Bicara Presiden, Johan Budi, melalui pesan singkat pada Selasa, 1 Januari 2019, Kepala BNPB bakal ditempati oleh Letnan Jenderal Doni Monardo.Baca: Besok, Jokowi Lantik Kepala BNPB Baru\n",
      "date: Selasa, 1 Januari 2019 21:53 WIB\n",
      "title: \n",
      "\t\t\t\t\t\t\tLibur Awal Tahun, Jokowi Jogging di Kebun Raya Bogor\t\t\t\t\t\t\n",
      "deskripsi: TEMPO.CO, Jakarta-Presiden Joko Widodo (Jokowi) memanfaatkan libur di awal tahun dengan berolahraga di Kebun Raya Bogor, Selasa, 1 Januari 2019. Dia juga menyempatkan menyapa masyarakat di sekitar tempat tersebut.Jokowi tampil santai mengenakan celana training dan jaket hitam serta sepatu kets. Dia mulai jogging sekitar pukul 13.30 WIB. Jokowi berlari menuju area Kebun Raya Bogor dari kediamannya di Wisma Bayurini, Istana Kepresidenan Bogor.Baca: Besok, Jokowi Lantik Kepala BNPB Baru\n",
      "date: Selasa, 1 Januari 2019 21:22 WIB\n",
      "title: \n",
      "\t\t\t\t\t\t\tSetelah Aceh, Gempa Magnitudo 5 Guncang Barat Daya Pangandaran\t\t\t\t\t\t\n",
      "deskripsi: TEMPO.CO, Jakarta-Gempa dengan magnitudo 5 menggucang Pangandaran, Jawa Barat, Selasa malam, 1 Januari 2019. Badan Meteorologi Klimatologi dan Geofisika (BMKG) melalui situs resmi bmkg.go.id menyatakan gempa tersebut tidak berpotensi tsunami.Menurut BMKG gempa terjadi pada pukul 19.25 WIB di kedalaman 10 kilometer, berkoordinat pada 10.62 Lintang Utara, 108.46 Bujur Timur. BMKG menyebut pusat gempa berada pada 327 kilometer barat daya Kabupaten Pangandaran.Baca: Malam Ini Gempa Guncang Banda Aceh dan Selatan Jawa\n",
      "date: Selasa, 1 Januari 2019 21:07 WIB\n",
      "title: \n",
      "\t\t\t\t\t\t\tSBY: Saya Minta Restu Rakyat untuk Ikut Berjuang di Pemilu 2019\t\t\t\t\t\t\n",
      "deskripsi: TEMPO.CO, Jakarta - Cuitan berseri pertama Ketua Umum Partai Demokrat Susilo Bambang Yudhoyono atau SBY di tahun 2019, melalui akun @SBYudhoyono, menyampaikan permohonannya pada masyarakat Indonesia untuk turut berjuang dalam pemilu 2019 ini.Baca juga:  Pertemuan Prabowo dan SBY Dinilai Perkuat Strategi Pemenangan\"Dalam kapasitas saya sebagai pemimpin Partai Demokrat, saya minta restu rakyat Indonesia untuk ikut berjuang dalam Pemilu Tahun 2019 ini,\" ucap SBY dalam cuitannya Senin 1 Januari 2019.Diketahui langkah terdekat keterlibatan SBY dalam Pemilu di awal tahun ini, akan dimulai dengan mempersiapkan debat capres yang akan dihadapi oleh pasangan Prabowo Subianto-Sandiaga Uno.Adapun dalam rangka persiapan debat itu, partai-partai yang tergabung dalam Koalisi Adil Makmur akan segera menggelar pertemuan. \"Rapat akan berlangsung pada pekan ini,\" kata Direktur Materi dan Debat, Badan Pemenangan Nasional Prabowo-Sandiaga Uno, Sudirman Said, Ahad 30 Desember 2018. Menurutnya, SBY dipastikan akan ikut dalam pertemuan tersebut.Selain meminta restu, dalam cuitannya Presiden keenam Republik Indonesia ini sekaligus menyampaikan agar semua pihak menjaga kedamaian di tahun politik ini. Ia mengharapkan agar para elite politik, termasuk Jokowi, Prabowo, juga dirinya, agar dapat memberikan contoh yang damai, jujur dan adil.Baca juga: Soal Kampanye SBY untuk Prabowo, Dahnil: Bisa Sepanggung\"Kompetisi memang 'keras', terlebih pemilihan presiden. Namun semua ada batasnya. Janganlah melampaui batas. Tak baik untuk rakyat,\" ujar SBY.Dalam cuitannya ia juga menjabarkan hasil selama dua tahun bersafari ke berbagai daerah. Menurut SBY, dirinya dan Partai Demokrat telah merumuskan 14 Prioritas Demokrat untuk Rakyat. Ia mengatakan 14 prioritas ini akan diperjuangkan Partai Demokrat untuk Indonesia semakin damai, adil, demokratis, dan sejahtera.\n",
      "date: Selasa, 1 Januari 2019 21:00 WIB\n"
     ]
    },
    {
     "name": "stdout",
     "output_type": "stream",
     "text": [
      "title: \n",
      "\t\t\t\t\t\t\tMalam Ini Gempa Guncang Banda Aceh dan Selatan Jawa\t\t\t\t\t\t\n",
      "deskripsi: TEMPO.CO, Jakarta - Gempa dengan magnitudo 5.1 mengguncang Banda Aceh pada Selasa petang 1 Januari 2019. Badan Meteorologi Klimatologi dan Geofisika (BMKG) melalui situs resmi bmkg.go.id, menyatakan gempa tersebut berpotensi tidak tsunami.Baca juga: Awal Tahun 2019, Lombok Diguncang Gempa M 3,0BMKG menyebutkan jika getaran gempa dirasakan hingga Banda Aceh dengan skala II MMI. Gempa tersebut terjadi pada pukul 18.55 WIB pada kedalaman 14 km.Pusat gempa berada di laut 93 km barat daya dari Banda Aceh dengan koordinat pada 5.47 Lintang Utara, 94.49 Bujur Timur.\"Pusat gempa di laut 93 km barat daya Banda Aceh,\" tulis BMKG.Tak berapa lama dari gempa di Aceh, lindu juga mengguncang kawasan selatan Jawa. Dalam pengumuman yang dibuat BMKG, gempa tersebut bermagnitudo 5,0 terjadi pada pukul 19.25 WIB.Gempa itu terjadi di 327 km barat daya Kabupaten Pangandaran, Jawa Barat; 330 Km barat daya Cilacap, Jawa Tengah; 331 km tenggara Kabupaten Tasikmalaya, dan 526 km tenggara Jakarta. \"Gempa ini tidak berpotensi tsunami,\" tulis BMKG dalam lamannya.Gempa dengan magnitudo 5 juga terjadi pada Selasa pagi di Kepulauan Talaud pada Selasa pagi pukul 06.09 WIB. Gempa pada kedalaman 21 km tersebut berkoordinat di 3.16 Lintang Utara, 126.58 Bujur Timur dan berada 99 km Barat Daya Kepulauan Talaud, Sulawesi Utara.\n",
      "date: Selasa, 1 Januari 2019 20:08 WIB\n",
      "title: \n",
      "\t\t\t\t\t\t\tLetjen TNI Doni Monardo Besok Dilantik Jadi Kepala BNPB \t\t\t\t\t\t\n",
      "deskripsi: TEMPO.CO, Jakarta - Letnan Jenderal TNI Doni Monardo bakal dilantik sebagai Kepala Badan Nasional Penanggulangan Bencana atau BNPB yang baru di Istana Negara besok.Baca juga: Alasan Jokowi Pilih Willem Rampangilei sebagai Kepala BNPB\"Besok Pak Doni dilantik sebagai Kepala BNPB,\" kata Juru Bicara Presiden, Johan Budi, melalui pesan singkat pada Selasa, 1 Januari 2019. Pelantikan akan dilakukan oleh Presiden Joko Widodo atau Jokowi karena BNPB merupakan lembaga setingkat kementerian.Doni Monardo menggantikan Laksamana Muda (Purn) Willem Rampangilei yang telah menjabat sebagai Kepala BNPB sejak September 2015.Johan menyatakan pelantikan Doni akan dilaksanakan besok. Berdasarkan undangan pelantikan yang tersebar, acara akan digelar di Istana Negara pada Rabu, 3 Desember 2018 pukul 09.00 WIB.Johan menyatakan tak tahu alasan di balik pencopotan Kepala BNPB Willem Rampangilei tersebut. Staf Ahli Presiden, Adita Irawati, juga menyatakan tak mengetahui alasan penggantian Kepala BNPB. \"Kami tidak memiliki informasi soal itu,\" ujarnya.Doni Monardo merupakan Sekjen Dewan Pertahanan Nasional. Sebelumnya, dia pernah menjabat sebagai Komandan Pasukan Pengamanan Presiden (Paspampres), Danjen Koppasus dan Pangdam Pattimura.Baca juga: Kepala BNPB: Indonesia Harus Punya Sistem IT BencanaSeperti diketahui, Willem Rampangilei dilantik Presiden Jokowi sebagai Kepala BNPB pada 7 September 2018. Menteri Sekretaris Negara Pratikno mengatakan Willem dipilih karena pengalamannya. “Pertimbangan kompetensi, pengalaman di bidang itu,” kata Pratikno, di kompleks Istana, Senin, 7 September 2015.Willem yang sebelumnya menjabat sebagai Deputi I di Kementerian Koordinator Pembangunan Manusia dan Kebudayaan itu menggantikan Syamsul Maarif. Pratikno menuturkan, Syamsul diganti karena sudah terlalu lama menjabat. Dia memimpin BNPB sejak 2008.\n",
      "date: Selasa, 1 Januari 2019 19:31 WIB\n",
      "title: \n",
      "\t\t\t\t\t\t\tAmien Rais Sebut yang Mendesaknya Mundur adalah Orang Jokowi\t\t\t\t\t\t\n",
      "deskripsi: TEMPO.CO, Jakarta - Ketua Dewan Kehormatan Partai Amanat Nasional atau PAN Amien Rais menilai desakan mundur yang diserukan para pendiri partai kepadanya merupakan hal yang tak relevan.Baca juga: Amien Rais Ogah Tanggapi Pendiri PAN yang Minta Ia MundurHal ini diungkap Amien ketika mengetahui latar belakang pendiri PAN yang memintanya mundur merupakan orang-orang yang sudah tak aktif lagi di partai tersebut.\"Memang, ya di situ lucunya, itu lucunya,\" ujar Amien ditemui usai menjadi pembicara dalam Pengajian Refleksi Akhir Tahun yang digelar di masjid kampus Universitas Ahmad Dahlan (UAD) unit 4 jalan ring road selatan Yogya Senin 31 Desember 2018.Sebelumnya, lima orang yang terlibat dalam pendirian PAN melayangkan surat terbuka untuk Amien Rais.Kelima orang yang mendesak Amien mundur dari politik praktis itu ialah Abdillah Toha, penasihat Wakil Presiden 2009-2014; advokat senior Albert Hasibuan, sastrawan dan jurnalis senior Goenawan Mohamad, penyair dan tokoh budaya Toety Heraty, dan Zumrotin.Amien sendiri merupakan salah satu pendiri PAN. Amien kini menjabat sebagai Ketua Dewan Kehormatan partai berlambang matahari terbit itu. Amien juga terlibat sebagai anggota Dewan Pembina Badan Pemenangan Nasional pasangan calon presiden-wakil presiden nomor urut 02, Prabowo Subianto-Sandiaga Uno.Amien Rais menilai jika desakan mundur dari para pendiri PAN itu tak lebih dari manuver politik mendekati pemilu presiden 2019.Bahkan Amien pun menduga kuat jika para pendiri PAN itu merupakan pendukung calon presiden Joko Widodo untuk maju dua periode. Amien sejak pemilu 2014 silam hingga kini tetap berada di gerbong pendukung rival Jokowi, yakni calon presiden Prabowo Subianto.\"Ya pasti kan mereka itu pendukung Jokowi, kalau saya kan memang pendukung Prabowo, saya kan cuma melaksanakan tugas,\" ujar Amien tak menjelaskan tugas yang dimaksud.Adapun desakan mundur kepada Amien Rais dikeluarkan para pendiri PAN karena menilai mantan Ketua MPR itu tak sejalan lagi dengan visi misi pembentukan PAN.PAN, kata kelima pendiri itu, merupakan partai yang percaya dan mendukung setiap warga negara memiliki kedudukan sama di muka hukum, tidak mengenal mayoritas serta minoritas.Baca juga: Empat Poin Pendiri PAN Desak Amien Rais MundurNamun, menurut mereka, justru Amien Rais membawa PAN bersikap semakin eksklusif dan tidak menumbuhkan kerukukan bangsa dalam berbagai pernyataan dan sikap politiknya. Amien juga dinilai malah bersimpati, mendukung, dan bergabung dengan politisi yang ingin mengembalikan kekuatan orde baru ke kancah politik. Padahal Amien dulu terlibat dalam gerakan menumbangkan kekuasaan orde baru yang dipimpin Soeharto.Kini, koalisi Prabowo-Sandiaga, yang disokong Amien dan PAN, juga beranggotakan Partai Berkarya yang didirikan anak-anak Soeharto dan mengusung narasi orde baru.\n",
      "date: Selasa, 1 Januari 2019 19:31 WIB\n",
      "title: \n",
      "\t\t\t\t\t\t\tBesok, Jokowi Lantik Kepala BNPB Baru\t\t\t\t\t\t\n",
      "deskripsi: TEMPO.CO, Jakarta - Presiden Joko Widodo akan melantik Kepala Badan Nasional Penanggulangan Bencana atau BNPB yang baru menggantikan Laksamana Muda (Purn) Willem Rampangilei di Istana Negara, Rabu 2 Januari 2019.Baca juga: Kata BNPB soal RSUD Serang Pungut Biaya Mayat Korban TsunamiKabar penggantian Willem mencuat setelah undangan pelantikan Kepala BNPB yang baru beredar. Dalam undangan tersebut tertera pelantikan dilaksanakan di Istana Negara pada Rabu, 3 Desember 2018 pukul 09.00 WIB.Deputi Bidang Protokol, Pers, dan Media Sekretariat Presiden Bey Machmudin mengkonfirmasi adanya pelantikan tersebut. Namun dia mengaku tak tahu pengganti Willem. \"Kami hanya diminta menyiapkan pelantikan,\" katanya.Staf Ahli Presiden, Adita Irawati, juga menyatakan tak mengetahui alasan penggantian Kepala BNPB. \"Kami tidak memiliki informasi soal itu,\" ujarnya.Willem Rampangilei dilantik Presiden Jokowi sebagai Kepala BNPB pada 7 September 2015. Menteri Sekretaris Negara Pratikno mengatakan Willem dipilih karena pengalamannya. “Pertimbangan kompetensi, pengalaman di bidang itu,” kata Pratikno, di kompleks Istana, Senin, 7 September 2015.Baca juga: Jokowi Lantik Willem Rampangilei sebagai Kepala BNPBWillem yang sebelumnya menjabat sebagai Deputi I di Kementerian Koordinator Pembangunan Manusia dan Kebudayaan itu menggantikan Syamsul Maarif. Pratikno menuturkan, Syamsul diganti karena sudah terlalu lama menjabat. Dia memimpin BNPB sejak 2008.\n",
      "date: Selasa, 1 Januari 2019 19:00 WIB\n",
      "title: \n",
      "\t\t\t\t\t\t\tFadli Zon: Tingkat Demokrasi Indonesia Menurun\t\t\t\t\t\t\n",
      "deskripsi: TEMPO.CO, Jakarta - Wakil Ketua Dewan Perwakilan Rakyat (DPR) Fadli Zon menyatakan demokrasi Indonesia mengalami kemunduran. Tingkat demokrasi di negara ini menurun hingga seperti negara baru merdeka.Baca juga: Fadli Zon Sebut Pengkritik Amien Rais Parasit DemokrasiFadli berkaca kepada kondisi politik Indonesia yang masih diramaikan isu tak menggembirakan menjelang pemilihan umum serentak 2019. Dia mencatat, ada beberapa persoalan politik sepanjang 2018. “Mulai dari jaminan kebebasan berkumpul dan berserikat yang menurun, intimidasi terhadap lawan politik, hingga manajemen pemilu yang amburadul,” tulis dia di akun Twitternya, @fadlizon, Selasa, 1 Januari 2019.Wakil Ketua Umum Partai Gerindra ini juga mengutip data The Economist Intelligence Unit (EIU) pada 2017. Peringkat demokrasi Indonesia turun 20 peringkat ke posisi 68 dari 48 pada 2016. Fadli membandingkannya dengan peringkat demokrasi Timor Leste yang berada di urutan 43 pada 2017.Politikus Partai Gerindra itu juga menggunakan data Freedom House, organisasi independen pengawas kebebasan dan demokrasi di dunia. “Meningkatnya ancaman kebebasan sipil, menurut Freedom House, telah mendorong Indonesia turun status dari negara ‘bebas’ (free) menjadi negara ‘bebas sebagian’ (partly free) di tahun 2018,” katanya. Data tersebut kembali dibandingkan Fadli dengan capaian Timor Leste. Negara tersebut mengalami kenaikan status dari negara partly free menjadi free.Fadli mengklaim data-data di atas sejalan dengan keluhan masyarakat. Dia menyebut keluhan terkait dengan persekusi terhadap ulama yang kritis hingga upaya pembungkaman dan kriminalisasi terhadap tokoh di kubu oposisi pemerintah.Anggota Dewan Pengarah Badan Pemenangan Nasional Prabowo - Sandiaga itu juga menyebut demokrasi Indonesia dinodai praktik manajemen pemilu yang amburadul. Hal ini dianggap mengancam kredibilitas pelaksanaan pemilu 2019. Dia mencontohkan pelanggaran administrasi kependudukan mulai dari kasus jual beli blanko KTP elektronik, tercecernya ribuan KTP elektronik, serta isu 31 juta pemilih yang belum masuk Daftar Pemilih Tetap (DPT).Baca juga: Fadli Zon Temani Ahmad Dhani di Sidang Pleidoi Ujaran KebencianFadli Zon menyebut kondisi ini sebagai ironi di pemeritahan Presiden Joko Widodo. Dia mendesak kondisi ini harus segera dibenahi. “Jika tidak, kecurigaan publik terhadap proses pemilu yang manipulatif, akan semakin meningkat,” ujarnya. Dia menyatakan tak ingin Pemilu 2019 hanya sekadar menjemput takdir demokrasi yang lebih buruk. Terlebih anggaran untuk ajang tersebut mencapai triliunan.\n",
      "date: Selasa, 1 Januari 2019 18:28 WIB\n"
     ]
    },
    {
     "name": "stdout",
     "output_type": "stream",
     "text": [
      "title: \n",
      "\t\t\t\t\t\t\tGaya dan Cara Jokowi Sambut Tahun Baru Tiga Tahun Terakhir\t\t\t\t\t\t\n",
      "deskripsi: Jakarta - Presiden Joko Widodo melewatkan malam pergantian tahun dengan cara berbeda dalam tiga tahun terakhir. Namun gaya Jokowi cenderung sama pada setiap tahunnya.Baca: Sambut Tahun Baru 2019, Jokowi Undang PKL ke Istana BogorPergantian tahun 2019 ini, Jokowi memilih bersama keluarganya. Ditemani istrinya, Iriana, dan putra bungsunya, Kaesang Pangarep, ia menghabiskan malam tutup tahun 2018 di rumahnya, Wisma Bayurini, Istana Kepresidenan Bogor.Bersama anggota Pasukan Pengamanan Presiden (Paspampres) serta pegawai Istana Kepresidenan Bogor, Jokowi menyantap hidangan dari pedagang angkringan pada Senin malam. Pedagang angkringan itu sengaja diundang ke Istana Bogor untuk perayaan malam Tahun Baru 2019.\"Sate ayam, sate kambing, dan sate sapi menjadi salah satu menu yang disajikan malam itu. Selain itu, ada juga bakmi dengkul dan wedang ronde,\" ujar Deputi Bidang Protokol, Pers, dan Media Sekretariat Presiden Bey Machmudin melalui keterangan tertulis, Selasa, 1 Januari 2018.Tahun lalu, Jokowi menghabiskan malam tutup tahun 2017 bersama keluarganya di Yogyakarta. Menjelang pergantian tahun 2018, ia menyambangi titik nol kilometer Yogyakarta bersama cucunya, Jan Ethes.Dua tahun lalu, Jokowi melewatkan  malam pergantian tahun di Istana Bogor. Sedangkan, saat menyongsong Tahun 2016, mantan Gubernur DKI Jakarta itu menghadiri acara pesta rakyat yang digelar di Pantai Waisai, Kabupaten Raja Ampat, Papua Barat.Baca juga: Malam Tahun Baru, Pengungsi Tsunami Selat Sunda Gelar IstighosahGaya Jokowi di setiap malam pergantian tahun selalu santai. Di malam terakhir 2018, dia mengenakan sarung dan kaus putih. Kaus berkerah itu dibalut jaket hitam yang warnanya senada dengan warna sarung.Saat menghabiskan malam terakhir tahun 2015 dan 2016, Jokowi juga mengenakan sarung. Bedanya, ia mengenakan kemeja berwarna putih pada 2015 dan kaus putih lengan panjang pada 2016.Namun, saat berada di Yogyakarta pada pergantian tahun menuju 2018, Jokowi mengenakan celana hitam dipadu kaus pendek warna biru.\n",
      "date: Selasa, 1 Januari 2019 17:29 WIB\n",
      "title: \n",
      "\t\t\t\t\t\t\tTahun Baru 2019, JK Sampaikan Harapannya Lewat Video \t\t\t\t\t\t\n",
      "deskripsi: Jakarta - Wakil Presiden Jusuf Kalla atau JK menyambut Tahun Baru 2019 dengan penuh harap. Dia mendoakan kebaikan terjadi kepada semua masyarakat Indonesia.Baca: Sambut Tahun Baru 2019, Jokowi Undang PKL ke Istana Bogor\"Dalam kesempatan yang berbahagia ini, saya ingin mengucapkan selamat tahun baru 2019 kepada semua. Semoga tahun baru ini memberikan kita kebahagiaan, harapan baru, dan kemajuan yang lebih baik daripada tahun-tahun sebelumnya,\" katanya melalui video yang dirilis Sekretariat Wakil Presiden, Senin, 31 Desember 2018. Indonesia menghadapi beragam peristiwa sepanjang 2018. Di antaranya, Indonesia sukses menjadi tuan rumah Asian Games dan Asian Paragames 2018. Indonesia juga menjadi tuan rumah ajang pertemuan tahunan IMF dan World Bank. Pertemuan itu pun berjalan lancar.Tahun depan, Indonesia akan menggelar pemilihan umum. Kali ini, pemilihan presiden dan pemilihan legislatif digelar serentak.Baca juga: Awal Tahun 2019, Kepulauan Talaud Diguncang Gempa Magnitudo 5Di sepanjang 2018, Indonesia juga mendapatkan ujian dengan terjadinya sejumlah bencana alam. Gempa mengguncang Lombok, Nusa Tenggara Barat, yang kemudian disusul gempa dan tsunami di Palu dan Donggala, Sulawesi Tengah. Menjelang tutup tahun, tsunami menerjang pantai-pantai di Selat Sunda akibat erupsi Gunung Anak Krakatau.\n",
      "date: Selasa, 1 Januari 2019 17:27 WIB\n",
      "title: \n",
      "\t\t\t\t\t\t\tKenapa Amien Rais Yakin Prabowo - Sandiaga Menangi Pilpres 2019?\t\t\t\t\t\t\n",
      "deskripsi: TEMPO.CO, Jakarta - Ketua Dewan Kehormatan Partai Amanat Nasional (PAN) Amien Rais masih meyakini pasangan calon presiden dan wakil presiden Prabowo Subianto - Sandiaga Uno akan memenangkan Pemilu Presiden atau Pilpres 2019.Baca juga: Ceramah Kebangkitan PKI - Pilpres, Amien Rais: Jangan DikutipAmien percaya Prabowo - Sandiaga yang turut diusung partainya, akan mengalahkan pasangan Joko Widodo - Maruf Amin.\"Sudah bukan yakin lagi, itu pasti, \" ujar Amien ditemui usai menjadi pembicara dalam Pengajian Refleksi Akhir Tahun yang digelar di masjid kampus Universitas Ahmad Dahlan (UAD) unit 4 jalan ring road selatan Yogya Senin 31 Desember 2018.Amien dalam Pemilu Presiden 2019 memang terlibat sebagai anggota Dewan Pembina Badan Pemenangan Nasional pasangan calon presiden-wakil presiden nomor urut 02 itu.Amien Rais meyakini pemilu 2019, bakal mengulang peristiwa Pilkada DKI Jakarta 2017 silam yang memenangkan pasangan Anies Baswedan - Sandiaga Uno saat melawan inkumben Basuki Tjahaja Purnama alias Ahok yang berpasangan dengan Djarot Syaiful Hidayat. Saat itu Amien bersama partainya PAN berseberangan dengan kubu Ahok yang didukung PDI Perjuangan. Dalam kontestasi itu Anies Baswedan - Sandiaga Uno yang akhirnya terpilih memimpin DKI Jakarta selama lima tahun.\"Pilpres 2019 adalah pengulangan pilkada DKI Jakarta,\" ujar Amien. Sehingga Amien pun optimistis Prabowo dapat meraih sukses serupa Anies.Bukan sekali ini saja Amien Rais mempredikisikan Pilpres 2019 akan sama hasilnya dengan Pilkada DKI. Medio pertengahan 2018 lalu, mantan Ketua Majelis Permusyawaratan Rakyat itu juga mengatakan nasib Presiden Jokowi sebagai inkumben dalam Pemilihan Presiden 2019 bisa serupa Basuki Tjahaja Purnama alias Ahok di Pilkada DKI.\"Tidak ada yang bisa menentukan selain kehendak Tuhan,\" kata Amien Rais di Cibubur saat itu.Amien Rais mengatakan, meski Jokowi kuat dari segi elektabilitas, namun belum menjamin presiden ke tujuh itu mampu melanjutkan kepemimpinan periode berikutnya.Baca juga: Fadli Zon Sebut Pengkritik Amien Rais Parasit DemokrasiKetua Dewan Penasehat Persaudaraan Alumni 212 itu mencontohkan kegagalan Ahok sebagai inkumben dalam Pemilihan Gubernur DKI. \"Ahok waktu itu kuat sebagai inkumben, namun bisa kalah oleh Anies-Sandi,\" ujarnya.Menurut Amien Rais, tidak ada sesuatu yang abadi termasuk kekuasaan, sekarang ada seruan untuk dua periode sebaliknya juga ada gerakan untuk ganti presiden.\"Biar nanti keputusan Tuhan yang menentukan, karena Tuhan akan memberikan kekuasaan kepada siapa yang dihendaki, dan mencabut dari siapa yang Dia kehendaki,\" ujarnya.\n",
      "date: Selasa, 1 Januari 2019 16:45 WIB\n",
      "title: \n",
      "\t\t\t\t\t\t\tBuku Merah, Kuda Troya dan Deretan Kasus di KPK Sepanjang 2018\t\t\t\t\t\t\n",
      "deskripsi: TEMPO.CO, Jakarta - Sederet kasus yang terjadi pada tahun 2018 membuat Komisi Pemberantasan Korupsi mendapat sorotan publik. Kasus perobekan buku merah, isu kuda troya dan pegawai menggugat pimpinan KPK mewarnai perjalanan lembaga antirasuah ini.Baca juga: 6 Kepala Daerah Ditangkap Tangan KPK pada Tahun 2018Ihwal kasus gugatan pegawai, Ketua KPK Agus Rahardjo bahkan sempat meminta pihak di luar lembaganya untuk tak ikut campur. \"Ini urusan internal jadi sebaiknya orang luar enggak boleh ikut campur,\" ujarnya di Gedung DPR, Jakarta pada medio Agustus 2018, saat isu ini mencuat. Berikut kasus-kasus yang sempat menyelimuti KPK setahun ke belakang.Baca juga: 4 Anggota DPR Terjerat Kasus Korupsi di KPK Selama 20181. Kuda TroyaDirektur Penyidikan KPK Brigadir Jenderal Aris Budiman tiba-tiba meminta wartawan berkumpul seusai acara pelantikan Deputi Penindakan di Gedung Penunjang KPK, pada Jumat, 6 April 2018. Kepada wartawan yang mengerubunginya di aula serbaguna KPK itu, dia mengaku kesal karena dituding berupaya memasukan kuda troya--istilah dari cerita perang Troya ketika orang Yunani menyelundupkan tentara ke kota musuh--ke KPK. Kekesalan Aris Budiman dipicu oleh surat elektronik mengenai penerimaan penyidik dari kepolisian.Belakangan diketahui, Aris berusaha memasukan penyidik Muhammad Irhamny yang telah bekerja sepuluh tahun di KPK. Padahal, sesuai dengan Peraturan Pemerintah Nomor 103 Tahun 2012 tentang Sistem Manajemen Sumber Daya Manusia KPK, batas maksimal penyidik kepolisian bertugas di KPK adalah sepuluh tahun.Rupanya, usul Aris ditolak di lingkup internal KPK. Aris mengetahui penolakan itu dari surat elektronik pada 6 April lalu. Surat elektronik tersebut, kata Aris, berisi tudingan bahwa ia memasukkan kuda troya. \"Saya memang minta salah satu penyidik untuk kembali bekerja di KPK. Tapi, di dalam KPK, dikembangkan saya seolah seperti kuda troya,\" kata dia.Ketua KPK Agus Rahardjo membenarkan pihaknya ingin kembali merekrut Irhamny. KPK, kata dia, membutuhkan pengalaman Irhamny untuk mengusut kasus korupsi Bantuan Likuiditas Bank Indonesia. Polemik berakhir ketika pimpinan membatalkan rencana perekrutan kembali Irhamny.2. Kasus CenturyKasus Century kembali mencuat pada April 2018, setelah Pengadilan Negeri Jakarta Selatan mengabulkan gugatan praperadilan yang diajukan Masyarakat Anti Korupsi Indonesia. Dalam putusannya, hakim tunggal Effendi Muchtar memerintahkan KPK serta penegak hukum lain memproses hukum nama-nama yang disebut bersama-sama mantan Deputi Gubernur BI Budi Mulya melakukan korupsi dalam pemberian persetujuan penetapan pemberian Fasilitas Pendanaan Jangka Pendek (FPJP) kepada PT Bank Century. Salah satu dari nama tersebut adalah mantan Gubernur Bank Indonesia Boediono.Baca: KPK Memetakan Peran 10 Orang dalam Kasus CenturyKPK memilih tidak langsung melaksanakan putusan praperadilan tersebut. KPK menyatakan tim biro hukum akan mengkaji terlebih dahulu. “Amar putusan tersebut relatif baru dalam sejumlah putusan praperadilan yang ada,” kata juru bicara KPK, Febri Diansyah.Putusan Effendi Muctar kemudian menuai kontroversi. Pakar hukum pidana Universitas Trisakti, Abdul Fickar Hadjar menganggap keputusan tersebut telah melampaui kewenangan praperadilan. Dia mengatakan praperadilan tidak berwenang memerintahkan penetapan tersangka. Karena putusan itu pula, Mahkamah Agung mendemosi Effendi Muchtar ke PN Jambi.Di luar kontroversi itu, KPK menyatakan tetap berkomitmen untuk melanjutkan kasus Century. Ketua KPK Agus Rahardjo mengatakan kajian KPK soal putusan praperadilan Century rampung pada 20 April 2018. Lebih dari enam bulan setelah kontroversi praperadilan itu meredup, KPK memulai babak baru penyelidikan Century dengan memeriksa Budi Mulya, Boediono, Robert Tantular dan Miranda S. Goeltom pada pertengahan November 2018.3. Rotasi Pegawai\n",
      "\n",
      "123\n",
      "Selanjutnya\n",
      "\n",
      "\n",
      "date: Selasa, 1 Januari 2019 16:17 WIB\n"
     ]
    },
    {
     "name": "stdout",
     "output_type": "stream",
     "text": [
      "title: \n",
      "\t\t\t\t\t\t\t5 Fakta Kelompok Mujahidin Indonesia Timur yang Tembak 2 Polisi\t\t\t\t\t\t\n",
      "deskripsi: TEMPO.CO, Jakarta - Nama kelompok Mujahidin Indonesia Timur atau MIT kembali mencuat. Polisi menduga kelompok yang berada di pegunungan Poso, Sulawesi Tengah berada di balik kasus mutilasi dan penembakan dua anggota Polri di Pantai Kapal Dusun Salubose.Baca juga: Polda: Gerilya Mujahidin Indonesia Timur di Poso BerubahPenembakan dua anggota polisi itu berawal dari rencana tim kepolisian setempat memeriksa tempat terjadinya perkara pembunuhan dengan mutilasi. Saat ingin mengevakuasi korban mutilasi, terjadi baku tembak. Dua anggota polisi tertembak yaitu Brigadir Polisi Kepala (Bripka) Andrew Maha Putra dan Bripka Baso.Kepolisian RI pun langsung menurunkan dua Satuan Setingkat Pleton (SST) Brigadir Mobil, satu SST dari Poso dan Palu untuk membantu Kepolisian Resor Parimo melakukan pengejaran terhadap kelompok Mujahidin Indonesia Timur.Kelompok yang diduga mendalangi beberapa aksi terorisme itu dulu dikenal dipimpin oleh Santoso atau Abu Wardah. Berikut sejumlah fakta mengenai kelompok yang kini dipimpin oleh Ali Kalora itu.1.Baru Terbentuk sejak 2013Mujahidin Indonesia Timur diperkirakan terbentuk pada akhir 2012 atau awal 2013, kelompok tersebut didirikan oleh Santoso atau Abu Wardah di daerah rawan konflik, Poso, Sulawesi Tengah.MIT waktu itu langsung merekrut pengikutnya, dan melakukan pelatihan militer. Sejumlah aksi teror dan serangan terhadap aparat kepolisian pun diduga didalangi oleh kelompok Mujahidin Indonesia Timur ini.2.SantosoSelain mendirikan MIT, Santoso juga merupakan pemimpin MIT. Pergerakannya di kelompok radikal dimulai dengan bergabungnya Santoso dengan kelompok Jamaah Anshorut Tauhid (JAT) di wilayah Sulawesi Tengah. Bekal di JAT tersebut yang dijadikan modal bagi Santoso untuk mendirikan MIT3. Afiliasi dengan ISISPada 2016 melalui sebuah rekaman video, kelompok MIT menyatakan berbaiat kepada Negara Islam Irak Suriah atau ISIS. Diduga setelah deklarasi tersebut, MIT mendapatkan aliran dana dari ISIS dalam menggelar aksinya.4. Santoso TewasPemimpin kelompok teror Mujahidin Indonesia Timur, Santoso alias Abu Wardah, di tempat persembunyiannya. Foto: IstimewaSetelah diburu sejak 2012, Kepolisian RI memastikan jika salah satu korban yang tewas dalam baku tembak operasi Tinombala pada Juli 2016 adalah Santoso, pimpinan Mujahidin Indonesia Timur. Santoso tewas setelah pergerakan MIT dipersempit karena Operasi Tinombala, beberapa anggota MIT juga dilumpuhkan bahkan menyerahkan diri.Baca juga:  Kontak Tembak di Poso, Polres Benarkan 2 Terduga Teroris Tewas5. Sisa MITHingga saat ini Kepolisian RI masih melakukan perburuan terhadap sejumlah anggota MIT. Saat ini kelompok tersebut dipimpin oleh Ali Kalora.Data terakhir kepolisian tercatat sejumlah anggota Mujahidin Indonesia Timur masuk dalam Daftar Pencarian Orang, yaitu Ali Muhammad alias Ali Kalora alias Ali Ambon, Muhammad Faisal alias Namnung alias Kobar, Qatar alias Farel, Nae alias Galuh, Basir alias Romzi, Abu Alim, dan Kholid.ANDITA RAHMA\n",
      "date: Selasa, 1 Januari 2019 16:08 WIB\n",
      "title: \n",
      "\t\t\t\t\t\t\tKata PVMBG dan Ahli Soal Sebab Longsor di Sukabumi\t\t\t\t\t\t\n",
      "deskripsi: TEMPO.CO, Jakarta - Kepala Pusat Vulkanologi dan Mitigasi Bencana Geologi Kasbani menyatakan, ada tiga faktor yang bisa menyebabkan longsor di Cisolok, Sukabumi. Faktor penyebab terjadinya gerakan tanah itu diperkirakan hujan dengan intensitas tinggi yang turun sebelum kejadian gerakan tanah, kemiringan lereng yang terjal. \"Serta material penyusun lereng yang bersifat poros dan mudah menyerap air,\" ujarnya.Baca juga: Puluhan Rumah di Sukabumi Tertimbun LongsorLokasi longsor di daerah Cisolok Kabupaten Sukabumi Jawa Barat merupakan perbukitan dengan dengan kemiringan lebih dari 30 derajat atau termasuk lereng terjal hingga sangat terjal. Lokasi bencana berada pada ketinggian lebih dari 650 - 800 meter di atas permukaan laut. Disebelahnya terdapat alur sungai kecil.Berdasarkan Peta Potensi Terjadi Gerakan Tanah Kabupaten Sukabumi Desember 2018 keluaran PVMBG, daerah bencana sebagian besar masuk ke dalam Zona Kerentanan Gerakan Tanah Menengah - Tinggi. \"Artinya daerah ini dapat terjadi gerakan tanah jika curah hujan di atas normal,\" ujarnya lewat keterangan tertulis, Selasa 1 Januari 2019.Gerakan tanah itu terutama pada daerah yang berbatasan dengan lembah sungai, gawir, tebing jalan atau jika lereng mengalami gangguan dan gerakan tanah lama dapat aktif kembali.Longsor melanda pemukiman warga di Kampung Cimapag, Desa Sinaresmi, Kecamatan Cisolok, Kabupaten Sukabumi, Provinsi Jawa Barat, Senin sore, 31 Desember 2018 setelah hujan mengguyur selama beberapa jam.Jenis gerakan tanah diperkirakan PVMBG berupa longsoran bahan rombakan. Dampaknya, material longsoran menimbun 34 rumah yang dihuni 107 orang. Sebanyak 33 orang dilaporkan selamat, selebihnya ada yang meninggal dan kebanyakan belum diketahui nasibnya.Daerah tersebut dinilai masih sangat rawan terjadi lagi gerakan tanah dan bukit di daerah tersebut mempunyai kemiringan lereng lebih dari 30 derajat. PVMBG mengerahkan Tim Tanggap Darurat ke lokasi untuk melakukan evaluasi bencana di sekitar lokasi terhadap potensi longsoran susulan.Baca juga: Longsor Sukabumi, BNPB: 41 Orang Diduga Masih Tertimbun LongsoranAhli dan peneliti longsor dari Pusat Penelitian Geoteknologi LIPI Bandung Adrin Tohari mengatakan, longsoran yang terjadi bertipe luncuran yang berubah menjadi aliran karena tanah sangat jenuh air akibat hujan lebat. \"Kecepatan longsoran tipe aliran bisa mencapai 50 kilometer per jam,\" ujarnya.Longsoran terjadi pada lereng planar yang dikontrol oleh lapisan tanah keras dan membentuk cekungan di bawah permukaan tanah. Bentuk cekungan ini mengontrol aliran air bawah permukaan yang akan meningkat naik dan menjenuhkan lapisan tanah ketika hujan deras. \"Kondisi tanah yang gembur mengakibatkan bagian lereng tersebut kemudian longsor,\" katanya.\n",
      "date: Selasa, 1 Januari 2019 15:26 WIB\n",
      "title: \n",
      "\t\t\t\t\t\t\tMujahidin Indonesia Timur Pancing Polisi dengan Kasus Mutilasi\t\t\t\t\t\t\n",
      "deskripsi: TEMPO.CO, Jakarta - Polri menduga kasus pembunuhan dengan mutilasi di Poso, Sulawesi Tengah, merupakan upaya kelompok Mujahidin Indonesia Timur atau MIT memancing aparat kepolisian.Baca juga: Polda: Gerilya Mujahidin Indonesia Timur di Poso BerubahKasus mutilasi pria berinisial RB, 34 tahun, itu diduga dilakukan dengan sengaja untuk menciptakan keresahan dan teror dalam masyarakat.\"Selain itu, mereka (kelompok DPO MTI) juga diduga mengincar polisi,\" ujar Kepala Biro Penerangan Masyarakat Divisi Humas Polri Brigadir Jenderal Dedi Prasetyo di Markas Besar Polri, Jakarta Selatan, pada Selasa, 1 Januari 2018.Menurut Dedi, awalnya aparat mendapatkan informasi dari warga, terkait penemuan jenazah yang kepala dan tubuhnya terpisah. Potongan kepala yang diketahui merupakan warga bernama RB alias A ditemukan di sebuah jembatan desa pada 30 Desember 2018.Setelah mengevakuasi kepala korban, polisi pun bergegas mencari badan korban. Setelah diusut, diketahui badan RB ditemukan di daerah pegunungan. Saat hendak melakukan evakuasi badan korban itulah, aparat kepolisian dihujani tembakan dari kelompok DPO Mujahidin Indonesia Timur Poso.Dedi menuturkan, saat ini Satuan Tugas (Satgas) Tinombala, yang telah diberlakukan tetap dalam Polda Sulawesi Tengah, sedang melakukan pengejaran terhadap para pelaku. Bahkan, Polri turut menerjunkan empat Satuan Setingkat Pleton (SST) Brigadir Mobil untuk membantu Kepolisian Resor Parimo.Baca juga:  Kontak Tembak di Poso, Polres Benarkan 2 Terduga Teroris TewasPolisi pun telah mengetahui kekuatan kelompok Mujahidin Indonesia Timur tersebut. “Satgas Tinombala juga telah mengetahui amunisi yang dimiliki mereka. Namun kami tidak dapat menyebutkan jumlah anggota dan amunisi tersebut,” ucap Dedi.Seperti diketahui, kelompok DPO MIT Poso dipimpin oleh Ali Kalora CS. Mereka merupakan kelompok pecahan dari Santoso CS, yang sampai saat ini anggotanya juga masih dalam pengejaran.Adapun jenazah RB, saat ini telah dievakuasi untuk menjalani penyelidikan lanjutan. Jenazah tersebut juga telah menjalani prosedur visum et repertum. Namun aparat kepolisian belum mengetahui secara pasti apakah RB tewas dihabisi kelompok teroris.\n",
      "date: Selasa, 1 Januari 2019 14:56 WIB\n"
     ]
    },
    {
     "name": "stdout",
     "output_type": "stream",
     "text": [
      "title: \n",
      "\t\t\t\t\t\t\tAdik Gus Dur Anggap Tes Baca Al Quran bagi Capres Tidaklah Urgen\t\t\t\t\t\t\n",
      "deskripsi: TEMPO.CO, Jakarta - Adik kandung Gus Dur, Lily Chodidjah Wahid alias Lily Wahid menilai, tes baca Al Quran untuk pasangan calon presiden dan calon wakil presiden yang akan berlaga di pemilihan presiden 2019, tidaklah urgen. \"Saya menganggap hal itu tidak urgen,\" ujar Lily di kediaman Ma'ruf Amin di Jakarta pada Senin, 31 Desember 2018.Baca: Soal Tes Baca Al Quran untuk Capres, Amien Rais: Itu Lucu SekaliMenurut dia, kaum muslim yang waras pikirannya dan memiliki perhatian terhadap agama, otomatis akan memilih pemimpin yang bisa menjadi panutan dalam keislaman. \"Jadi enggak usah dibawa-bawa Al Quran lah. Seperti halnya kalimat tauhid, sebaiknya enggak usah dijadikan bendera. Laa ilaaha illallah itu tempatnya di hati, bukan di mana-mana,\" ujar dia.Tokoh pluralis ini mengatakan, sejak Indonesia merdeka pada 17 Agustus 1945, masalah pluralisme sudah selesai dengan penghapusan tujuh kata dalam sila pertama Piagam Jakarta, yang kemudian menjadi Pancasila. Tujuh kata itu \".....dengan kewajiban menjalankan syariat Islam bagi pemeluknya\".\"Jadi, kalau hari ini ada yang membawa-bawa lagi ke syariat itu. Menurut saya, mereka tidak mengerti sejarah,\" ujar dia.Usul diadakan tes baca Al Quran itu disampaikan oleh Ikatan Dai Aceh beberapa waktu lalu. Ketua Dewan Pimpinan Ikatan Dai Aceh, Tgk Marsyuddin Ishak mengatakan, hal tersebut untuk mengakhiri polemik keislaman capres dan cawapres.Baca juga: Kata Adik Gus Dur soal Orang-orang NU di Kubu PrabowoSekretaris Tim Kampanye Nasional Jokowi-Ma'ruf Hasto Kristiyanto mengatakan, tes baca Al Quran tak perlu dilakukan. Hasto mengaku paham bagaimana masyarakat Aceh mendambakan sosok pemimpin yang agamis. Kendati demikian, menurut ia, pemimpin agamis yang ideal itu tercermin dari tindakan. “Agamis itu diukur dari tindakan, bukan dari klaim,” kata dia, kemarin.Juru debat Badan Pemenangan Nasional Prabowo Subianto-Sandiaga Uno, Sodik Mudjahid juga menganggap tak perlu ada ujian membaca Al Quran. Yang lebih penting, kata dia, pemahaman para calon pemimpin itu terhadap Al Quran, serta kitab-kitab suci lain.\"Kemampuan membaca Al Quran bukan syarat, tapi sebagai advantage saja, sehingga tes baca tulis tidak perlu dilakukan,\" kata Sodik melalui keterangan tertulis, Ahad, 30 Desember 2018.\n",
      "date: Selasa, 1 Januari 2019 14:44 WIB\n",
      "title: \n",
      "\t\t\t\t\t\t\tDahnil Anzar Sebut Kampanye Prabowo Seperti Diagnosa Dokter\t\t\t\t\t\t\n",
      "deskripsi: TEMPO.CO, Jakarta - Juru bicara Badan Pemenangan Nasional (BPN) pasangan calon Prabowo Subianto - Sandiaga Uno, Dahnil Anzar Simanjuntak, menyinggung ucapan ketua Tim Kampanye Nasional (TKN) Joko Widodo atau Jokowi - Ma'ruf Amin, Erick Thohir, yang mengatakan Prabowo selalu menebar ketakutan dan kengerian dalam melakukan kampanye. Baca juga: Prabowo Sebut Indonesia Harus Ganti Arah dan KebijakanMenurut Dahnil, apa yang disampaikan Prabowo merupakan penyampaian masalah yang benar-benar sedang terjadi di negara ini.\"Bahasa Erick, kiai Ma'ruf, atau bahkan pak Jokowi itu menyebutkan 'stop dong menyampaikan pesimisme'. Ini saya sebut gagal memahami pesimisme. Yang dilakukan Prabowo-Sandi adalah memaparkan penyajian masalah bahwa dalam urus negara kita mungkin bisa cari solusi,\" kata Dahnil saat acara refleksi akhir tahun di markas BPN, Jakarta Selatan, Senin, 31 Desember 2018.Dahnil lalu menganalogikan kampanye Prabowo seperti dokter yang tengah mendiagnosa suatu penyakit. Menurut dia, Prabowo selalu menyampaikan kenyataan di lapangan seakurat dokter yang sedang mendiagnosa suatu penyakit.\"Kalau diagnosa darah tinggi, dokter informasikan dia darah tinggi. Kalau kanker, dokter informasikan kanker. Jangan sampai yang sakit kepala tapi yang diobati dengkul, ini yang keliru,\" ujar dia.Baca juga: Timses Sebut Prabowo Siap Debat soal HAMDahnil kemudian mengambil contoh kondisi perekonomian Indonesia yang tengah lesu saat ini, namun dipaksa terlihat bagus oleh pemerintah. Menurut dia, penyangkalan seperti inilah yang membuat Prabowo mengeluarkan statement Indonesia akan punah.\"Ini sama dengan orang kena kanker tapi ga mau disebut kanker. Kami minta pak Jokowi hindari orang yang 'ABS' alias Asal Bapak Senang. Jadi yang disampaikan ke presiden itu ABS,\" tutur Dahnil.\n",
      "date: Selasa, 1 Januari 2019 14:24 WIB\n",
      "title: \n",
      "\t\t\t\t\t\t\tSoal Tes Baca Al Quran untuk Capres, Amien Rais: Itu Lucu Sekali\t\t\t\t\t\t\n",
      "deskripsi: TEMPO.CO, Jakarta -  Politikus senior yang juga Ketua Dewan Kehormatan Partai Amanat Nasional (PAN) Amien Rais menilai adanya usulan tes baca Al-Quran untuk para calon presiden yang bertarung dalam Pemilu 2019 merupakan hal yang tak relevan.Baca juga: Kubu Jokowi: Banyak yang Menanyakan Keistiqomahan Amien Rais\"Itu lucu sekali,\" ujar Amien ditemui usai menjadi pembicara dalam Pengajian Refleksi Akhir Tahun yang digelar di masjid kampus Universitas Ahmad Dahlan (UAD) unit 4 jalan ring road selatan Yogya Senin 31 Desember 2018.Sebelumnya, polemik tantangan tes baca Al-Quran disampaikan Ketua Dewan Pimpinan Ikatan Dai Aceh, Tgk Marsyuddin Ishak di Banda Aceh, Sabtu, 29 Desember 2018.\"Untuk mengakhiri polemik keislaman capres dan cawapres, kami mengusulkan tes baca Al Quran kepada kedua pasangan calon,\" kata Tgk Marsyuddin saat itu.Namun Mantan Ketua MPR itu menilai tes baca Al Quran lebih cocok jika diterapkan untuk profesi yang lebih terkait. \"Kalau untuk (memilih) pimpinan pondok pesantren boleh lah ya,\" ujarnya.Amien sangsi jika orang yang hafal Al Quran otomatis perilakunya akan sesuai ilmu yang dimiliki. Yakni sesuai ajaran Al-Quran.\"Sebab banyak juga orang yang hafal Al Quran tapi perangainya seperti orang tidak beriman, jadi itu bukan ukuran,\" ujarnya.Amin menggambarkan, banyak juga orang yang seolah berperilaku alim ternyata banyak pula yang masuk bui karena perilaku melanggar hukum.Baca juga: Fadli Zon Sebut Pengkritik Amien Rais Parasit Demokrasi\"Sementara di satu sisi orang yang kelihatannya abangan, tapi perilakunya jujur, itu di mata Allah tentu lebih bagus,\" ujarnya.Amien Rais pun menilai tes baca Al-Quran juga akan lebih relevan jika diterapkan semisal untuk agenda memilih pimpinan di organisasi masyarakat Islam. Misalnya dalam muktamar Pimpinan Pusat Muhammadiyah, Amien setuju saja.\"Tapi kalau memaksa diterapkan untuk memilih (presiden) itu tidak tepat, nanti ke mana-mana, yang ini harus hafal injil, dan sebagainya,\" ujarnya.\n",
      "date: Selasa, 1 Januari 2019 14:06 WIB\n",
      "title: \n",
      "\t\t\t\t\t\t\t4 Pleton Brimob Buru Kelompok Mujahidin Indonesia Timur di Poso\t\t\t\t\t\t\n",
      "deskripsi: TEMPO.CO, Jakarta - Polri menerjunkan dua Satuan Setingkat Pleton (SST) Brigadir Mobil, satu SST dari Poso dan satu SST dari Palu untuk membantu Kepolisian Resor Parimo melakukan pengejaran terhadap kelompok DPO Mujahidin Indonesia Timur (MIT) yang digawangi oleh Ali Kalora.Baca juga: Polda: Gerilya Mujahidin Indonesia Timur di Poso Berubah\"Langkah awalnya, anggota menyusuri kembali ke lokasi penembakan,\" ujar Kepala Biro Penerangan Masyarakat Divisi Humas Polri Brigadir Jenderal Dedi Prasetyo melalui pesan teks, Selasa, 1 Desember 2018.Lokasi penembakan tersebut berada di Panta Kapal Dusun Salubose, Sulawesi Tengah. Dua anggota tim gabungan Polres Marigi dan Polda Sulawesi Tengah yakni Brigadir Polisi Kepala (Bripka) Andrew Maha Putra dan Bripka Baso ditembak oleh kelompok yang dipimpin oleh Ali Kalora tersebut pada 31 Desember 2018 sekitar pukul 09.00 WITA.Saat itu, Bripka Andrew dan Bripka Baso sedang dalam perjalanan menuju proses evakuasi korban mutilasi kelompok Mujahidin Indonesia Timur. Akibat dari insiden tersebut, Bripka Andrew mengalami luka tembak di bagian punggung sebelah kiri atas, punggung sebelah kanan dan kaki kanannya patah. Sedangkan Bripka Baso mengalami luka tembak di bahu sebelah kiri dan pantat.Baca juga: Kontak Tembak di Poso, Polres Benarkan 2 Terduga Teroris Tewas\"Saat ini kedua anggota masih berada di Rumah Sakit Bhayangkara Polda Sulawesi Tengah, menjalani perawatan dan sudah mulai stabil,\" ucap Dedi.Dedi menuturkan, dari hasil penelusuran lokasi penembakan kedua kali, polisi menyita tiga bom lontong, satu teropong siang, dua amunisi aktif kaliber 5,56 milimeter, tujuh selongsong amunisi kaliber 5,56 milimeter, dan satu unit sepeda motor milik Bripka Andrew.\n",
      "date: Selasa, 1 Januari 2019 13:54 WIB\n"
     ]
    },
    {
     "name": "stdout",
     "output_type": "stream",
     "text": [
      "title: \n",
      "\t\t\t\t\t\t\tKorban Longsor Sukabumi: 5 Tewas, 38 Orang Masih Tertimbun\t\t\t\t\t\t\n",
      "deskripsi: TEMPO.CO, Jakarta - Badan Nasional Penanggulangan Bencana (BNPB) mengatakan korban meninggal dalam bencana longsor di Kampung Cigarehong, Dusun Cimapag, Desa Sirnaresmi, Cisolok, Sukabumi, Jawa Barat, bertambah. Saat ini tercatat pada data sementara per 1 Januari 2019 pukul 10.00 WIB, lima orang meninggal.Baca: Evakuasi Longsor Sukabumi Terhambat Minimnya Alat Berat\"Korban tewas menjadi lima orang, dan tiga luka-luka,\" ujar Kepala Pusat Data Informasi dan Humas BNPB Sutopo Purwo Nugroho dalam keterangan tertulis, Selasa, 1 Januari 2018.Longsor di Sukabumi ini terjadi pada Senin malam, 31 Desember 2018, pukul 17.30 WIB. Longsor terjadi disebabkan hujan deras mengguyur desa. Akibatnya, terjadi aliran permukaan di areal hutan dan persawahan dari perbukitan di lokasi kejadian. Aliran air kemudian menyebabkan material perbukitan meluncur menuruni lereng dan menimbun 30 rumah.Sutopo mengatakan, tercatat 107 jiwa dalam 32 kepala keluarga terdampak bencana longsor ini. Dari jumlah tersebut, diperkirakan masih ada 38 orang diduga tertimbun longsor dan belum ditemukan. \"Sedangkan 61 orang selamat sudah ditempatkan di pengungsian,\" katanya.Baca: Puluhan Rumah di Sukabumi Tertimbun LongsorMenurut Sutopo, jumlah korban tewas ini bertambah setelah ditemukannya tiga jenazah, satu laki-laki dan satu perempuan, serta seorang bayi. \"Sebelumnya, tadi malam ditemukan dua orang korban meninggal, di mana satu laki-laki dan satu perempuan, sehingga total korban meninggal hingga saat ini lima orang,\" ucapnya.Saat ini tim SAR gabungan masih terus mencari korban yang diduga tertimbun longsor tersebut. Menurut Sutopo, evakuasi ini terkendala minimnya alat berat serta kondisi alam. \"Kondisi tanah yang rapuh terurai serta berlumpur akibat hujan masih menyulitkan evakuasi,\" tuturnya. FAJAR PEBRIANTO\n",
      "date: Selasa, 1 Januari 2019 13:21 WIB\n",
      "title: \n",
      "\t\t\t\t\t\t\tEvakuasi Longsor Sukabumi Terhambat Minimnya Alat Berat\t\t\t\t\t\t\n",
      "deskripsi: TEMPO.CO, Jakarta - Evakuasi korban longsor di Kampung Cigarehong, Dusun Cimapag, Desa Sirnaresmi, Cisolok, Sukabumi, masih terus dilakukan. Badan Nasional Penanggulangan Bencana (BNPB) mengatakan proses evakuasi terhambat minimnya alat berat.Baca: Longsor Sukabumi, BNPB: 41 Orang Diduga Masih Tertimbun Longsoran\"Pencarian masih dilakukan secara manual karena alat berat sulit didatangkan ke lokasi bencana,\" ujar Kepala Pusat Data Informasi dan Humas BNPB Sutopo Purwo Nugroho dalam keterangan tertulisnya, Selasa, 1 Januari 2019.Sutopo mengatakan BNPB sudah menyiapkan tiga unit alat berat untuk membantu evakuasi korban. Namun, alat berat ini sulit dibawa ke lokasi karena terkendala akses jalan. \"Akses jalannya yang sempit, berbukit dan medannya berat,\" katanya.Longsor di Sukabumi ini terjadi pada Senin malam, 31 Desember 2018, pukul 17.30 WIB. Longsor terjadi disebabkan hujan deras mengguyur desa. Akibatnya, terjadi aliran permukaan di areal hutan dan persawahan dari perbukitan di lokasi kejadian. Aliran air kemudian menyebabkan material perbukitan meluncur menuruni lereng dan menimbun 30 rumah.Baca: Puluhan Rumah di Sukabumi Tertimbun LongsorMenurut Sutopo, akses ke lokasi longsor juga terhambat macetnya jalan karena banyak warga yang berdatangan ke lokasi longsor untuk melihat kondisi, serta membantu kerabatnya yang menjadi korban.\"Kondisi jalan yang sempit menyebabkan bantuan, baik personel SAR, logistik, ambulans, dan sebagainya terhambat kemacetan,\" ucapnya.Proses evakuasi juga terkendala faktor alam. Menurut Sutopo, tim SAR kesulitan mengevakuasi korban lantaran kondisi tanah yang rapuh terurai serta berlumpur akibat hujan.Dari data sementara BNPB pada 1 Januari 2019 per pukul 10.00 WIB, tercatat jumlah korban dengan rincian 5 orang tewas, 3 orang luka-luka, dan 38 orang belum ditemukan. Selain itu, ada 61 orang korban selamat yang ditempatkan di pengungsian.FAJAR PEBRIANTO\n",
      "date: Selasa, 1 Januari 2019 13:05 WIB\n",
      "title: \n",
      "\t\t\t\t\t\t\tAwal Tahun 2019, Kepulauan Talaud Diguncang Gempa Magnitudo 5\t\t\t\t\t\t\n",
      "deskripsi: TEMPO.CO, Jakarta - Gempa magnitudo 5,0 mengguncang Kepulauan Talaud, Sulawesi Utara, pagi ini, 1 Januari 2019, pukul 06.09 WIB. Badan Meteorologi, Klimatologi, dan Geofisika (BMKG) menyebutkan pusat gempa berlokasi di 3,16 Lintang Utara, 126,58 Bujur Timur atau berada di 99 kilometer Barat Daya Kepulauan Talaud, Sulawesi Utara.Baca: Gempa yang Guncang Lombok Awal Tahun Baru 2019 Tergolong Dangkal\"Tidak berpotensi tsunami,\" seperti dikutip dari situs resmi bmkg.go.id, Selasa, 1 Januari 2019.Sehari sebelumnya, Sulawesi Utara juga diguncang gempa dengan magnitudo 5,1. BMKG menyebutkan gempa terjadi di kawasan Kepulauan Siau Tagulandang Biaro di kedalaman 10 kilometer. Gempa ini terjadi pada Senin, 31 Desember 2018, pukul 01.34 WIB. Gempa tersebut dirasakan hingga di Manado, Bitung, dan Minahasa Tenggara dengan skala II–III MMI.Sebelumnya, wilayah perairan utara Sulawesi juga diguncang gempa bumi dengan magnitudo 7,1 pada Sabtu, 29 Desember 2018, pada pukul 10.39 WIB. BMKG mencatat titik sumber gempa tersebut terletak di laut pada jarak 201 kilometer arah timur laut Kepulauan Talaud.Baca juga: Gempa Magnitudo 7,1 Guncang Kepulauan TalaudGempa dirasakan hingga Melonguane, Kepulauan Talaud dengan skala IV MMI; di Tahuna, Kepulauan Sangihe skala III-IV MMI; dan Siau Sitaro, Tobelo, Morotai skala III MMI\n",
      "date: Selasa, 1 Januari 2019 11:10 WIB\n",
      "title: \n",
      "\t\t\t\t\t\t\tPolda Papua Tangkap Pelaku Pembakaran Kantor KPU dan Panwaslu \t\t\t\t\t\t\n",
      "deskripsi: TEMPO.CO, Jakarta - Kepolisian Daerah Papua menangkap Tanggap Jiwa, 30 tahun, pelaku pengerusakan dan pembakaran kantor Komisi Pemilihan Umum (KPU) dan Panitia Pengawas Pemilu (Panwaslu) di Kabupaten Mamberamo Tengah, Papua. Tanggap ditangkap di Wamena.Baca juga: KPU Minta Laporan Kemendagri Soal 3 Juta KTP Ganda\"TJ ditangkap pada 30 Desember 2018 kemarin, di Jalan Yos Sudarso, tepatnya di Perumahan Nirwana Sinakma, Wamena,\" kata Kepala Bidang Humas Kepolisian Daerah Papua Komisaris Besar Ahmad Kamal melalui pesan teks, Selasa, 1 Januari 2019.Kamal mengatakan Kepala Satuan Reserse Kriminal Kepolisian Resor Mamberamo Tengah bersama dua personel lainnya membawa TJ dari Wamena ke Jayapura menggunakan pesawat Trigana Air IL 276. \"Dia akan menjalani pemeriksaan lanjutan di Mapolda Papua,\" kata Kamal.Kantor KPU dan Panwaslu Mamberamo Tengah yang lokasinya bersebelahan pada April 2018 terbakar. Diduga kebakaran itu karena tindakan dari massa pendukung dari salah satu pasangan calon bupati dan wakil bupati yang dinyatakan tidak lolos administrasi.TJ diduga aktor di balik peristiwa itu. TJ dijerat dengan Pasal 187 ayat (1) e KUHP dan Pasal 170 ayat (1) KUHP juncto Pasal 160 KUHP tentang kejahatan yang mendatangkan bahaya bagi keamanan umum, manusia atau barang (pembakaran), kekerasan terhadap orang atau barang secara bersama-sama dimuka umum dan penghasutan dengan ancaman hukuman penjara paling lama 12 Tahun. \n",
      "date: Selasa, 1 Januari 2019 10:46 WIB\n",
      "title: \n",
      "\t\t\t\t\t\t\tSambut Tahun Baru 2019, Jokowi Undang PKL ke Istana Bogor\t\t\t\t\t\t\n",
      "deskripsi: TEMPO.CO, Jakarta - Presiden Joko Widodo melalui pergantian tahun di Wisma Bayurini, Istana Kepresidenan Bogor. Menyosong Tahun Baru 2019, Jokowi menghabiskan waktu dengan berkumpul bersama istrinya, Iriana, dan putra bungsunya Kaesang Pangarep.Baca: Jelang Tahun Baru 2019, Jokowi Pamer Ambil Alih Aset AsingJokowi juga mengundang beberapa pedagang kaki lima ke Istana Bogor. Mantan Gubernur DKI Jakarta itu dan anggota Pasukan Pengamanan Presiden (Paspampres) dan pegawai Istana Kepresidenan Bogor makan malam bersama, menyantap berbagai sajian dari pedagang angkringan, seperti sate ayam, sate kambing, sate sapi, bakmi dengkul, dan wedang ronde.Jokowi kembali masuk ke rumahnya setelah menyempatkan diri bercengkerama dengan anggota Paspampres dan pegawai Istana. Dia mengatakan, tidak ada perayaan khusus untuk menyambut pergantian tahun. Pergantian hari ini, menurut dia, sama saja dengan hari biasa.\"Ya seperti hari-hari biasa, seperti hari Senin, Selasa, Rabu, Kamis, Jumat, Sabtu. Enggak ada (perayaan khusus), yang paling penting 2019 optimis, optimis, optimis,\" ujarnya seperti dilansir keterangan tertulis Biro Pers, Media, dan Informasi Sekretariat Presiden, Selasa, 1 Januari 2018.Baca: Debat Capres, Kubu Jokowi Siapkan Tim Khusus untuk Ma'ruf AminAsisten Ajudan Presiden Kapten Teddy Indra Wijaya mengatakan, keluarga Presiden Jokowi memang tidak merayakan momen pergantian tahun secara khusus. Malam tahun baru dilalui seperti malam biasa.\"Kalau buat Bapak (Presiden) dan keluarga itu ya memang enggak merayakan tahun baru. Malam tahun baru ya biasa saja, seperti malam-malam lainnya. Seperti malam ini, kita semuanya di kediaman Bapak di Istana Bogor, ditraktir Bapak,\" katanya.\n",
      "date: Selasa, 1 Januari 2019 09:21 WIB\n"
     ]
    },
    {
     "name": "stdout",
     "output_type": "stream",
     "text": [
      "title: \n",
      "\t\t\t\t\t\t\tGempa yang Guncang Lombok Awal Tahun Baru 2019 Tergolong Dangkal\t\t\t\t\t\t\n",
      "deskripsi: TEMPO.CO, Jakarta - Tak lama setelah pergantian tahun, masyarakat di wilayah utara Pulau Lombok merasakan gempa. Kejadiannya pada pukul 00.15 Wita. Badan Meteorologi, Klimatologi, dan Geofisika (BMKG) mencatat gempa tersebut bermagnitudo 3,0.Baca: Awal Tahun 2019, Lombok Diguncang Gempa M 3,0Kepala Bidang Informasi Gempa bumi dan Peringatan Dini Tsunami BMKG Daryono, lewat keterangan tertulis, menginformasikan gempa terjadi pada Selasa, 1 Januari 2019, pukul 00.15.44 Wita. \"Wilayah Lombok Utara mengalami gempa bumi tektonik,\" ujarnya.Hasis analisis BMKG menujukkan bahwa gempa bumi ini berkekuatan 3,0 Magnitudo. Pusat gempa pada koordinat 8,36 LS dan 116,20 BT, atau tepatnya berlokasi di darat.\"Jaraknya sekitar 8 kilometer barat laut Lombok Utara, Nusa Tenggara Barat pada kedalaman 10 km,\" kata Daryono.Dampak gempa bumi berdasarkan laporan masyarakat dirasakan di wilayah Lombok Utara dengan intensitas III MMI. Skala itu setara dengan getaran yang dirasakan nyata di dalam rumah. Terasa getaran seakan-akan ada truk yang melintas.Baca juga: Gempa 7,1 M Kepulauan Talaud, Dipicu Subduksi Lempeng FilipinaDitinjau dari kedalaman hiposenternya, gempa bumi yang terjadi merupakan jenis gempa bumi dangkal. \"Penyebab gempanya akibat aktifitas Sesar Naik Flores (Flores Back Arc Trust),\" kata Daryono.BMKG meminta masyarakat di wilayah Lombok Utara agar tetap tenang dan tidak terpengaruh oleh isu yang tidak dapat dipertanggungjawabkan kebenarannya.\n",
      "date: Selasa, 1 Januari 2019 08:58 WIB\n",
      "title: \n",
      "\t\t\t\t\t\t\tLongsor Sukabumi, BNPB: 41 Orang Diduga Masih Tertimbun Longsoran\t\t\t\t\t\t\n",
      "deskripsi: TEMPO.CO, Jakarta - Pencarian korban longsor yang terjadi di Kampung Cigarehong, Dusun Cimapag, Desa Sirnaresmi, Cisolok, Sukabumi, Jawa Barat, Senin kemarin, masih terus dilakukan. Badan Penanggulangan Bencana Nasional (BNPB) mencatat, sebanyak 41 orang diduga masih tertimbun longsoran.Baca: Longsor Sukabumi, 4 Orang Meninggal dan 4 Lainnya Masih Tertimbun\"Upaya pencarian korban masih dilakukan, tercatat 41 orang tertimbun longsor atau belum ditemukan,\"ujar Kepala Pusat Data Informasi dan Humas BNPB, Sutopo Purwo Nugroho dalam keterangan tertulisnya, Selasa, 1 Januari 2019.Sutopo mengatakan, hingga Selasa dini hari, dua orang ditemukan meninggal dan tiga orang luka-luka. Sebanyak 61 orang mengungsi. Untuk kerugian fisik, sementara ini tercatat 30 unit rumah tertimbun material longsor.Humas BNPB itu mengatakan jumlah korban masih bisa bertambah karena proses evakuasi terus berlangsung. \"Ini data sementara, sebelumnya juga berkembang data simpang siur terkait korban meninggal dunia, ada yang yang bilang empat, lima delapan,\" ujarnya.Baca: Puluhan Rumah di Sukabumi Tertimbun LongsorSaat ini, kata Sutopo, kawasan Cisolok masih diguyur hujan sehingga membuat proses evakuasi terkendala. Selain itu, penggunaan alat berat untuk evakuasi korban belum bisa dilakukan lantaran jalan dan medan menuju lokasi sulit diakses.Tim relawan Badan Penanggulangan Bencana Daerah dari sejumlah kecamatan turut dilibatkan dalam pencarian dan evakuasi korban longsor. BPBD juga telah mendirikan pos penanganan bencana longsor di Desa Sirnaresmi.\n",
      "date: Selasa, 1 Januari 2019 08:34 WIB\n",
      "title: \n",
      "\t\t\t\t\t\t\tTahun Baru, Pengungsi Tsunami Selat Sunda Pilih Tidur di Posko\t\t\t\t\t\t\n",
      "deskripsi: TEMPO.CO, Banten - Pesta kembang api pergantian Tahun Baru 2019 digelar meriah di sejumlah tempat di Tanah Air. Di sudut Kecamatan Labuan, Pandeglang, Banten, tepatnya di posko pengungsian korban tsunami Selat Sunda, lapangan futsal, mayoritas pengungsi memilih tidur.Baca: Begini Remaja Banten Kenang Perayaan Tahun Baru Sebelum TsunamiSuryana, 26 tahun, salah satu pengungsi, hanya bisa mengenang apa yang dilakukannya bersama keluarga saat melewatkan Tahun Baru 2018. Suasananya kontras dengan apa yang dia alami saat ini.Tahun lalu, ia bersama istri dan anaknya menyusuri Pantai Pelelangan Ikan di Pandeglang, Banten, makan bersama di sana sambil menikmati pesta kembang api. \"Kami beli terompet, kembang api, kami rayakan di pinggir pantai,\" kata dia di pengungsian, Senin malam, 31 Desember 2018.Hal serupa dialami Deri Purnama. Remaja 16 tahun ini menuturkan, biasanya pada pergantian tahun, dia bersama teman-teman sebayanya menggelar acara bakar ikan di tepi pantai. Kali ini, ia memilih tidur bersama pengungsi yang lain. \"Mau tidur aja lah saya,\" kata dia.Baca: Harapan Pengungsi Tsunami Banten Memasuki Tahun Baru 2019Sebagian besar pengungsi pengungsi di Posko Penanggulangan Bencana Alam Kementerian Sosial Republik Indonesia, Kampung Palumpang, Desa Rancaterep, Kecamatan Labuan, Pandeglang, Banten, juga memilih tidur. Pasca-tsunami, ribuan orang yang menjadi korban menempati dua lapangan futsal yang dijadikan posko oleh Kementerian Sosial.Semula, relawan menyiapkan acara doa bersama dilanjutkan nonton bareng untuk menyambut pergantian tahun. Namun, rencana itu batalkan karena hujan disertai angin kencang tidak henti mengguyur kawasan Labuan sejak sore hari.Relawan Layanan Dukungan Psikososial, Taruna Siaga Bencana, Twi Adi mengatakan seharusnya acara doa bersama dimulai pukul 20.45 hingga 21.30. Selanjutnya, acara nonton bareng film Laskar Pelangi pukul 22.00 untuk anak-anak. Namun, hujan deras disertai angin tidak memungkinkan untuk memutar film. \"Kami batalin karena hujan,\" ujarnya.Suasana Tahun Baru 2019 di Posko Penanggulangan Bencana Alam Kementerian Sosial Republik Indonesia, Kampung Palumpang, Desa Rancaterep, Kecamatan Labuan, Pandeglang, Banten, Selasa, 1 Januari 2019. TEMPO/M Rosseno AjiIbu-ibu dan anak-anak yang semula bersiap nonton bareng, akhirnya memilih tidur sebelum pergantian tahun. Sekitar sejam sebelum masuk Tahun Baru 2019, mereka telah terlelap dalam balutan selimut. Mereka bergerumul di sisi pinggir lapangan dekat jaring yang ditutupi terpal atau kain guna menghalangi angin.Sementara itu, bapak-bapak dan remaja duduk di lorong yang memisahkan dua lapangan futsal. Bau minyak kelapa sesekali berhembus ditiup angin.Tiga puluh menit sebelum tutup tahun 2018, hujan sempat reda. Namun, kondisi ini tak berlangsung lama. Hujan kembali turun. Angin kencang yang datang bersamaan dengan hujan menghadirkan suara berisik menandai pergantian Tahun 2019 di pengungsian itu.\n",
      "date: Selasa, 1 Januari 2019 08:01 WIB\n",
      "title: \n",
      "\t\t\t\t\t\t\tBMKG: Gelombang Tinggi di Beberapa Wilayah Indonesia Berbahaya\t\t\t\t\t\t\n",
      "deskripsi: TEMPO.CO, Jakarta - Badan Meteorologi, Klimatologi, dan Geofisika (BMKG) memprediksi adanya gelombang tinggi di beberapa wilayah perairan Indonesia pada 1-6 Januari 2019. Deputi Bidang Meteorologi Mulyono R Prabowo mengatakan tinggi gelombang laut diperkirakan berkisar antara 1,25 sampai 2,5 meter.Baca: BMKG Longgarkan Zona Rawan Kewaspadaan Tsunami\"Ada juga gelombang dengan ketinggian lebih dari 2,5 meter terpantau di beberapa wilayah perairan Indonesia,\" ujar Mulyono dalam keterangan tertulis yang diterima Tempo, Senin, 31 Desember 2018.Gelombang tinggi di beberapa wilayah Indonesia ini, menurut BMKG, masuk kategori berbahaya. Tinggi gelombang laut 2,5 sampai 4 meter dengan kategori berbahaya berpeluang terjadi di Laut Cina Selatan, Laut Natuna Utara, perairan Kepulauan Anambas hingga Natuna, perairan utara dan selatan Jawa, Laut Jawa, Samudra Hindia selatan Jawa, perairan selatan Bali hingga Sumbawa, perairan Agats hingga Amamapere, perairan barat Yos Sudarso, perairan selatan Merauke, perairan Kepulauan Sangihe hingga Talaud, serta perairan utara Halmahera.Tinggi gelombang laut dari 4 hingga 6 meter dalam kategori sangat berbahaya akan terjadi di beberapa wilayah yakni Laut Natuna Utara dan Laut Cina Selatan. Gelombang tinggi ini akan terjadi pada 1-3 Januari 2019.Baca: Angin Puting Beliung Melanda Panguragan Cirebon, Ini Kata BMKGAdapun, gelombang tinggi mencapai 2,5 sampai 4 meter dalam kategori berbahaya pada 4-6 Januari 2019 berpeluang terjadi di beberapa wilayah. Beberapa wilayah itu yakni di perairan barat Lampung, perairan selatan Jawa hingga Sumbawa, Samudra Hindia selatan Jawa hingga NTT, perairan Kepulauan Sermata hingga Tanimbar, perairan Kepulauan Kai hingga Aru, Laut Arafuru, perairan barat Yos Sudarso, perairan selatan Merauke, Perairan Kepulauan Sangihe hingga Talaud, perairan utara Halmahera, serta perairan utara Papua Barat hingga Papua.Gelombang tinggi ini disebabkan adanya siklon tropis dari dua bibit siklon yang akan bertemu di wilayah Indonesia. Kondisi ini memunculkan pergerakan massa udara dari Asia ke Indonesia menguat. Selain menyebabkan gelombang tinggi, siklon tropis itu juga berdampak pada potensi angin kencang serta hujan lebat di beberapa daerah di Indonesia.Menurut Mulyono, warga harus berhati-hati terkait tingginya gelombang di beberapa perairan Indonesia. BMKG mengimbau warga yang berlibur akhir tahun di sekitar pesisir selatan Pulau Jawa tetap waspada akibat angin potensi angin kencang dan gelombang tinggi. \"Diharapkan untuk tidak berlayar menuju laut lepas,\" ucap Mulyono.Selain itu, kata Mulyono, lembaganya mengimbau kapal-kapal nelayan tak melaut karena kondisi gelombang tinggi dan angin kencang. \"Terutama perahu nelayan dan kapal-kapal ukuran kecil agar tidak memaksakan diri melaut,\" tuturnya.\n",
      "date: Selasa, 1 Januari 2019 07:15 WIB\n"
     ]
    },
    {
     "name": "stdout",
     "output_type": "stream",
     "text": [
      "title: \n",
      "\t\t\t\t\t\t\tKY Berharap DPR Segera Selesaikan RUU Jabatan Hakim\t\t\t\t\t\t\n",
      "deskripsi: TEMPO.CO, Jakarta - Wakil Ketua Komisi Yudisial, Maradaman Harahap, berharap Dewan Perwakilan Rakyat (DPR) segera menyelesaikan revisi Undang-Undang Jabatan Hakim. Beleid itu dinilai akan menguatkan posisi KY sebagai pengawas Mahkamah Agung (MA).Baca: Menteri Yohana Akan Bahas Usia Minimum Pernikahan dengan DPRMaradaman mengatakan, KY mengusulkan tambahan kewenangan agar dapat memberi sanksi kepada MA. \"Satu sisi KY diberikan wewenang untuk mengawasi, tapi tidak diberi kewenangan untuk memberi sanksi,\" kata Maradaman di kantornya, Jakarta, Senin, 31 Desember 2018.Selama ini, pengawasan KY hanya menghasilkan usulan. MA dapat tidak melaksanakan rekomendasi tersebut jika mereka menilai putusan tersebut tidak sesuai wewenang KY atau teknis yudisial.Maradaman mencontohkan, sepanjang 2018 KY mengusulkan 39 putusan sanksi kepada MA terkait pelanggaran Kode Etik dan Pedoman Perilaku Hakim (KEPPH). MA hanya merespons 18 rekomendasi sanksi. Sebanyak 10 usulan di antaranya tidak ditindaklanjuti MA karena alasan teknis yudisial. KY mencatat hanya ada empat usulannya yang dilaksanakan MA.Baca: MK Kabulkan Gugatan Uji Materi Batas Usia PerkawinanKetua KY Jaja Ahmad Jayus mengatakan pihaknya mendorong pengesahan tersebut juga dengan alasan ingin memastikan karir hakim. \"Tentunya KY sangat mendorong RUU Jabatan Hakim supaya menjadi jelas bagaimana proses rekrutmen, proses rotasi, mutasi, dalam arti proses manajemen hakim, jelas posisi dan kedudukan dari para hakim itu, kemudian pengawasan itu bagian terpenting dari KY,\" katanya.Menurut Maradaman, KY sudah berkali-kali bertemu DPR membahas RUU Jabatan Hakim. \"Janji DPR tahun 2018 selesai. Tapi karena tahun ini tahun politik, enggak tahu lah. Akhirnya banyak yang tidak jadi dibahas,\" katanya.Menurut Maradaman, pembahasan beleid ini juga mendapat resistensi dari Mahkamah Agung. Namun dia tetap optimistis dan menyerahkan nasib RUU tersebut kepada DPR.\n",
      "\n",
      "date: Selasa, 1 Januari 2019 06:56 WIB\n",
      "title: \n",
      "\t\t\t\t\t\t\tHarapan Pengungsi Tsunami Banten Memasuki Tahun Baru 2019\t\t\t\t\t\t\n",
      "deskripsi: TEMPO.CO, Banten - Perayaan tahun baru identik dengan harapan baru. Begitu pun pengungsi korban tsunami Selat Sunda juga punya harapan baru di tahun baru 2019.Baca: Kisah Tokoh Adat Pulau Sangiang Emoh Dievakuasi Pasca-TsunamiSalah satu pengungsi, Suryana, 26 tahun, berharap bisa kembali memiliki rumah. \"Pingin punya rumah lagi, kalau enggak punya rumah sedih,\" kata dia ditemui di Posko Penanggulangan Bencana Alam Kementerian Sosial Republik Indonesia, Kampung Palumpang, Desa Rancaterep, Kecamatan Labuan, Pandeglang, Banten, Senin malam, 31 Desember 2018.Sebelum tsunami, Suryana memiliki rumah 5x4 meter di Kampung Karet, Desa Teluk, Labuan, Banten. Rumahnya hanya berjarak 15 meter dari tepi pantai. Suryana adalah nelayan. Jarak rumah yang dekat dengan laut membuat Suryana tak perlu berjalan jauh ke tempat mencari nafkah.Namun, jarak itu pula yang membuat rumah Suryana tidak selamat saat tsunami Selat Sunda terjadi pada 22 Desember 2018. Tsunami membuat kediaman yang ditempati selama 5 tahun itu rata dengan tanah.Badan Nasional Penanggulangan Bencana mencatat 1.500 rusak berat, 70 rusak sedang dan 181 unit rumah rusak ringan oleh terjangan tsunami. Gelombang yang sama yang membuat rumah Suryana hancur.Baca: Korban Tsunami Selat Sunda: 437 Tewas, 9 Belum TeridentifikasiSuryana merasa beruntung karena istri dan dua orang anaknya selamat. Saat kejadian, Suryana berada di luar rumah. Matanya melihat gulungan putih ombak besar meluncur ke arah darat. Dengan segera, dia membawa lari keluarganya ke daratan yang lebih tinggi. \"Istri saya cuma luka-luka,\" kata dia.Tapi, Suryana tetap merasa sedih karena rumahnya hancur. Selama mengungsi, beberapa kali, Suryana sempat menengok rumahnya yang kini tinggal puing. \"Pingin cepat kumpul lagi sama keluarga,\" katanya.Di tahun baru 2019, Suryana berharap bisa membangun rumahnya kembali. Namun, dia merasa harapan itu sulit. Perahu yang dia pakai untuk mencari ikan juga rusak karena tsunami. \"Semoga ada bantuan membangun rumah,\" katanya.\n",
      "date: Selasa, 1 Januari 2019 06:10 WIB\n",
      "title: \n",
      "\t\t\t\t\t\t\tLongsor Sukabumi, 74 Warga Kampung Cisolok Belum Ditemukan\t\t\t\t\t\t\n",
      "deskripsi: TEMPO.CO, Sukabumi - Tim Reaksi Cepat Badan Penanggulangan Bencana Daerah (TRC BPBD) Kabupaten Sukabumi, Selasa dini hari, 1 Januari 2019, masih berada di lokasi bencana longsor di Kampung Cigarehong, Dusun Cimapag, Desa Sirnaresmi, Kecamatan Cisolok, Kabupaten Sukabumi, Jawa Barat. Tim dibantu warga melakukan pencarian terhadap korban yang diduga masih tertimbun di bawah material longsor.Baca: Longsor Sukabumi, 4 Orang Meninggal dan 4 Lainnya Masih TertimbunLongsor menerjang satu dusun di Kampung Cigarehong, Senin, 31 Desember 2018, sekitar pukul 17.00 WIB,. Akibat kejadian itu, sekitar 30 rumah yang dihuni 107 jiwa tertimbun longsor. Sebanyak 31 orang dapat diselamatkan, 74 korban belum ditemukan, dan 4 lainnya meninggal dunia.Baca: Satu Kampung di Cisolok Sukabumi Tertimbun Longsor“Itu data sementara yang kami terima dari laporan relawan di lapangan. Evakuasi dan pencarian korban kami hentikan sementara, karena cuaca saat ini masih hujan,” kata anggota TRC BPBD Kabupaten Sukabumi, Rahmawan, Selasa dini hari, 1 Januari 2019.Tim Relawan BPBD dari sejumlah kecamatan turut dilibatkan dalam pencarian dan evakuasi korban longsor. Saat ini, BPBD telah mendirikan pos penanganan bencana longsor di Desa Sirnaresmi.\n",
      "date: Selasa, 1 Januari 2019 04:15 WIB\n",
      "title: \n",
      "\t\t\t\t\t\t\tMalam Tahun Baru, Pengungsi Tsunami Selat Sunda Gelar Istighosah\t\t\t\t\t\t\n",
      "deskripsi: TEMPO.CO, Jakarta - Pengungsi korban tsunami Selat Sunda di Posko Penanggulangan Bencana Alam Kementerian Sosial Republik Indonesia, Kampung Palumpang, Desa Rancaterep, Kecamatan Labuan, Pandeglang, Banten menggelar doa bersama menjelang perayaan Tahun Baru 2019. Mereka berkumpul berdoa bersama berharap tahun baru memberikan harapan lebih baik.Baca: Begini Remaja Banten Kenang Perayaan Tahun Baru Sebelum Tsunami\"Mari kita mohon agar musibah yang melanda kita, semoga bisa diangkat dan kita bisa hidup lebih baik lagi,\" kata relawan Layanan Dukungan Psikososial, Taruna Siaga Bencana, Twi Adi, saat membuka acara doa istighosah, Senin, 31 Desember 2018.Doa istigosah dimulai sekitar pukul 20.45 WIB. Doa dipimpin Kyai Haji Ali Ridwan. Para pengungsi berkumpul di tengah-tengah lapangan futsal yang disulap menjadi tempat pengungsian. Anak-anak mengisi baris depan, sementara orang dewasa mengisi baris belakang. Surat Al-Fatihah dan dzikir melantun dari mulut mereka, diselingi suara hujan deras yang turun di sekitar Labuan, Banten, sejak sore hari.Baca: Gelombang 3 Meter, Turis di Pantai Selatan Yogya Diminta WaspadaDi pengungsian yang dikelola oleh Kementerian Sosial ini bermukim sekitar 1.432 pengungsi berdasarkan data pengungsian per 29 Desember 2018. Jumlah tersebut diperkirakan sudah berangsur berkurang. Mereka meninggalkan rumah sejak tsunami menerjang pemukiman mereka pada Sabtu malam, 22 Desember 2018. Sebagian lainnya mengungsi karena khawatir adanya tsunami susulan.Twi mengatakan pihaknya sengaja mengadakan doa bersama sebagai bagian perayaan Tahun Baru 2018. Dia berharap doa bersama juga dapat membuat keadaan para pengungsi lebih baik di tahun depan.\n",
      "date: Selasa, 1 Januari 2019 00:42 WIB\n",
      "title: \n",
      "\t\t\t\t\t\t\tLongsor Sukabumi, Sudah 15 Korban Meninggal yang Ditemukan\t\t\t\t\t\t\n",
      "deskripsi: TEMPO.CO, Jakarta -Tim gabungan pencarian korban tanah longsor Sukabumi, tepatnya di Kampung Garehong, Dusun Cimapag, Desa Sirnaresmi, Kecamatan Cisolok, Kabupaten Sukabumi, Jawa Barat, menemukan kembali jasad warga yang tertimbun. Tercatat, hingga pukul 14.00 WIB, Selasa 1 Januari 2019, sudah 13 warga yang ditemukan.Baca : PVMBG Ungkap 3 Faktor Penyebab Longsor Sukabumi\"Hingga tadi siang, kami kembali menemukan 13 korban dalam kondisi meninggal dunia,\" kata Komandan Resor Militer 061 Suryakencana, Kolonel Muhammad Hasan, kepada wartawan di posko bencana, Senin 1 Januari 2019.Dengan begitu, lanjut Hasan, korban meninggal dunia yang tertimbun sebanyak 15 orang. Sebelumnya pada Senin 31 Desember 2018 malam, tim evakuasi gabungan menemukan dua korban. \"Hingga saat ini masih ada enam mayat di lokasi,\" jelas Hasan.Hasan memastikan, hasil pendataan detail di lapangan, korban yang terindikasi tertimbun totalnya sebanyak 35 orang. Dengan telah ditemukannya 15 mayat korban tertimbun tanah longsor, berarti tinggal tersisa sebanyak 20 orang.\"Perlu kami sampaikan, sempat ada kesimpangsiuran data. Jumlah warga yang berada di kampung itu sebanyak 101 jiwa. Terus ada satu orang bayi yang meninggal di rumah sakit. Jadi datanya sebanyak 15 korban yang sudah ditemukan termasuk bayi yang meninggal di rumah sakit,\" jelas dia.Simak juga :Korban Longsor Sukabumi: 5 Tewas, 38 Orang Masih TertimbunBerdasarkan informasi, tujuh orang yang sebelumnya sudah ditemukan itu masing-masing teridentifikasi bernama Hendra, Sasa, Ukri, Riska, Ahudi, Rita, dan Yanti. Sementara enam mayat yang masih berada di lokasi belum teridentifikasi. \"Nanti kami akan bawa ke DVI untuk diidentifikasi,\" jelasnya.Proses pencarian dan evakuasi korban tertimbun longsor Sukabumi menggunakan sejumlah alat berat. Sehingga cukup memudahkan dalam proses pencarian. \"Tadi kami menggunakan beberapa alat berat untuk memudahkan proses pencarian,\" tandas Hasan.\n",
      "date: Selasa, 1 Januari 2019 23:26 WIB\n"
     ]
    },
    {
     "name": "stdout",
     "output_type": "stream",
     "text": [
      "title: \n",
      "\t\t\t\t\t\t\tPresiden Jokowi Tunda Pelantikan Kepala BNPB yang Baru\t\t\t\t\t\t\n",
      "deskripsi: TEMPO.CO, Jakarta -Presiden Joko Widodo atau Jokowi menunda pelantikan Letnan Jenderal TNI Doni Monardo sebagai Kepala Badan Nasional Penanggulanan Bencana disingkat BNPB. Awalnya Doni akan dilantik pada Rabu, 2 Januari 2019 untuk menggantikan Laksamana Muda (Purn) Willem Rampangilei.Baca : Humas, BNPB dan BPBD Siap Mendukung Kepala yang Baru\"Mohon maaf, pelantikan Kepala BNPB tidak jadi. Ditunda,\" kata juru bicara Presiden, Johan Budi, melalui pesan singkat pada Selasa, 1 Januari 2019. Johan menuturkan, kabar itu dia dengar dari Menteri Sekretaris Negara Pratikno. Pratikno juga sudah mengabarkan informasi tersebut kepada wartawan. \"Menginformasikan bahwa besok (Rabu, 2 Januari 2019) tidak ada pelantikan. Maaf jika sudah dengar ada pelantikan,\" katanya.Sebelumnya beredar undangan pelantikan Kepala BNPB baru. Berdasarkan undangan tersebut, pelantikan akan dilaksanakan digelar di Istana Negara pada Rabu, 2 Desember 2018 pukul 09.00 WIB.Johan Budi mengkonfirmasi kebenaran undangan tersebut. Dia juga menyatakan pejabat yang akan dilantik ialah Doni Monardo.Doni Monardo merupakan Sekjen Dewan Pertahanan Nasional. Sebelumnya, dia pernah menjabat sebagai Komandan Paspampres, Danjen Koppasus dan Pangdam Pattimura.Saat dikonfimasi Johan mengaku tak tahu alasan di balik penggantian jabatan tersebut. Staf Ahli Presiden, Adita Irawati, juga menyatakan tak mengetahui alasan penggantian Kepala BNPB. \"Kami tidak memiliki informasi soal itu,\" ujarnya.Simak juga : Letjen TNI Doni Monardo Besok Dilantik Jadi Kepala BNPBWillem Rampangilei dilantik Presiden Jokowi sebagai Kepala BNPB pada 7 September 2018. Menteri Sekretaris Negara Pratikno mengatakan Willem dipilih karena pengalamannya. “Pertimbangan kompetensi, pengalaman di bidang itu,” kata Pratikno, di kompleks Istana, Senin, 7 September 2015.Willem yang sebelumnya menjabat sebagai Deputi I di Kementerian Koordinator Pembangunan Manusia dan Kebudayaan itu menggantikan Syamsul Maarif sebagai kepala BNPB. Pratikno menuturkan, Syamsul diganti karena sudah terlalu lama menjabat. Dia memimpin BNPB sejak 2008.\n",
      "date: Selasa, 1 Januari 2019 23:04 WIB\n",
      "title: \n",
      "\t\t\t\t\t\t\tHumas: BNPB dan BPBD Siap Mendukung Kepala yang Baru \t\t\t\t\t\t\n",
      "deskripsi: TEMPO.CO, Jakarta-Kepala Pusat Data Informasi dan Humas Badan Nasional Penanggulangan Bencana (BNPB) Sutopo Purwo Nugroho membenarkan bahwa ada pergantian Kepala BNPB. Menurutnya pelantikan Kepala BNPB baru digelar Selasa, 2 Januar 2019 pukul 09.00 WIB di Istana Negara sesuai dengan undangan yang lebih dulu tersebar.Sutopo mengaku belum mengetahui soal siapa yang akan menggantikan posisi kepala sebelumnya, Willem Rampangilei. Namun menurut keterangan Juru Bicara Presiden, Johan Budi, melalui pesan singkat pada Selasa, 1 Januari 2019, Kepala BNPB bakal ditempati oleh Letnan Jenderal Doni Monardo.Baca: Besok, Jokowi Lantik Kepala BNPB Baru\n",
      "date: Selasa, 1 Januari 2019 21:53 WIB\n",
      "title: \n",
      "\t\t\t\t\t\t\tLibur Awal Tahun, Jokowi Jogging di Kebun Raya Bogor\t\t\t\t\t\t\n",
      "deskripsi: TEMPO.CO, Jakarta-Presiden Joko Widodo (Jokowi) memanfaatkan libur di awal tahun dengan berolahraga di Kebun Raya Bogor, Selasa, 1 Januari 2019. Dia juga menyempatkan menyapa masyarakat di sekitar tempat tersebut.Jokowi tampil santai mengenakan celana training dan jaket hitam serta sepatu kets. Dia mulai jogging sekitar pukul 13.30 WIB. Jokowi berlari menuju area Kebun Raya Bogor dari kediamannya di Wisma Bayurini, Istana Kepresidenan Bogor.Baca: Besok, Jokowi Lantik Kepala BNPB Baru\n",
      "date: Selasa, 1 Januari 2019 21:22 WIB\n",
      "title: \n",
      "\t\t\t\t\t\t\tSetelah Aceh, Gempa Magnitudo 5 Guncang Barat Daya Pangandaran\t\t\t\t\t\t\n",
      "deskripsi: TEMPO.CO, Jakarta-Gempa dengan magnitudo 5 menggucang Pangandaran, Jawa Barat, Selasa malam, 1 Januari 2019. Badan Meteorologi Klimatologi dan Geofisika (BMKG) melalui situs resmi bmkg.go.id menyatakan gempa tersebut tidak berpotensi tsunami.Menurut BMKG gempa terjadi pada pukul 19.25 WIB di kedalaman 10 kilometer, berkoordinat pada 10.62 Lintang Utara, 108.46 Bujur Timur. BMKG menyebut pusat gempa berada pada 327 kilometer barat daya Kabupaten Pangandaran.Baca: Malam Ini Gempa Guncang Banda Aceh dan Selatan Jawa\n",
      "date: Selasa, 1 Januari 2019 21:07 WIB\n",
      "title: \n",
      "\t\t\t\t\t\t\tSBY: Saya Minta Restu Rakyat untuk Ikut Berjuang di Pemilu 2019\t\t\t\t\t\t\n",
      "deskripsi: TEMPO.CO, Jakarta - Cuitan berseri pertama Ketua Umum Partai Demokrat Susilo Bambang Yudhoyono atau SBY di tahun 2019, melalui akun @SBYudhoyono, menyampaikan permohonannya pada masyarakat Indonesia untuk turut berjuang dalam pemilu 2019 ini.Baca juga:  Pertemuan Prabowo dan SBY Dinilai Perkuat Strategi Pemenangan\"Dalam kapasitas saya sebagai pemimpin Partai Demokrat, saya minta restu rakyat Indonesia untuk ikut berjuang dalam Pemilu Tahun 2019 ini,\" ucap SBY dalam cuitannya Senin 1 Januari 2019.Diketahui langkah terdekat keterlibatan SBY dalam Pemilu di awal tahun ini, akan dimulai dengan mempersiapkan debat capres yang akan dihadapi oleh pasangan Prabowo Subianto-Sandiaga Uno.Adapun dalam rangka persiapan debat itu, partai-partai yang tergabung dalam Koalisi Adil Makmur akan segera menggelar pertemuan. \"Rapat akan berlangsung pada pekan ini,\" kata Direktur Materi dan Debat, Badan Pemenangan Nasional Prabowo-Sandiaga Uno, Sudirman Said, Ahad 30 Desember 2018. Menurutnya, SBY dipastikan akan ikut dalam pertemuan tersebut.Selain meminta restu, dalam cuitannya Presiden keenam Republik Indonesia ini sekaligus menyampaikan agar semua pihak menjaga kedamaian di tahun politik ini. Ia mengharapkan agar para elite politik, termasuk Jokowi, Prabowo, juga dirinya, agar dapat memberikan contoh yang damai, jujur dan adil.Baca juga: Soal Kampanye SBY untuk Prabowo, Dahnil: Bisa Sepanggung\"Kompetisi memang 'keras', terlebih pemilihan presiden. Namun semua ada batasnya. Janganlah melampaui batas. Tak baik untuk rakyat,\" ujar SBY.Dalam cuitannya ia juga menjabarkan hasil selama dua tahun bersafari ke berbagai daerah. Menurut SBY, dirinya dan Partai Demokrat telah merumuskan 14 Prioritas Demokrat untuk Rakyat. Ia mengatakan 14 prioritas ini akan diperjuangkan Partai Demokrat untuk Indonesia semakin damai, adil, demokratis, dan sejahtera.\n",
      "date: Selasa, 1 Januari 2019 21:00 WIB\n"
     ]
    },
    {
     "name": "stderr",
     "output_type": "stream",
     "text": [
      "From cffi callback <function _verify_callback at 0x000002A2DBBA5BF8>:\n",
      "Traceback (most recent call last):\n",
      "  File \"C:\\Users\\Wilda\\Anaconda3\\lib\\site-packages\\OpenSSL\\SSL.py\", line 306, in wrapper\n",
      "    @wraps(callback)\n",
      "KeyboardInterrupt\n"
     ]
    },
    {
     "ename": "SSLError",
     "evalue": "HTTPSConnectionPool(host='nasional.tempo.co', port=443): Max retries exceeded with url: /read/1160669/malam-ini-gempa-guncang-banda-aceh-dan-selatan-jawa (Caused by SSLError(SSLError(\"bad handshake: Error([('SSL routines', 'ssl3_get_server_certificate', 'certificate verify failed')],)\",),))",
     "output_type": "error",
     "traceback": [
      "\u001b[1;31m---------------------------------------------------------------------------\u001b[0m",
      "\u001b[1;31mError\u001b[0m                                     Traceback (most recent call last)",
      "\u001b[1;32m~\\Anaconda3\\lib\\site-packages\\urllib3\\contrib\\pyopenssl.py\u001b[0m in \u001b[0;36mwrap_socket\u001b[1;34m(self, sock, server_side, do_handshake_on_connect, suppress_ragged_eofs, server_hostname)\u001b[0m\n\u001b[0;32m    440\u001b[0m             \u001b[1;32mtry\u001b[0m\u001b[1;33m:\u001b[0m\u001b[1;33m\u001b[0m\u001b[0m\n\u001b[1;32m--> 441\u001b[1;33m                 \u001b[0mcnx\u001b[0m\u001b[1;33m.\u001b[0m\u001b[0mdo_handshake\u001b[0m\u001b[1;33m(\u001b[0m\u001b[1;33m)\u001b[0m\u001b[1;33m\u001b[0m\u001b[0m\n\u001b[0m\u001b[0;32m    442\u001b[0m             \u001b[1;32mexcept\u001b[0m \u001b[0mOpenSSL\u001b[0m\u001b[1;33m.\u001b[0m\u001b[0mSSL\u001b[0m\u001b[1;33m.\u001b[0m\u001b[0mWantReadError\u001b[0m\u001b[1;33m:\u001b[0m\u001b[1;33m\u001b[0m\u001b[0m\n",
      "\u001b[1;32m~\\Anaconda3\\lib\\site-packages\\OpenSSL\\SSL.py\u001b[0m in \u001b[0;36mdo_handshake\u001b[1;34m(self)\u001b[0m\n\u001b[0;32m   1906\u001b[0m         \u001b[0mresult\u001b[0m \u001b[1;33m=\u001b[0m \u001b[0m_lib\u001b[0m\u001b[1;33m.\u001b[0m\u001b[0mSSL_do_handshake\u001b[0m\u001b[1;33m(\u001b[0m\u001b[0mself\u001b[0m\u001b[1;33m.\u001b[0m\u001b[0m_ssl\u001b[0m\u001b[1;33m)\u001b[0m\u001b[1;33m\u001b[0m\u001b[0m\n\u001b[1;32m-> 1907\u001b[1;33m         \u001b[0mself\u001b[0m\u001b[1;33m.\u001b[0m\u001b[0m_raise_ssl_error\u001b[0m\u001b[1;33m(\u001b[0m\u001b[0mself\u001b[0m\u001b[1;33m.\u001b[0m\u001b[0m_ssl\u001b[0m\u001b[1;33m,\u001b[0m \u001b[0mresult\u001b[0m\u001b[1;33m)\u001b[0m\u001b[1;33m\u001b[0m\u001b[0m\n\u001b[0m\u001b[0;32m   1908\u001b[0m \u001b[1;33m\u001b[0m\u001b[0m\n",
      "\u001b[1;32m~\\Anaconda3\\lib\\site-packages\\OpenSSL\\SSL.py\u001b[0m in \u001b[0;36m_raise_ssl_error\u001b[1;34m(self, ssl, result)\u001b[0m\n\u001b[0;32m   1638\u001b[0m         \u001b[1;32melse\u001b[0m\u001b[1;33m:\u001b[0m\u001b[1;33m\u001b[0m\u001b[0m\n\u001b[1;32m-> 1639\u001b[1;33m             \u001b[0m_raise_current_error\u001b[0m\u001b[1;33m(\u001b[0m\u001b[1;33m)\u001b[0m\u001b[1;33m\u001b[0m\u001b[0m\n\u001b[0m\u001b[0;32m   1640\u001b[0m \u001b[1;33m\u001b[0m\u001b[0m\n",
      "\u001b[1;32m~\\Anaconda3\\lib\\site-packages\\OpenSSL\\_util.py\u001b[0m in \u001b[0;36mexception_from_error_queue\u001b[1;34m(exception_type)\u001b[0m\n\u001b[0;32m     53\u001b[0m \u001b[1;33m\u001b[0m\u001b[0m\n\u001b[1;32m---> 54\u001b[1;33m     \u001b[1;32mraise\u001b[0m \u001b[0mexception_type\u001b[0m\u001b[1;33m(\u001b[0m\u001b[0merrors\u001b[0m\u001b[1;33m)\u001b[0m\u001b[1;33m\u001b[0m\u001b[0m\n\u001b[0m\u001b[0;32m     55\u001b[0m \u001b[1;33m\u001b[0m\u001b[0m\n",
      "\u001b[1;31mError\u001b[0m: [('SSL routines', 'ssl3_get_server_certificate', 'certificate verify failed')]",
      "\nDuring handling of the above exception, another exception occurred:\n",
      "\u001b[1;31mSSLError\u001b[0m                                  Traceback (most recent call last)",
      "\u001b[1;32m~\\Anaconda3\\lib\\site-packages\\urllib3\\connectionpool.py\u001b[0m in \u001b[0;36murlopen\u001b[1;34m(self, method, url, body, headers, retries, redirect, assert_same_host, timeout, pool_timeout, release_conn, chunked, body_pos, **response_kw)\u001b[0m\n\u001b[0;32m    600\u001b[0m                                                   \u001b[0mbody\u001b[0m\u001b[1;33m=\u001b[0m\u001b[0mbody\u001b[0m\u001b[1;33m,\u001b[0m \u001b[0mheaders\u001b[0m\u001b[1;33m=\u001b[0m\u001b[0mheaders\u001b[0m\u001b[1;33m,\u001b[0m\u001b[1;33m\u001b[0m\u001b[0m\n\u001b[1;32m--> 601\u001b[1;33m                                                   chunked=chunked)\n\u001b[0m\u001b[0;32m    602\u001b[0m \u001b[1;33m\u001b[0m\u001b[0m\n",
      "\u001b[1;32m~\\Anaconda3\\lib\\site-packages\\urllib3\\connectionpool.py\u001b[0m in \u001b[0;36m_make_request\u001b[1;34m(self, conn, method, url, timeout, chunked, **httplib_request_kw)\u001b[0m\n\u001b[0;32m    345\u001b[0m         \u001b[1;32mtry\u001b[0m\u001b[1;33m:\u001b[0m\u001b[1;33m\u001b[0m\u001b[0m\n\u001b[1;32m--> 346\u001b[1;33m             \u001b[0mself\u001b[0m\u001b[1;33m.\u001b[0m\u001b[0m_validate_conn\u001b[0m\u001b[1;33m(\u001b[0m\u001b[0mconn\u001b[0m\u001b[1;33m)\u001b[0m\u001b[1;33m\u001b[0m\u001b[0m\n\u001b[0m\u001b[0;32m    347\u001b[0m         \u001b[1;32mexcept\u001b[0m \u001b[1;33m(\u001b[0m\u001b[0mSocketTimeout\u001b[0m\u001b[1;33m,\u001b[0m \u001b[0mBaseSSLError\u001b[0m\u001b[1;33m)\u001b[0m \u001b[1;32mas\u001b[0m \u001b[0me\u001b[0m\u001b[1;33m:\u001b[0m\u001b[1;33m\u001b[0m\u001b[0m\n",
      "\u001b[1;32m~\\Anaconda3\\lib\\site-packages\\urllib3\\connectionpool.py\u001b[0m in \u001b[0;36m_validate_conn\u001b[1;34m(self, conn)\u001b[0m\n\u001b[0;32m    849\u001b[0m         \u001b[1;32mif\u001b[0m \u001b[1;32mnot\u001b[0m \u001b[0mgetattr\u001b[0m\u001b[1;33m(\u001b[0m\u001b[0mconn\u001b[0m\u001b[1;33m,\u001b[0m \u001b[1;34m'sock'\u001b[0m\u001b[1;33m,\u001b[0m \u001b[1;32mNone\u001b[0m\u001b[1;33m)\u001b[0m\u001b[1;33m:\u001b[0m  \u001b[1;31m# AppEngine might not have  `.sock`\u001b[0m\u001b[1;33m\u001b[0m\u001b[0m\n\u001b[1;32m--> 850\u001b[1;33m             \u001b[0mconn\u001b[0m\u001b[1;33m.\u001b[0m\u001b[0mconnect\u001b[0m\u001b[1;33m(\u001b[0m\u001b[1;33m)\u001b[0m\u001b[1;33m\u001b[0m\u001b[0m\n\u001b[0m\u001b[0;32m    851\u001b[0m \u001b[1;33m\u001b[0m\u001b[0m\n",
      "\u001b[1;32m~\\Anaconda3\\lib\\site-packages\\urllib3\\connection.py\u001b[0m in \u001b[0;36mconnect\u001b[1;34m(self)\u001b[0m\n\u001b[0;32m    325\u001b[0m             \u001b[0mserver_hostname\u001b[0m\u001b[1;33m=\u001b[0m\u001b[0mhostname\u001b[0m\u001b[1;33m,\u001b[0m\u001b[1;33m\u001b[0m\u001b[0m\n\u001b[1;32m--> 326\u001b[1;33m             ssl_context=context)\n\u001b[0m\u001b[0;32m    327\u001b[0m \u001b[1;33m\u001b[0m\u001b[0m\n",
      "\u001b[1;32m~\\Anaconda3\\lib\\site-packages\\urllib3\\util\\ssl_.py\u001b[0m in \u001b[0;36mssl_wrap_socket\u001b[1;34m(sock, keyfile, certfile, cert_reqs, ca_certs, server_hostname, ssl_version, ciphers, ssl_context, ca_cert_dir)\u001b[0m\n\u001b[0;32m    328\u001b[0m     \u001b[1;32mif\u001b[0m \u001b[0mHAS_SNI\u001b[0m\u001b[1;33m:\u001b[0m  \u001b[1;31m# Platform-specific: OpenSSL with enabled SNI\u001b[0m\u001b[1;33m\u001b[0m\u001b[0m\n\u001b[1;32m--> 329\u001b[1;33m         \u001b[1;32mreturn\u001b[0m \u001b[0mcontext\u001b[0m\u001b[1;33m.\u001b[0m\u001b[0mwrap_socket\u001b[0m\u001b[1;33m(\u001b[0m\u001b[0msock\u001b[0m\u001b[1;33m,\u001b[0m \u001b[0mserver_hostname\u001b[0m\u001b[1;33m=\u001b[0m\u001b[0mserver_hostname\u001b[0m\u001b[1;33m)\u001b[0m\u001b[1;33m\u001b[0m\u001b[0m\n\u001b[0m\u001b[0;32m    330\u001b[0m \u001b[1;33m\u001b[0m\u001b[0m\n",
      "\u001b[1;32m~\\Anaconda3\\lib\\site-packages\\urllib3\\contrib\\pyopenssl.py\u001b[0m in \u001b[0;36mwrap_socket\u001b[1;34m(self, sock, server_side, do_handshake_on_connect, suppress_ragged_eofs, server_hostname)\u001b[0m\n\u001b[0;32m    447\u001b[0m             \u001b[1;32mexcept\u001b[0m \u001b[0mOpenSSL\u001b[0m\u001b[1;33m.\u001b[0m\u001b[0mSSL\u001b[0m\u001b[1;33m.\u001b[0m\u001b[0mError\u001b[0m \u001b[1;32mas\u001b[0m \u001b[0me\u001b[0m\u001b[1;33m:\u001b[0m\u001b[1;33m\u001b[0m\u001b[0m\n\u001b[1;32m--> 448\u001b[1;33m                 \u001b[1;32mraise\u001b[0m \u001b[0mssl\u001b[0m\u001b[1;33m.\u001b[0m\u001b[0mSSLError\u001b[0m\u001b[1;33m(\u001b[0m\u001b[1;34m'bad handshake: %r'\u001b[0m \u001b[1;33m%\u001b[0m \u001b[0me\u001b[0m\u001b[1;33m)\u001b[0m\u001b[1;33m\u001b[0m\u001b[0m\n\u001b[0m\u001b[0;32m    449\u001b[0m             \u001b[1;32mbreak\u001b[0m\u001b[1;33m\u001b[0m\u001b[0m\n",
      "\u001b[1;31mSSLError\u001b[0m: (\"bad handshake: Error([('SSL routines', 'ssl3_get_server_certificate', 'certificate verify failed')],)\",)",
      "\nDuring handling of the above exception, another exception occurred:\n",
      "\u001b[1;31mMaxRetryError\u001b[0m                             Traceback (most recent call last)",
      "\u001b[1;32m~\\Anaconda3\\lib\\site-packages\\requests\\adapters.py\u001b[0m in \u001b[0;36msend\u001b[1;34m(self, request, stream, timeout, verify, cert, proxies)\u001b[0m\n\u001b[0;32m    439\u001b[0m                     \u001b[0mretries\u001b[0m\u001b[1;33m=\u001b[0m\u001b[0mself\u001b[0m\u001b[1;33m.\u001b[0m\u001b[0mmax_retries\u001b[0m\u001b[1;33m,\u001b[0m\u001b[1;33m\u001b[0m\u001b[0m\n\u001b[1;32m--> 440\u001b[1;33m                     \u001b[0mtimeout\u001b[0m\u001b[1;33m=\u001b[0m\u001b[0mtimeout\u001b[0m\u001b[1;33m\u001b[0m\u001b[0m\n\u001b[0m\u001b[0;32m    441\u001b[0m                 )\n",
      "\u001b[1;32m~\\Anaconda3\\lib\\site-packages\\urllib3\\connectionpool.py\u001b[0m in \u001b[0;36murlopen\u001b[1;34m(self, method, url, body, headers, retries, redirect, assert_same_host, timeout, pool_timeout, release_conn, chunked, body_pos, **response_kw)\u001b[0m\n\u001b[0;32m    638\u001b[0m             retries = retries.increment(method, url, error=e, _pool=self,\n\u001b[1;32m--> 639\u001b[1;33m                                         _stacktrace=sys.exc_info()[2])\n\u001b[0m\u001b[0;32m    640\u001b[0m             \u001b[0mretries\u001b[0m\u001b[1;33m.\u001b[0m\u001b[0msleep\u001b[0m\u001b[1;33m(\u001b[0m\u001b[1;33m)\u001b[0m\u001b[1;33m\u001b[0m\u001b[0m\n",
      "\u001b[1;32m~\\Anaconda3\\lib\\site-packages\\urllib3\\util\\retry.py\u001b[0m in \u001b[0;36mincrement\u001b[1;34m(self, method, url, response, error, _pool, _stacktrace)\u001b[0m\n\u001b[0;32m    387\u001b[0m         \u001b[1;32mif\u001b[0m \u001b[0mnew_retry\u001b[0m\u001b[1;33m.\u001b[0m\u001b[0mis_exhausted\u001b[0m\u001b[1;33m(\u001b[0m\u001b[1;33m)\u001b[0m\u001b[1;33m:\u001b[0m\u001b[1;33m\u001b[0m\u001b[0m\n\u001b[1;32m--> 388\u001b[1;33m             \u001b[1;32mraise\u001b[0m \u001b[0mMaxRetryError\u001b[0m\u001b[1;33m(\u001b[0m\u001b[0m_pool\u001b[0m\u001b[1;33m,\u001b[0m \u001b[0murl\u001b[0m\u001b[1;33m,\u001b[0m \u001b[0merror\u001b[0m \u001b[1;32mor\u001b[0m \u001b[0mResponseError\u001b[0m\u001b[1;33m(\u001b[0m\u001b[0mcause\u001b[0m\u001b[1;33m)\u001b[0m\u001b[1;33m)\u001b[0m\u001b[1;33m\u001b[0m\u001b[0m\n\u001b[0m\u001b[0;32m    389\u001b[0m \u001b[1;33m\u001b[0m\u001b[0m\n",
      "\u001b[1;31mMaxRetryError\u001b[0m: HTTPSConnectionPool(host='nasional.tempo.co', port=443): Max retries exceeded with url: /read/1160669/malam-ini-gempa-guncang-banda-aceh-dan-selatan-jawa (Caused by SSLError(SSLError(\"bad handshake: Error([('SSL routines', 'ssl3_get_server_certificate', 'certificate verify failed')],)\",),))",
      "\nDuring handling of the above exception, another exception occurred:\n",
      "\u001b[1;31mSSLError\u001b[0m                                  Traceback (most recent call last)",
      "\u001b[1;32m<timed exec>\u001b[0m in \u001b[0;36m<module>\u001b[1;34m()\u001b[0m\n",
      "\u001b[1;32m<ipython-input-6-024895b673f6>\u001b[0m in \u001b[0;36mgetAndParseURL\u001b[1;34m(url)\u001b[0m\n\u001b[0;32m      1\u001b[0m \u001b[1;32mdef\u001b[0m \u001b[0mgetAndParseURL\u001b[0m\u001b[1;33m(\u001b[0m\u001b[0murl\u001b[0m\u001b[1;33m)\u001b[0m\u001b[1;33m:\u001b[0m\u001b[1;33m\u001b[0m\u001b[0m\n\u001b[1;32m----> 2\u001b[1;33m     \u001b[0mresult\u001b[0m \u001b[1;33m=\u001b[0m \u001b[0mrequests\u001b[0m\u001b[1;33m.\u001b[0m\u001b[0mget\u001b[0m\u001b[1;33m(\u001b[0m\u001b[0murl\u001b[0m\u001b[1;33m)\u001b[0m\u001b[1;33m\u001b[0m\u001b[0m\n\u001b[0m\u001b[0;32m      3\u001b[0m     \u001b[0msoup\u001b[0m \u001b[1;33m=\u001b[0m \u001b[0mBeautifulSoup\u001b[0m\u001b[1;33m(\u001b[0m\u001b[0mresult\u001b[0m\u001b[1;33m.\u001b[0m\u001b[0mtext\u001b[0m\u001b[1;33m,\u001b[0m \u001b[1;34m'html.parser'\u001b[0m\u001b[1;33m)\u001b[0m\u001b[1;33m\u001b[0m\u001b[0m\n\u001b[0;32m      4\u001b[0m     \u001b[1;32mreturn\u001b[0m\u001b[1;33m(\u001b[0m\u001b[0msoup\u001b[0m\u001b[1;33m)\u001b[0m\u001b[1;33m\u001b[0m\u001b[0m\n",
      "\u001b[1;32m~\\Anaconda3\\lib\\site-packages\\requests\\api.py\u001b[0m in \u001b[0;36mget\u001b[1;34m(url, params, **kwargs)\u001b[0m\n\u001b[0;32m     70\u001b[0m \u001b[1;33m\u001b[0m\u001b[0m\n\u001b[0;32m     71\u001b[0m     \u001b[0mkwargs\u001b[0m\u001b[1;33m.\u001b[0m\u001b[0msetdefault\u001b[0m\u001b[1;33m(\u001b[0m\u001b[1;34m'allow_redirects'\u001b[0m\u001b[1;33m,\u001b[0m \u001b[1;32mTrue\u001b[0m\u001b[1;33m)\u001b[0m\u001b[1;33m\u001b[0m\u001b[0m\n\u001b[1;32m---> 72\u001b[1;33m     \u001b[1;32mreturn\u001b[0m \u001b[0mrequest\u001b[0m\u001b[1;33m(\u001b[0m\u001b[1;34m'get'\u001b[0m\u001b[1;33m,\u001b[0m \u001b[0murl\u001b[0m\u001b[1;33m,\u001b[0m \u001b[0mparams\u001b[0m\u001b[1;33m=\u001b[0m\u001b[0mparams\u001b[0m\u001b[1;33m,\u001b[0m \u001b[1;33m**\u001b[0m\u001b[0mkwargs\u001b[0m\u001b[1;33m)\u001b[0m\u001b[1;33m\u001b[0m\u001b[0m\n\u001b[0m\u001b[0;32m     73\u001b[0m \u001b[1;33m\u001b[0m\u001b[0m\n\u001b[0;32m     74\u001b[0m \u001b[1;33m\u001b[0m\u001b[0m\n",
      "\u001b[1;32m~\\Anaconda3\\lib\\site-packages\\requests\\api.py\u001b[0m in \u001b[0;36mrequest\u001b[1;34m(method, url, **kwargs)\u001b[0m\n\u001b[0;32m     56\u001b[0m     \u001b[1;31m# cases, and look like a memory leak in others.\u001b[0m\u001b[1;33m\u001b[0m\u001b[1;33m\u001b[0m\u001b[0m\n\u001b[0;32m     57\u001b[0m     \u001b[1;32mwith\u001b[0m \u001b[0msessions\u001b[0m\u001b[1;33m.\u001b[0m\u001b[0mSession\u001b[0m\u001b[1;33m(\u001b[0m\u001b[1;33m)\u001b[0m \u001b[1;32mas\u001b[0m \u001b[0msession\u001b[0m\u001b[1;33m:\u001b[0m\u001b[1;33m\u001b[0m\u001b[0m\n\u001b[1;32m---> 58\u001b[1;33m         \u001b[1;32mreturn\u001b[0m \u001b[0msession\u001b[0m\u001b[1;33m.\u001b[0m\u001b[0mrequest\u001b[0m\u001b[1;33m(\u001b[0m\u001b[0mmethod\u001b[0m\u001b[1;33m=\u001b[0m\u001b[0mmethod\u001b[0m\u001b[1;33m,\u001b[0m \u001b[0murl\u001b[0m\u001b[1;33m=\u001b[0m\u001b[0murl\u001b[0m\u001b[1;33m,\u001b[0m \u001b[1;33m**\u001b[0m\u001b[0mkwargs\u001b[0m\u001b[1;33m)\u001b[0m\u001b[1;33m\u001b[0m\u001b[0m\n\u001b[0m\u001b[0;32m     59\u001b[0m \u001b[1;33m\u001b[0m\u001b[0m\n\u001b[0;32m     60\u001b[0m \u001b[1;33m\u001b[0m\u001b[0m\n",
      "\u001b[1;32m~\\Anaconda3\\lib\\site-packages\\requests\\sessions.py\u001b[0m in \u001b[0;36mrequest\u001b[1;34m(self, method, url, params, data, headers, cookies, files, auth, timeout, allow_redirects, proxies, hooks, stream, verify, cert, json)\u001b[0m\n\u001b[0;32m    506\u001b[0m         }\n\u001b[0;32m    507\u001b[0m         \u001b[0msend_kwargs\u001b[0m\u001b[1;33m.\u001b[0m\u001b[0mupdate\u001b[0m\u001b[1;33m(\u001b[0m\u001b[0msettings\u001b[0m\u001b[1;33m)\u001b[0m\u001b[1;33m\u001b[0m\u001b[0m\n\u001b[1;32m--> 508\u001b[1;33m         \u001b[0mresp\u001b[0m \u001b[1;33m=\u001b[0m \u001b[0mself\u001b[0m\u001b[1;33m.\u001b[0m\u001b[0msend\u001b[0m\u001b[1;33m(\u001b[0m\u001b[0mprep\u001b[0m\u001b[1;33m,\u001b[0m \u001b[1;33m**\u001b[0m\u001b[0msend_kwargs\u001b[0m\u001b[1;33m)\u001b[0m\u001b[1;33m\u001b[0m\u001b[0m\n\u001b[0m\u001b[0;32m    509\u001b[0m \u001b[1;33m\u001b[0m\u001b[0m\n\u001b[0;32m    510\u001b[0m         \u001b[1;32mreturn\u001b[0m \u001b[0mresp\u001b[0m\u001b[1;33m\u001b[0m\u001b[0m\n",
      "\u001b[1;32m~\\Anaconda3\\lib\\site-packages\\requests\\sessions.py\u001b[0m in \u001b[0;36msend\u001b[1;34m(self, request, **kwargs)\u001b[0m\n\u001b[0;32m    616\u001b[0m \u001b[1;33m\u001b[0m\u001b[0m\n\u001b[0;32m    617\u001b[0m         \u001b[1;31m# Send the request\u001b[0m\u001b[1;33m\u001b[0m\u001b[1;33m\u001b[0m\u001b[0m\n\u001b[1;32m--> 618\u001b[1;33m         \u001b[0mr\u001b[0m \u001b[1;33m=\u001b[0m \u001b[0madapter\u001b[0m\u001b[1;33m.\u001b[0m\u001b[0msend\u001b[0m\u001b[1;33m(\u001b[0m\u001b[0mrequest\u001b[0m\u001b[1;33m,\u001b[0m \u001b[1;33m**\u001b[0m\u001b[0mkwargs\u001b[0m\u001b[1;33m)\u001b[0m\u001b[1;33m\u001b[0m\u001b[0m\n\u001b[0m\u001b[0;32m    619\u001b[0m \u001b[1;33m\u001b[0m\u001b[0m\n\u001b[0;32m    620\u001b[0m         \u001b[1;31m# Total elapsed time of the request (approximately)\u001b[0m\u001b[1;33m\u001b[0m\u001b[1;33m\u001b[0m\u001b[0m\n",
      "\u001b[1;32m~\\Anaconda3\\lib\\site-packages\\requests\\adapters.py\u001b[0m in \u001b[0;36msend\u001b[1;34m(self, request, stream, timeout, verify, cert, proxies)\u001b[0m\n\u001b[0;32m    504\u001b[0m             \u001b[1;32mif\u001b[0m \u001b[0misinstance\u001b[0m\u001b[1;33m(\u001b[0m\u001b[0me\u001b[0m\u001b[1;33m.\u001b[0m\u001b[0mreason\u001b[0m\u001b[1;33m,\u001b[0m \u001b[0m_SSLError\u001b[0m\u001b[1;33m)\u001b[0m\u001b[1;33m:\u001b[0m\u001b[1;33m\u001b[0m\u001b[0m\n\u001b[0;32m    505\u001b[0m                 \u001b[1;31m# This branch is for urllib3 v1.22 and later.\u001b[0m\u001b[1;33m\u001b[0m\u001b[1;33m\u001b[0m\u001b[0m\n\u001b[1;32m--> 506\u001b[1;33m                 \u001b[1;32mraise\u001b[0m \u001b[0mSSLError\u001b[0m\u001b[1;33m(\u001b[0m\u001b[0me\u001b[0m\u001b[1;33m,\u001b[0m \u001b[0mrequest\u001b[0m\u001b[1;33m=\u001b[0m\u001b[0mrequest\u001b[0m\u001b[1;33m)\u001b[0m\u001b[1;33m\u001b[0m\u001b[0m\n\u001b[0m\u001b[0;32m    507\u001b[0m \u001b[1;33m\u001b[0m\u001b[0m\n\u001b[0;32m    508\u001b[0m             \u001b[1;32mraise\u001b[0m \u001b[0mConnectionError\u001b[0m\u001b[1;33m(\u001b[0m\u001b[0me\u001b[0m\u001b[1;33m,\u001b[0m \u001b[0mrequest\u001b[0m\u001b[1;33m=\u001b[0m\u001b[0mrequest\u001b[0m\u001b[1;33m)\u001b[0m\u001b[1;33m\u001b[0m\u001b[0m\n",
      "\u001b[1;31mSSLError\u001b[0m: HTTPSConnectionPool(host='nasional.tempo.co', port=443): Max retries exceeded with url: /read/1160669/malam-ini-gempa-guncang-banda-aceh-dan-selatan-jawa (Caused by SSLError(SSLError(\"bad handshake: Error([('SSL routines', 'ssl3_get_server_certificate', 'certificate verify failed')],)\",),))"
     ]
    }
   ],
   "source": [
    "%%time\n",
    "\n",
    "names = []\n",
    "deskripsi = []\n",
    "tgl = []\n",
    "link_url = []\n",
    "categories = []\n",
    "ratings = []\n",
    "\n",
    "filename = \"corpustempo.csv\"\n",
    "f = open(filename, \"w\", encoding=\"utf-8\")\n",
    "\n",
    "headers = \"title` deskripsi` date\"\n",
    "\n",
    "f.write(headers)\n",
    "\n",
    "\n",
    "# scrape data for every book URL: this may take some time\n",
    "for url in booksURLs:\n",
    "        soup = getAndParseURL(url)\n",
    "        # product name\n",
    "        \n",
    "        title_box = soup.find('h1', attrs={'itemprop':'headline'})\n",
    "        title = title_box.text\n",
    "        #print (title)\n",
    "        names.append(title)\n",
    "        \n",
    "        # deskripsi\n",
    "        des_box = soup.find('div', attrs={'id':'isi'})\n",
    "        tes = des_box.findAll('p')\n",
    "        des = ''\n",
    "        for x in tes:\n",
    "            des = des + x.text\n",
    "        deskripsi.append(des)\n",
    "        \n",
    "        # tanggal published\n",
    "        tgl_box = soup.find('span', attrs={'itemprop':'datePublished'})\n",
    "        tgl_p = tgl_box.text\n",
    "        tgl.append(tgl_p)\n",
    "        \n",
    "        print(\"title: \" + title)\n",
    "        print(\"deskripsi: \" + des)\n",
    "        print(\"date: \" + tgl_p)\n",
    "\n",
    "        f.write(\"\\n\" + title.replace(\"\\r\\n\\t\\t\\t\\t\\t\\t\\t\", \"\") + \"`\" + des + \"`\" + tgl_p.replace(\",\", \"|\") )\n",
    "f.close()"
   ]
  },
  {
   "cell_type": "code",
   "execution_count": 41,
   "metadata": {},
   "outputs": [
    {
     "data": {
      "text/html": [
       "<div>\n",
       "<style scoped>\n",
       "    .dataframe tbody tr th:only-of-type {\n",
       "        vertical-align: middle;\n",
       "    }\n",
       "\n",
       "    .dataframe tbody tr th {\n",
       "        vertical-align: top;\n",
       "    }\n",
       "\n",
       "    .dataframe thead th {\n",
       "        text-align: right;\n",
       "    }\n",
       "</style>\n",
       "<table border=\"1\" class=\"dataframe\">\n",
       "  <thead>\n",
       "    <tr style=\"text-align: right;\">\n",
       "      <th></th>\n",
       "      <th>name</th>\n",
       "      <th>deskripsi</th>\n",
       "      <th>tanggal</th>\n",
       "    </tr>\n",
       "  </thead>\n",
       "  <tbody>\n",
       "    <tr>\n",
       "      <th>0</th>\n",
       "      <td>\\r\\n\\t\\t\\t\\t\\t\\t\\tLongsor Sukabumi, Sudah 15 K...</td>\n",
       "      <td>TEMPO.CO, Jakarta -Tim gabungan pencarian korb...</td>\n",
       "      <td>Selasa, 1 Januari 2019 23:26 WIB</td>\n",
       "    </tr>\n",
       "    <tr>\n",
       "      <th>1</th>\n",
       "      <td>\\r\\n\\t\\t\\t\\t\\t\\t\\tPresiden Jokowi Tunda Pelant...</td>\n",
       "      <td>TEMPO.CO, Jakarta -Presiden Joko Widodo atau J...</td>\n",
       "      <td>Selasa, 1 Januari 2019 23:04 WIB</td>\n",
       "    </tr>\n",
       "    <tr>\n",
       "      <th>2</th>\n",
       "      <td>\\r\\n\\t\\t\\t\\t\\t\\t\\tHumas: BNPB dan BPBD Siap Me...</td>\n",
       "      <td>TEMPO.CO, Jakarta-Kepala Pusat Data Informasi ...</td>\n",
       "      <td>Selasa, 1 Januari 2019 21:53 WIB</td>\n",
       "    </tr>\n",
       "    <tr>\n",
       "      <th>3</th>\n",
       "      <td>\\r\\n\\t\\t\\t\\t\\t\\t\\tLibur Awal Tahun, Jokowi Jog...</td>\n",
       "      <td>TEMPO.CO, Jakarta-Presiden Joko Widodo (Jokowi...</td>\n",
       "      <td>Selasa, 1 Januari 2019 21:22 WIB</td>\n",
       "    </tr>\n",
       "    <tr>\n",
       "      <th>4</th>\n",
       "      <td>\\r\\n\\t\\t\\t\\t\\t\\t\\tSetelah Aceh, Gempa Magnitud...</td>\n",
       "      <td>TEMPO.CO, Jakarta-Gempa dengan magnitudo 5 men...</td>\n",
       "      <td>Selasa, 1 Januari 2019 21:07 WIB</td>\n",
       "    </tr>\n",
       "    <tr>\n",
       "      <th>5</th>\n",
       "      <td>\\r\\n\\t\\t\\t\\t\\t\\t\\tSBY: Saya Minta Restu Rakyat...</td>\n",
       "      <td>TEMPO.CO, Jakarta - Cuitan berseri pertama Ket...</td>\n",
       "      <td>Selasa, 1 Januari 2019 21:00 WIB</td>\n",
       "    </tr>\n",
       "    <tr>\n",
       "      <th>6</th>\n",
       "      <td>\\r\\n\\t\\t\\t\\t\\t\\t\\tMalam Ini Gempa Guncang Band...</td>\n",
       "      <td>TEMPO.CO, Jakarta - Gempa dengan magnitudo 5.1...</td>\n",
       "      <td>Selasa, 1 Januari 2019 20:08 WIB</td>\n",
       "    </tr>\n",
       "    <tr>\n",
       "      <th>7</th>\n",
       "      <td>\\r\\n\\t\\t\\t\\t\\t\\t\\tLetjen TNI Doni Monardo Beso...</td>\n",
       "      <td>TEMPO.CO, Jakarta - Letnan Jenderal TNI Doni M...</td>\n",
       "      <td>Selasa, 1 Januari 2019 19:31 WIB</td>\n",
       "    </tr>\n",
       "    <tr>\n",
       "      <th>8</th>\n",
       "      <td>\\r\\n\\t\\t\\t\\t\\t\\t\\tAmien Rais Sebut yang Mendes...</td>\n",
       "      <td>TEMPO.CO, Jakarta - Ketua Dewan Kehormatan Par...</td>\n",
       "      <td>Selasa, 1 Januari 2019 19:31 WIB</td>\n",
       "    </tr>\n",
       "    <tr>\n",
       "      <th>9</th>\n",
       "      <td>\\r\\n\\t\\t\\t\\t\\t\\t\\tBesok, Jokowi Lantik Kepala ...</td>\n",
       "      <td>TEMPO.CO, Jakarta - Presiden Joko Widodo akan ...</td>\n",
       "      <td>Selasa, 1 Januari 2019 19:00 WIB</td>\n",
       "    </tr>\n",
       "    <tr>\n",
       "      <th>10</th>\n",
       "      <td>\\r\\n\\t\\t\\t\\t\\t\\t\\tFadli Zon: Tingkat Demokrasi...</td>\n",
       "      <td>TEMPO.CO, Jakarta - Wakil Ketua Dewan Perwakil...</td>\n",
       "      <td>Selasa, 1 Januari 2019 18:28 WIB</td>\n",
       "    </tr>\n",
       "    <tr>\n",
       "      <th>11</th>\n",
       "      <td>\\r\\n\\t\\t\\t\\t\\t\\t\\tGaya dan Cara Jokowi Sambut ...</td>\n",
       "      <td>Jakarta - Presiden Joko Widodo melewatkan mala...</td>\n",
       "      <td>Selasa, 1 Januari 2019 17:29 WIB</td>\n",
       "    </tr>\n",
       "    <tr>\n",
       "      <th>12</th>\n",
       "      <td>\\r\\n\\t\\t\\t\\t\\t\\t\\tTahun Baru 2019, JK Sampaika...</td>\n",
       "      <td>Jakarta - Wakil Presiden Jusuf Kalla atau JK m...</td>\n",
       "      <td>Selasa, 1 Januari 2019 17:27 WIB</td>\n",
       "    </tr>\n",
       "    <tr>\n",
       "      <th>13</th>\n",
       "      <td>\\r\\n\\t\\t\\t\\t\\t\\t\\tKenapa Amien Rais Yakin Prab...</td>\n",
       "      <td>TEMPO.CO, Jakarta - Ketua Dewan Kehormatan Par...</td>\n",
       "      <td>Selasa, 1 Januari 2019 16:45 WIB</td>\n",
       "    </tr>\n",
       "    <tr>\n",
       "      <th>14</th>\n",
       "      <td>\\r\\n\\t\\t\\t\\t\\t\\t\\tBuku Merah, Kuda Troya dan D...</td>\n",
       "      <td>TEMPO.CO, Jakarta - Sederet kasus yang terjadi...</td>\n",
       "      <td>Selasa, 1 Januari 2019 16:17 WIB</td>\n",
       "    </tr>\n",
       "    <tr>\n",
       "      <th>15</th>\n",
       "      <td>\\r\\n\\t\\t\\t\\t\\t\\t\\t5 Fakta Kelompok Mujahidin I...</td>\n",
       "      <td>TEMPO.CO, Jakarta - Nama kelompok Mujahidin In...</td>\n",
       "      <td>Selasa, 1 Januari 2019 16:08 WIB</td>\n",
       "    </tr>\n",
       "    <tr>\n",
       "      <th>16</th>\n",
       "      <td>\\r\\n\\t\\t\\t\\t\\t\\t\\tKata PVMBG dan Ahli Soal Seb...</td>\n",
       "      <td>TEMPO.CO, Jakarta - Kepala Pusat Vulkanologi d...</td>\n",
       "      <td>Selasa, 1 Januari 2019 15:26 WIB</td>\n",
       "    </tr>\n",
       "    <tr>\n",
       "      <th>17</th>\n",
       "      <td>\\r\\n\\t\\t\\t\\t\\t\\t\\tMujahidin Indonesia Timur Pa...</td>\n",
       "      <td>TEMPO.CO, Jakarta - Polri menduga kasus pembun...</td>\n",
       "      <td>Selasa, 1 Januari 2019 14:56 WIB</td>\n",
       "    </tr>\n",
       "    <tr>\n",
       "      <th>18</th>\n",
       "      <td>\\r\\n\\t\\t\\t\\t\\t\\t\\tAdik Gus Dur Anggap Tes Baca...</td>\n",
       "      <td>TEMPO.CO, Jakarta - Adik kandung Gus Dur, Lily...</td>\n",
       "      <td>Selasa, 1 Januari 2019 14:44 WIB</td>\n",
       "    </tr>\n",
       "    <tr>\n",
       "      <th>19</th>\n",
       "      <td>\\r\\n\\t\\t\\t\\t\\t\\t\\tDahnil Anzar Sebut Kampanye ...</td>\n",
       "      <td>TEMPO.CO, Jakarta - Juru bicara Badan Pemenang...</td>\n",
       "      <td>Selasa, 1 Januari 2019 14:24 WIB</td>\n",
       "    </tr>\n",
       "    <tr>\n",
       "      <th>20</th>\n",
       "      <td>\\r\\n\\t\\t\\t\\t\\t\\t\\tSoal Tes Baca Al Quran untuk...</td>\n",
       "      <td>TEMPO.CO, Jakarta -  Politikus senior yang jug...</td>\n",
       "      <td>Selasa, 1 Januari 2019 14:06 WIB</td>\n",
       "    </tr>\n",
       "    <tr>\n",
       "      <th>21</th>\n",
       "      <td>\\r\\n\\t\\t\\t\\t\\t\\t\\t4 Pleton Brimob Buru Kelompo...</td>\n",
       "      <td>TEMPO.CO, Jakarta - Polri menerjunkan dua Satu...</td>\n",
       "      <td>Selasa, 1 Januari 2019 13:54 WIB</td>\n",
       "    </tr>\n",
       "    <tr>\n",
       "      <th>22</th>\n",
       "      <td>\\r\\n\\t\\t\\t\\t\\t\\t\\tKorban Longsor Sukabumi: 5 T...</td>\n",
       "      <td>TEMPO.CO, Jakarta - Badan Nasional Penanggulan...</td>\n",
       "      <td>Selasa, 1 Januari 2019 13:21 WIB</td>\n",
       "    </tr>\n",
       "    <tr>\n",
       "      <th>23</th>\n",
       "      <td>\\r\\n\\t\\t\\t\\t\\t\\t\\tEvakuasi Longsor Sukabumi Te...</td>\n",
       "      <td>TEMPO.CO, Jakarta - Evakuasi korban longsor di...</td>\n",
       "      <td>Selasa, 1 Januari 2019 13:05 WIB</td>\n",
       "    </tr>\n",
       "    <tr>\n",
       "      <th>24</th>\n",
       "      <td>\\r\\n\\t\\t\\t\\t\\t\\t\\tAwal Tahun 2019, Kepulauan T...</td>\n",
       "      <td>TEMPO.CO, Jakarta - Gempa magnitudo 5,0 menggu...</td>\n",
       "      <td>Selasa, 1 Januari 2019 11:10 WIB</td>\n",
       "    </tr>\n",
       "    <tr>\n",
       "      <th>25</th>\n",
       "      <td>\\r\\n\\t\\t\\t\\t\\t\\t\\tPolda Papua Tangkap Pelaku P...</td>\n",
       "      <td>TEMPO.CO, Jakarta - Kepolisian Daerah Papua me...</td>\n",
       "      <td>Selasa, 1 Januari 2019 10:46 WIB</td>\n",
       "    </tr>\n",
       "    <tr>\n",
       "      <th>26</th>\n",
       "      <td>\\r\\n\\t\\t\\t\\t\\t\\t\\tSambut Tahun Baru 2019, Joko...</td>\n",
       "      <td>TEMPO.CO, Jakarta - Presiden Joko Widodo melal...</td>\n",
       "      <td>Selasa, 1 Januari 2019 09:21 WIB</td>\n",
       "    </tr>\n",
       "    <tr>\n",
       "      <th>27</th>\n",
       "      <td>\\r\\n\\t\\t\\t\\t\\t\\t\\tGempa yang Guncang Lombok Aw...</td>\n",
       "      <td>TEMPO.CO, Jakarta - Tak lama setelah pergantia...</td>\n",
       "      <td>Selasa, 1 Januari 2019 08:58 WIB</td>\n",
       "    </tr>\n",
       "    <tr>\n",
       "      <th>28</th>\n",
       "      <td>\\r\\n\\t\\t\\t\\t\\t\\t\\tLongsor Sukabumi, BNPB: 41 O...</td>\n",
       "      <td>TEMPO.CO, Jakarta - Pencarian korban longsor y...</td>\n",
       "      <td>Selasa, 1 Januari 2019 08:34 WIB</td>\n",
       "    </tr>\n",
       "    <tr>\n",
       "      <th>29</th>\n",
       "      <td>\\r\\n\\t\\t\\t\\t\\t\\t\\tTahun Baru, Pengungsi Tsunam...</td>\n",
       "      <td>TEMPO.CO, Banten - Pesta kembang api pergantia...</td>\n",
       "      <td>Selasa, 1 Januari 2019 08:01 WIB</td>\n",
       "    </tr>\n",
       "    <tr>\n",
       "      <th>...</th>\n",
       "      <td>...</td>\n",
       "      <td>...</td>\n",
       "      <td>...</td>\n",
       "    </tr>\n",
       "    <tr>\n",
       "      <th>254</th>\n",
       "      <td>\\r\\n\\t\\t\\t\\t\\t\\t\\tKebijakan Kontroversial Joko...</td>\n",
       "      <td>TEMPO.CO, Jakarta - Sepanjang 2018, Presiden J...</td>\n",
       "      <td>Sabtu, 5 Januari 2019 07:01 WIB</td>\n",
       "    </tr>\n",
       "    <tr>\n",
       "      <th>255</th>\n",
       "      <td>\\r\\n\\t\\t\\t\\t\\t\\t\\tEmpat Korban Longsor Sukabum...</td>\n",
       "      <td>TEMPO.CO, Sukabumi - Tim satuan tugas terpadu ...</td>\n",
       "      <td>Sabtu, 5 Januari 2019 06:35 WIB</td>\n",
       "    </tr>\n",
       "    <tr>\n",
       "      <th>256</th>\n",
       "      <td>\\r\\n\\t\\t\\t\\t\\t\\t\\tSuap Meikarta, KPK Periksa A...</td>\n",
       "      <td>TEMPO.CO, Jakarta - Komisi Pemberantasan Korup...</td>\n",
       "      <td>Sabtu, 5 Januari 2019 05:07 WIB</td>\n",
       "    </tr>\n",
       "    <tr>\n",
       "      <th>257</th>\n",
       "      <td>\\r\\n\\t\\t\\t\\t\\t\\t\\tAlasan Polri Mencari Rumah P...</td>\n",
       "      <td>TEMPO.CO, Jakarta - Kepala Biro Penerangan Mas...</td>\n",
       "      <td>Sabtu, 5 Januari 2019 00:23 WIB</td>\n",
       "    </tr>\n",
       "    <tr>\n",
       "      <th>258</th>\n",
       "      <td>\\r\\n\\t\\t\\t\\t\\t\\t\\tACTA Laporkan Grace Natalie ...</td>\n",
       "      <td>TEMPO.CO, Jakarta - Advokat Cinta Tanah Air (A...</td>\n",
       "      <td>Minggu, 6 Januari 2019 22:36 WIB</td>\n",
       "    </tr>\n",
       "    <tr>\n",
       "      <th>259</th>\n",
       "      <td>\\r\\n\\t\\t\\t\\t\\t\\t\\tPolisi Sebut Pengusaha Pemes...</td>\n",
       "      <td>TEMPO.CO, Surabaya - Setelah melepas artis sek...</td>\n",
       "      <td>Minggu, 6 Januari 2019 19:18 WIB</td>\n",
       "    </tr>\n",
       "    <tr>\n",
       "      <th>260</th>\n",
       "      <td>\\r\\n\\t\\t\\t\\t\\t\\t\\tJK dan Boediono Datang ke Pe...</td>\n",
       "      <td>TEMPO.CO, Yogyakarta - Pernikahan Putera Mahko...</td>\n",
       "      <td>Minggu, 6 Januari 2019 19:05 WIB</td>\n",
       "    </tr>\n",
       "    <tr>\n",
       "      <th>261</th>\n",
       "      <td>\\r\\n\\t\\t\\t\\t\\t\\t\\tSetelah Diperiksa Polisi, Va...</td>\n",
       "      <td>TEMPO.CO, Surabaya - Artis sekaligus model Van...</td>\n",
       "      <td>Minggu, 6 Januari 2019 17:48 WIB</td>\n",
       "    </tr>\n",
       "    <tr>\n",
       "      <th>262</th>\n",
       "      <td>\\r\\n\\t\\t\\t\\t\\t\\t\\tLembaga Riset Binokular: Fad...</td>\n",
       "      <td>TEMPO.CO, Jakarta - Hasil penelitian PT Binoku...</td>\n",
       "      <td>Minggu, 6 Januari 2019 16:58 WIB</td>\n",
       "    </tr>\n",
       "    <tr>\n",
       "      <th>263</th>\n",
       "      <td>\\r\\n\\t\\t\\t\\t\\t\\t\\tPengusaha Ini Laporkan Polis...</td>\n",
       "      <td>TEMPO.CO, Jakarta - Pengusaha Hartono Karjadi ...</td>\n",
       "      <td>Minggu, 6 Januari 2019 16:07 WIB</td>\n",
       "    </tr>\n",
       "    <tr>\n",
       "      <th>264</th>\n",
       "      <td>\\r\\n\\t\\t\\t\\t\\t\\t\\t Polri Dalami Kabar Penyande...</td>\n",
       "      <td>TEMPO.CO, Jakarta - Kepolisian RI masih terus ...</td>\n",
       "      <td>Minggu, 6 Januari 2019 15:50 WIB</td>\n",
       "    </tr>\n",
       "    <tr>\n",
       "      <th>265</th>\n",
       "      <td>\\r\\n\\t\\t\\t\\t\\t\\t\\tSatgas Antimafia Bola Akan P...</td>\n",
       "      <td>TEMPO.CO, Jakarta - Satuan Tugas Antimafia Bol...</td>\n",
       "      <td>Minggu, 6 Januari 2019 15:35 WIB</td>\n",
       "    </tr>\n",
       "    <tr>\n",
       "      <th>266</th>\n",
       "      <td>\\r\\n\\t\\t\\t\\t\\t\\t\\tPolemik Hoax Surat Suara, Ar...</td>\n",
       "      <td>TEMPO.CO, Jakarta - Juru bicara Tim Kampanye N...</td>\n",
       "      <td>Minggu, 6 Januari 2019 15:13 WIB</td>\n",
       "    </tr>\n",
       "    <tr>\n",
       "      <th>267</th>\n",
       "      <td>\\r\\n\\t\\t\\t\\t\\t\\t\\tHoax Surat Suara, Polisi Usu...</td>\n",
       "      <td>TEMPO.CO, Jakarta - Markas Besar Polri sedang ...</td>\n",
       "      <td>Minggu, 6 Januari 2019 15:02 WIB</td>\n",
       "    </tr>\n",
       "    <tr>\n",
       "      <th>268</th>\n",
       "      <td>\\r\\n\\t\\t\\t\\t\\t\\t\\tJokowi dan #2019GantiPreside...</td>\n",
       "      <td>TEMPO.CO, Jakarta - Hasil monitoring PT Binoku...</td>\n",
       "      <td>Minggu, 6 Januari 2019 14:59 WIB</td>\n",
       "    </tr>\n",
       "    <tr>\n",
       "      <th>269</th>\n",
       "      <td>\\r\\n\\t\\t\\t\\t\\t\\t\\tLongsor Sukabumi, 31 Orang M...</td>\n",
       "      <td>TEMPO.CO, Jakarta - Kepala Pusat Data Informas...</td>\n",
       "      <td>Minggu, 6 Januari 2019 14:35 WIB</td>\n",
       "    </tr>\n",
       "    <tr>\n",
       "      <th>270</th>\n",
       "      <td>\\r\\n\\t\\t\\t\\t\\t\\t\\tSandiaga Uno Setuju Pertanya...</td>\n",
       "      <td>TEMPO.CO, Jakarta - Calon wakil presiden Sandi...</td>\n",
       "      <td>Minggu, 6 Januari 2019 14:22 WIB</td>\n",
       "    </tr>\n",
       "    <tr>\n",
       "      <th>271</th>\n",
       "      <td>\\r\\n\\t\\t\\t\\t\\t\\t\\tWadah Pegawai KPK Desak Tero...</td>\n",
       "      <td>TEMPO.CO, Jakarta - Wadah Pegawai Komisi Pembe...</td>\n",
       "      <td>Minggu, 6 Januari 2019 13:54 WIB</td>\n",
       "    </tr>\n",
       "    <tr>\n",
       "      <th>272</th>\n",
       "      <td>\\r\\n\\t\\t\\t\\t\\t\\t\\tPolisi Sebut Akun Medsos Van...</td>\n",
       "      <td>TEMPO.CO, Surabaya - Kepala Subdirektorat 5 Si...</td>\n",
       "      <td>Minggu, 6 Januari 2019 13:43 WIB</td>\n",
       "    </tr>\n",
       "    <tr>\n",
       "      <th>273</th>\n",
       "      <td>\\r\\n\\t\\t\\t\\t\\t\\t\\t Andi Arief Akan Laporkan Or...</td>\n",
       "      <td>TEMPO.CO, Jakarta - Politikus Partai Demokrat ...</td>\n",
       "      <td>Minggu, 6 Januari 2019 12:07 WIB</td>\n",
       "    </tr>\n",
       "    <tr>\n",
       "      <th>274</th>\n",
       "      <td>\\r\\n\\t\\t\\t\\t\\t\\t\\tGempa 4,5 Magnitudo Guncang ...</td>\n",
       "      <td>TEMPO.CO, Jakarta - Balai Besar Meteorologi Kl...</td>\n",
       "      <td>Minggu, 6 Januari 2019 11:34 WIB</td>\n",
       "    </tr>\n",
       "    <tr>\n",
       "      <th>275</th>\n",
       "      <td>\\r\\n\\t\\t\\t\\t\\t\\t\\tPolisi Periksa Pengusaha yan...</td>\n",
       "      <td>TEMPO.CO, Jakarta - Artis berinisial VA yang d...</td>\n",
       "      <td>Minggu, 6 Januari 2019 10:47 WIB</td>\n",
       "    </tr>\n",
       "    <tr>\n",
       "      <th>276</th>\n",
       "      <td>\\r\\n\\t\\t\\t\\t\\t\\t\\tGerak Cepat KPU dan Cuitan A...</td>\n",
       "      <td>TEMPO.CO, Jakarta - Pesan viral yang beredar d...</td>\n",
       "      <td>Minggu, 6 Januari 2019 10:03 WIB</td>\n",
       "    </tr>\n",
       "    <tr>\n",
       "      <th>277</th>\n",
       "      <td>\\r\\n\\t\\t\\t\\t\\t\\t\\tKadernya Diberi Award Keboho...</td>\n",
       "      <td>TEMPO.CO, Jakarta - Wakil Sekretaris Jenderal ...</td>\n",
       "      <td>Minggu, 6 Januari 2019 07:44 WIB</td>\n",
       "    </tr>\n",
       "    <tr>\n",
       "      <th>278</th>\n",
       "      <td>\\r\\n\\t\\t\\t\\t\\t\\t\\tPeneliti LIPI Nilai Tindakan...</td>\n",
       "      <td>TEMPO.CO, Jakarta - Peneliti senior dari Lemba...</td>\n",
       "      <td>Minggu, 6 Januari 2019 06:58 WIB</td>\n",
       "    </tr>\n",
       "    <tr>\n",
       "      <th>279</th>\n",
       "      <td>\\r\\n\\t\\t\\t\\t\\t\\t\\tMucikari di Kasus Vanessa An...</td>\n",
       "      <td>TEMPO.CO, Jakarta - Kepolisian Daerah Jawa Tim...</td>\n",
       "      <td>Minggu, 6 Januari 2019 06:02 WIB</td>\n",
       "    </tr>\n",
       "    <tr>\n",
       "      <th>280</th>\n",
       "      <td>\\r\\n\\t\\t\\t\\t\\t\\t\\tIrwandi Yusuf Disebut Kirim ...</td>\n",
       "      <td>TEMPO.CO, Jakarta - Gubernur Aceh nonaktif Irw...</td>\n",
       "      <td>Senin, 7 Januari 2019 22:02 WIB</td>\n",
       "    </tr>\n",
       "    <tr>\n",
       "      <th>281</th>\n",
       "      <td>\\r\\n\\t\\t\\t\\t\\t\\t\\tGempa Magnitudo 5,4 Guncang ...</td>\n",
       "      <td>TEMPO.CO, Jakarta - Gempa kembali mengguncang ...</td>\n",
       "      <td>Senin, 7 Januari 2019 21:44 WIB</td>\n",
       "    </tr>\n",
       "    <tr>\n",
       "      <th>282</th>\n",
       "      <td>\\r\\n\\t\\t\\t\\t\\t\\t\\tKata Menteri Yohana Yambise ...</td>\n",
       "      <td>TEMPO.CO, Jakarta - Menteri Pemberdayaan Perem...</td>\n",
       "      <td>Senin, 7 Januari 2019 21:30 WIB</td>\n",
       "    </tr>\n",
       "    <tr>\n",
       "      <th>283</th>\n",
       "      <td>\\r\\n\\t\\t\\t\\t\\t\\t\\tSemua Terdakwa Kasus Kredit ...</td>\n",
       "      <td>TEMPO.CO, Jakarta - Setelah memvonis bebas lim...</td>\n",
       "      <td>Senin, 7 Januari 2019 20:52 WIB</td>\n",
       "    </tr>\n",
       "  </tbody>\n",
       "</table>\n",
       "<p>284 rows × 3 columns</p>\n",
       "</div>"
      ],
      "text/plain": [
       "                                                  name  \\\n",
       "0    \\r\\n\\t\\t\\t\\t\\t\\t\\tLongsor Sukabumi, Sudah 15 K...   \n",
       "1    \\r\\n\\t\\t\\t\\t\\t\\t\\tPresiden Jokowi Tunda Pelant...   \n",
       "2    \\r\\n\\t\\t\\t\\t\\t\\t\\tHumas: BNPB dan BPBD Siap Me...   \n",
       "3    \\r\\n\\t\\t\\t\\t\\t\\t\\tLibur Awal Tahun, Jokowi Jog...   \n",
       "4    \\r\\n\\t\\t\\t\\t\\t\\t\\tSetelah Aceh, Gempa Magnitud...   \n",
       "5    \\r\\n\\t\\t\\t\\t\\t\\t\\tSBY: Saya Minta Restu Rakyat...   \n",
       "6    \\r\\n\\t\\t\\t\\t\\t\\t\\tMalam Ini Gempa Guncang Band...   \n",
       "7    \\r\\n\\t\\t\\t\\t\\t\\t\\tLetjen TNI Doni Monardo Beso...   \n",
       "8    \\r\\n\\t\\t\\t\\t\\t\\t\\tAmien Rais Sebut yang Mendes...   \n",
       "9    \\r\\n\\t\\t\\t\\t\\t\\t\\tBesok, Jokowi Lantik Kepala ...   \n",
       "10   \\r\\n\\t\\t\\t\\t\\t\\t\\tFadli Zon: Tingkat Demokrasi...   \n",
       "11   \\r\\n\\t\\t\\t\\t\\t\\t\\tGaya dan Cara Jokowi Sambut ...   \n",
       "12   \\r\\n\\t\\t\\t\\t\\t\\t\\tTahun Baru 2019, JK Sampaika...   \n",
       "13   \\r\\n\\t\\t\\t\\t\\t\\t\\tKenapa Amien Rais Yakin Prab...   \n",
       "14   \\r\\n\\t\\t\\t\\t\\t\\t\\tBuku Merah, Kuda Troya dan D...   \n",
       "15   \\r\\n\\t\\t\\t\\t\\t\\t\\t5 Fakta Kelompok Mujahidin I...   \n",
       "16   \\r\\n\\t\\t\\t\\t\\t\\t\\tKata PVMBG dan Ahli Soal Seb...   \n",
       "17   \\r\\n\\t\\t\\t\\t\\t\\t\\tMujahidin Indonesia Timur Pa...   \n",
       "18   \\r\\n\\t\\t\\t\\t\\t\\t\\tAdik Gus Dur Anggap Tes Baca...   \n",
       "19   \\r\\n\\t\\t\\t\\t\\t\\t\\tDahnil Anzar Sebut Kampanye ...   \n",
       "20   \\r\\n\\t\\t\\t\\t\\t\\t\\tSoal Tes Baca Al Quran untuk...   \n",
       "21   \\r\\n\\t\\t\\t\\t\\t\\t\\t4 Pleton Brimob Buru Kelompo...   \n",
       "22   \\r\\n\\t\\t\\t\\t\\t\\t\\tKorban Longsor Sukabumi: 5 T...   \n",
       "23   \\r\\n\\t\\t\\t\\t\\t\\t\\tEvakuasi Longsor Sukabumi Te...   \n",
       "24   \\r\\n\\t\\t\\t\\t\\t\\t\\tAwal Tahun 2019, Kepulauan T...   \n",
       "25   \\r\\n\\t\\t\\t\\t\\t\\t\\tPolda Papua Tangkap Pelaku P...   \n",
       "26   \\r\\n\\t\\t\\t\\t\\t\\t\\tSambut Tahun Baru 2019, Joko...   \n",
       "27   \\r\\n\\t\\t\\t\\t\\t\\t\\tGempa yang Guncang Lombok Aw...   \n",
       "28   \\r\\n\\t\\t\\t\\t\\t\\t\\tLongsor Sukabumi, BNPB: 41 O...   \n",
       "29   \\r\\n\\t\\t\\t\\t\\t\\t\\tTahun Baru, Pengungsi Tsunam...   \n",
       "..                                                 ...   \n",
       "254  \\r\\n\\t\\t\\t\\t\\t\\t\\tKebijakan Kontroversial Joko...   \n",
       "255  \\r\\n\\t\\t\\t\\t\\t\\t\\tEmpat Korban Longsor Sukabum...   \n",
       "256  \\r\\n\\t\\t\\t\\t\\t\\t\\tSuap Meikarta, KPK Periksa A...   \n",
       "257  \\r\\n\\t\\t\\t\\t\\t\\t\\tAlasan Polri Mencari Rumah P...   \n",
       "258  \\r\\n\\t\\t\\t\\t\\t\\t\\tACTA Laporkan Grace Natalie ...   \n",
       "259  \\r\\n\\t\\t\\t\\t\\t\\t\\tPolisi Sebut Pengusaha Pemes...   \n",
       "260  \\r\\n\\t\\t\\t\\t\\t\\t\\tJK dan Boediono Datang ke Pe...   \n",
       "261  \\r\\n\\t\\t\\t\\t\\t\\t\\tSetelah Diperiksa Polisi, Va...   \n",
       "262  \\r\\n\\t\\t\\t\\t\\t\\t\\tLembaga Riset Binokular: Fad...   \n",
       "263  \\r\\n\\t\\t\\t\\t\\t\\t\\tPengusaha Ini Laporkan Polis...   \n",
       "264  \\r\\n\\t\\t\\t\\t\\t\\t\\t Polri Dalami Kabar Penyande...   \n",
       "265  \\r\\n\\t\\t\\t\\t\\t\\t\\tSatgas Antimafia Bola Akan P...   \n",
       "266  \\r\\n\\t\\t\\t\\t\\t\\t\\tPolemik Hoax Surat Suara, Ar...   \n",
       "267  \\r\\n\\t\\t\\t\\t\\t\\t\\tHoax Surat Suara, Polisi Usu...   \n",
       "268  \\r\\n\\t\\t\\t\\t\\t\\t\\tJokowi dan #2019GantiPreside...   \n",
       "269  \\r\\n\\t\\t\\t\\t\\t\\t\\tLongsor Sukabumi, 31 Orang M...   \n",
       "270  \\r\\n\\t\\t\\t\\t\\t\\t\\tSandiaga Uno Setuju Pertanya...   \n",
       "271  \\r\\n\\t\\t\\t\\t\\t\\t\\tWadah Pegawai KPK Desak Tero...   \n",
       "272  \\r\\n\\t\\t\\t\\t\\t\\t\\tPolisi Sebut Akun Medsos Van...   \n",
       "273  \\r\\n\\t\\t\\t\\t\\t\\t\\t Andi Arief Akan Laporkan Or...   \n",
       "274  \\r\\n\\t\\t\\t\\t\\t\\t\\tGempa 4,5 Magnitudo Guncang ...   \n",
       "275  \\r\\n\\t\\t\\t\\t\\t\\t\\tPolisi Periksa Pengusaha yan...   \n",
       "276  \\r\\n\\t\\t\\t\\t\\t\\t\\tGerak Cepat KPU dan Cuitan A...   \n",
       "277  \\r\\n\\t\\t\\t\\t\\t\\t\\tKadernya Diberi Award Keboho...   \n",
       "278  \\r\\n\\t\\t\\t\\t\\t\\t\\tPeneliti LIPI Nilai Tindakan...   \n",
       "279  \\r\\n\\t\\t\\t\\t\\t\\t\\tMucikari di Kasus Vanessa An...   \n",
       "280  \\r\\n\\t\\t\\t\\t\\t\\t\\tIrwandi Yusuf Disebut Kirim ...   \n",
       "281  \\r\\n\\t\\t\\t\\t\\t\\t\\tGempa Magnitudo 5,4 Guncang ...   \n",
       "282  \\r\\n\\t\\t\\t\\t\\t\\t\\tKata Menteri Yohana Yambise ...   \n",
       "283  \\r\\n\\t\\t\\t\\t\\t\\t\\tSemua Terdakwa Kasus Kredit ...   \n",
       "\n",
       "                                             deskripsi  \\\n",
       "0    TEMPO.CO, Jakarta -Tim gabungan pencarian korb...   \n",
       "1    TEMPO.CO, Jakarta -Presiden Joko Widodo atau J...   \n",
       "2    TEMPO.CO, Jakarta-Kepala Pusat Data Informasi ...   \n",
       "3    TEMPO.CO, Jakarta-Presiden Joko Widodo (Jokowi...   \n",
       "4    TEMPO.CO, Jakarta-Gempa dengan magnitudo 5 men...   \n",
       "5    TEMPO.CO, Jakarta - Cuitan berseri pertama Ket...   \n",
       "6    TEMPO.CO, Jakarta - Gempa dengan magnitudo 5.1...   \n",
       "7    TEMPO.CO, Jakarta - Letnan Jenderal TNI Doni M...   \n",
       "8    TEMPO.CO, Jakarta - Ketua Dewan Kehormatan Par...   \n",
       "9    TEMPO.CO, Jakarta - Presiden Joko Widodo akan ...   \n",
       "10   TEMPO.CO, Jakarta - Wakil Ketua Dewan Perwakil...   \n",
       "11   Jakarta - Presiden Joko Widodo melewatkan mala...   \n",
       "12   Jakarta - Wakil Presiden Jusuf Kalla atau JK m...   \n",
       "13   TEMPO.CO, Jakarta - Ketua Dewan Kehormatan Par...   \n",
       "14   TEMPO.CO, Jakarta - Sederet kasus yang terjadi...   \n",
       "15   TEMPO.CO, Jakarta - Nama kelompok Mujahidin In...   \n",
       "16   TEMPO.CO, Jakarta - Kepala Pusat Vulkanologi d...   \n",
       "17   TEMPO.CO, Jakarta - Polri menduga kasus pembun...   \n",
       "18   TEMPO.CO, Jakarta - Adik kandung Gus Dur, Lily...   \n",
       "19   TEMPO.CO, Jakarta - Juru bicara Badan Pemenang...   \n",
       "20   TEMPO.CO, Jakarta -  Politikus senior yang jug...   \n",
       "21   TEMPO.CO, Jakarta - Polri menerjunkan dua Satu...   \n",
       "22   TEMPO.CO, Jakarta - Badan Nasional Penanggulan...   \n",
       "23   TEMPO.CO, Jakarta - Evakuasi korban longsor di...   \n",
       "24   TEMPO.CO, Jakarta - Gempa magnitudo 5,0 menggu...   \n",
       "25   TEMPO.CO, Jakarta - Kepolisian Daerah Papua me...   \n",
       "26   TEMPO.CO, Jakarta - Presiden Joko Widodo melal...   \n",
       "27   TEMPO.CO, Jakarta - Tak lama setelah pergantia...   \n",
       "28   TEMPO.CO, Jakarta - Pencarian korban longsor y...   \n",
       "29   TEMPO.CO, Banten - Pesta kembang api pergantia...   \n",
       "..                                                 ...   \n",
       "254  TEMPO.CO, Jakarta - Sepanjang 2018, Presiden J...   \n",
       "255  TEMPO.CO, Sukabumi - Tim satuan tugas terpadu ...   \n",
       "256  TEMPO.CO, Jakarta - Komisi Pemberantasan Korup...   \n",
       "257  TEMPO.CO, Jakarta - Kepala Biro Penerangan Mas...   \n",
       "258  TEMPO.CO, Jakarta - Advokat Cinta Tanah Air (A...   \n",
       "259  TEMPO.CO, Surabaya - Setelah melepas artis sek...   \n",
       "260  TEMPO.CO, Yogyakarta - Pernikahan Putera Mahko...   \n",
       "261  TEMPO.CO, Surabaya - Artis sekaligus model Van...   \n",
       "262  TEMPO.CO, Jakarta - Hasil penelitian PT Binoku...   \n",
       "263  TEMPO.CO, Jakarta - Pengusaha Hartono Karjadi ...   \n",
       "264  TEMPO.CO, Jakarta - Kepolisian RI masih terus ...   \n",
       "265  TEMPO.CO, Jakarta - Satuan Tugas Antimafia Bol...   \n",
       "266  TEMPO.CO, Jakarta - Juru bicara Tim Kampanye N...   \n",
       "267  TEMPO.CO, Jakarta - Markas Besar Polri sedang ...   \n",
       "268  TEMPO.CO, Jakarta - Hasil monitoring PT Binoku...   \n",
       "269  TEMPO.CO, Jakarta - Kepala Pusat Data Informas...   \n",
       "270  TEMPO.CO, Jakarta - Calon wakil presiden Sandi...   \n",
       "271  TEMPO.CO, Jakarta - Wadah Pegawai Komisi Pembe...   \n",
       "272  TEMPO.CO, Surabaya - Kepala Subdirektorat 5 Si...   \n",
       "273  TEMPO.CO, Jakarta - Politikus Partai Demokrat ...   \n",
       "274  TEMPO.CO, Jakarta - Balai Besar Meteorologi Kl...   \n",
       "275  TEMPO.CO, Jakarta - Artis berinisial VA yang d...   \n",
       "276  TEMPO.CO, Jakarta - Pesan viral yang beredar d...   \n",
       "277  TEMPO.CO, Jakarta - Wakil Sekretaris Jenderal ...   \n",
       "278  TEMPO.CO, Jakarta - Peneliti senior dari Lemba...   \n",
       "279  TEMPO.CO, Jakarta - Kepolisian Daerah Jawa Tim...   \n",
       "280  TEMPO.CO, Jakarta - Gubernur Aceh nonaktif Irw...   \n",
       "281  TEMPO.CO, Jakarta - Gempa kembali mengguncang ...   \n",
       "282  TEMPO.CO, Jakarta - Menteri Pemberdayaan Perem...   \n",
       "283  TEMPO.CO, Jakarta - Setelah memvonis bebas lim...   \n",
       "\n",
       "                              tanggal  \n",
       "0    Selasa, 1 Januari 2019 23:26 WIB  \n",
       "1    Selasa, 1 Januari 2019 23:04 WIB  \n",
       "2    Selasa, 1 Januari 2019 21:53 WIB  \n",
       "3    Selasa, 1 Januari 2019 21:22 WIB  \n",
       "4    Selasa, 1 Januari 2019 21:07 WIB  \n",
       "5    Selasa, 1 Januari 2019 21:00 WIB  \n",
       "6    Selasa, 1 Januari 2019 20:08 WIB  \n",
       "7    Selasa, 1 Januari 2019 19:31 WIB  \n",
       "8    Selasa, 1 Januari 2019 19:31 WIB  \n",
       "9    Selasa, 1 Januari 2019 19:00 WIB  \n",
       "10   Selasa, 1 Januari 2019 18:28 WIB  \n",
       "11   Selasa, 1 Januari 2019 17:29 WIB  \n",
       "12   Selasa, 1 Januari 2019 17:27 WIB  \n",
       "13   Selasa, 1 Januari 2019 16:45 WIB  \n",
       "14   Selasa, 1 Januari 2019 16:17 WIB  \n",
       "15   Selasa, 1 Januari 2019 16:08 WIB  \n",
       "16   Selasa, 1 Januari 2019 15:26 WIB  \n",
       "17   Selasa, 1 Januari 2019 14:56 WIB  \n",
       "18   Selasa, 1 Januari 2019 14:44 WIB  \n",
       "19   Selasa, 1 Januari 2019 14:24 WIB  \n",
       "20   Selasa, 1 Januari 2019 14:06 WIB  \n",
       "21   Selasa, 1 Januari 2019 13:54 WIB  \n",
       "22   Selasa, 1 Januari 2019 13:21 WIB  \n",
       "23   Selasa, 1 Januari 2019 13:05 WIB  \n",
       "24   Selasa, 1 Januari 2019 11:10 WIB  \n",
       "25   Selasa, 1 Januari 2019 10:46 WIB  \n",
       "26   Selasa, 1 Januari 2019 09:21 WIB  \n",
       "27   Selasa, 1 Januari 2019 08:58 WIB  \n",
       "28   Selasa, 1 Januari 2019 08:34 WIB  \n",
       "29   Selasa, 1 Januari 2019 08:01 WIB  \n",
       "..                                ...  \n",
       "254   Sabtu, 5 Januari 2019 07:01 WIB  \n",
       "255   Sabtu, 5 Januari 2019 06:35 WIB  \n",
       "256   Sabtu, 5 Januari 2019 05:07 WIB  \n",
       "257   Sabtu, 5 Januari 2019 00:23 WIB  \n",
       "258  Minggu, 6 Januari 2019 22:36 WIB  \n",
       "259  Minggu, 6 Januari 2019 19:18 WIB  \n",
       "260  Minggu, 6 Januari 2019 19:05 WIB  \n",
       "261  Minggu, 6 Januari 2019 17:48 WIB  \n",
       "262  Minggu, 6 Januari 2019 16:58 WIB  \n",
       "263  Minggu, 6 Januari 2019 16:07 WIB  \n",
       "264  Minggu, 6 Januari 2019 15:50 WIB  \n",
       "265  Minggu, 6 Januari 2019 15:35 WIB  \n",
       "266  Minggu, 6 Januari 2019 15:13 WIB  \n",
       "267  Minggu, 6 Januari 2019 15:02 WIB  \n",
       "268  Minggu, 6 Januari 2019 14:59 WIB  \n",
       "269  Minggu, 6 Januari 2019 14:35 WIB  \n",
       "270  Minggu, 6 Januari 2019 14:22 WIB  \n",
       "271  Minggu, 6 Januari 2019 13:54 WIB  \n",
       "272  Minggu, 6 Januari 2019 13:43 WIB  \n",
       "273  Minggu, 6 Januari 2019 12:07 WIB  \n",
       "274  Minggu, 6 Januari 2019 11:34 WIB  \n",
       "275  Minggu, 6 Januari 2019 10:47 WIB  \n",
       "276  Minggu, 6 Januari 2019 10:03 WIB  \n",
       "277  Minggu, 6 Januari 2019 07:44 WIB  \n",
       "278  Minggu, 6 Januari 2019 06:58 WIB  \n",
       "279  Minggu, 6 Januari 2019 06:02 WIB  \n",
       "280   Senin, 7 Januari 2019 22:02 WIB  \n",
       "281   Senin, 7 Januari 2019 21:44 WIB  \n",
       "282   Senin, 7 Januari 2019 21:30 WIB  \n",
       "283   Senin, 7 Januari 2019 20:52 WIB  \n",
       "\n",
       "[284 rows x 3 columns]"
      ]
     },
     "execution_count": 41,
     "metadata": {},
     "output_type": "execute_result"
    }
   ],
   "source": [
    "# add data into pandas df\n",
    "import pandas as pd\n",
    "\n",
    "scraped_data = pd.DataFrame({'name': names,'deskripsi': deskripsi, 'tanggal':tgl} )\n",
    "scraped_data.head(900)"
   ]
  },
  {
   "cell_type": "markdown",
   "metadata": {},
   "source": [
    "We got our data: our web scraping experiment is a success. \n",
    "\n",
    "Some data cleaning may be useful before using them:\n",
    "- transform the ratings into numerical values\n",
    "- remove the numbers in the product_category column"
   ]
  },
  {
   "cell_type": "markdown",
   "metadata": {},
   "source": [
    "## Wrap up\n",
    "\n",
    "We have seen how to get through websites and gather data on each web page using automated web scrapers. One key thing in order to build efficient web scrapers is to understand the structure of the website on which you want to scrape the information. This means that you will probably have to maintain you scraper if you want it to remain useful after websites updates.\n",
    "\n",
    "This book store website was an easy example, but in real life you may have to deal with more complex websites that render some of their content using Javascript. You may want to use a browser automator like Selenium for those kind of tasks (https://www.seleniumhq.org/)."
   ]
  }
 ],
 "metadata": {
  "kernelspec": {
   "display_name": "Python 3",
   "language": "python",
   "name": "python3"
  },
  "language_info": {
   "codemirror_mode": {
    "name": "ipython",
    "version": 3
   },
   "file_extension": ".py",
   "mimetype": "text/x-python",
   "name": "python",
   "nbconvert_exporter": "python",
   "pygments_lexer": "ipython3",
   "version": "3.6.5"
  }
 },
 "nbformat": 4,
 "nbformat_minor": 2
}
