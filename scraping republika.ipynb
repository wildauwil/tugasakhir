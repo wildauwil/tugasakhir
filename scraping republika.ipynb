{
 "cells": [
  {
   "cell_type": "markdown",
   "metadata": {},
   "source": [
    "# Web scraping basics with BeautifulSoup"
   ]
  },
  {
   "cell_type": "code",
   "execution_count": 2,
   "metadata": {},
   "outputs": [],
   "source": [
    "main_url = \"https://republika.co.id/index/politik/2019/01/01\""
   ]
  },
  {
   "cell_type": "code",
   "execution_count": 3,
   "metadata": {},
   "outputs": [],
   "source": [
    "import requests\n",
    "result = requests.get(main_url)"
   ]
  },
  {
   "cell_type": "code",
   "execution_count": 4,
   "metadata": {},
   "outputs": [
    {
     "data": {
      "text/plain": [
       "'<!--QRY2##politik--><!DOCTYPE html PUBLIC \"-//W3C//DTD XHTML 1.0 Transitional//EN\" \"http://www.w3.org/TR/xhtml1/DTD/xhtml1-transitional.dtd\">\\n<html xmlns=\"http://www.w3.org/1999/xhtml\">\\n<head> \\n<meta http-equiv=\"Content-Type\" content=\"text/html; charset=UTF-8\" />\\n<meta name=\"viewport\" content=\"width=device-width, initial-scale=1\">\\n<meta http-equiv=\"Content-Security-Policy\" content=\"upgrade-insecure-requests\">\\n \\n                 \\n<meta property=\"og:type\" content=\"article\" />\\n<meta property=\"og:url\" content=\"\" />\\n<meta property=\"og:title\" content=\\'Republika Online\\'/> \\n<meta property=\"og:image\" content=\"https://static.republika.co.id/files/images/favicon-rol.png?v=ROL-25\" />\\n<meta property=\"og:site_name\" content=\"Republika Online\" />\\n<meta property=\"og:description\" content=\"\" />\\n<meta property=\"og:image:type\" content=\"image/jpeg\" />\\n<meta property=\"og:image:width\" content=\"610\" />\\n<meta property=\"og:image:height\" content=\"409\" />\\n<meta property=\"fb:app_id\" content=\"417808724973321\" />\\n<me'"
      ]
     },
     "execution_count": 4,
     "metadata": {},
     "output_type": "execute_result"
    }
   ],
   "source": [
    "result.text[:1000]"
   ]
  },
  {
   "cell_type": "markdown",
   "metadata": {},
   "source": [
    "The result is quite messy! Let's make this more readable:"
   ]
  },
  {
   "cell_type": "code",
   "execution_count": 5,
   "metadata": {},
   "outputs": [],
   "source": [
    "from bs4 import BeautifulSoup\n",
    "soup = BeautifulSoup(result.text, 'html.parser')"
   ]
  },
  {
   "cell_type": "code",
   "execution_count": 6,
   "metadata": {},
   "outputs": [
    {
     "name": "stdout",
     "output_type": "stream",
     "text": [
      "<!--QRY2##politik-->\n",
      "<!DOCTYPE html PUBLIC \"-//W3C//DTD XHTML 1.0 Transitional//EN\" \"http://www.w3.org/TR/xhtml1/DTD/xhtml1-transitional.dtd\">\n",
      "<html xmlns=\"http://www.w3.org/1999/xhtml\">\n",
      " <head>\n",
      "  <meta content=\"text/html; charset=utf-8\" http-equiv=\"Content-Type\"/>\n",
      "  <meta content=\"width=device-width, initial-scale=1\" name=\"viewport\"/>\n",
      "  <meta content=\"upgrade-insecure-requests\" http-equiv=\"Content-Security-Policy\"/>\n",
      "  <meta content=\"article\" property=\"og:type\">\n",
      "   <meta content=\"\" property=\"og:url\">\n",
      "    <meta content=\"Republika Online\" property=\"og:title\"/>\n",
      "    <meta content=\"https://static.republika.co.id/files/images/favicon-rol.png?v=ROL-25\" property=\"og:image\"/>\n",
      "    <meta content=\"Republika Online\" property=\"og:site_name\"/>\n",
      "    <meta content=\"\" property=\"og:description\"/>\n",
      "    <meta content=\"image/jpeg\" property=\"og:image:type\"/>\n",
      "    <meta content=\"610\" property=\"og:image:width\"/>\n",
      "    <meta content=\"409\" property=\"og:image:height\"/>\n",
      "    <meta content=\"417808724973321\" property=\"fb:\n"
     ]
    }
   ],
   "source": [
    "print(soup.prettify()[:1000])"
   ]
  },
  {
   "cell_type": "code",
   "execution_count": 7,
   "metadata": {},
   "outputs": [],
   "source": [
    "def getAndParseURL(url):\n",
    "    result = requests.get(url)\n",
    "    soup = BeautifulSoup(result.text, 'html.parser')\n",
    "    return(soup)"
   ]
  },
  {
   "cell_type": "code",
   "execution_count": 43,
   "metadata": {},
   "outputs": [
    {
     "data": {
      "text/plain": [
       "<div class=\"txt_subkanal txt_index\">\n",
       "<h2><a href=\"https://nasional.republika.co.id/berita/nasional/politik/pknlt7428/bawaslu-panggil-kpu-soal-kasus-pidana-pencalonan-oso\">Bawaslu Panggil KPU Soal Kasus Pidana Pencalonan Oso</a></h2>\n",
       "<h6>Tuesday, 01 Jan 2019 20:07 WIB<h6>\n",
       "</h6></h6></div>"
      ]
     },
     "execution_count": 43,
     "metadata": {},
     "output_type": "execute_result"
    }
   ],
   "source": [
    "soup.find(\"div\", class_ = \"txt_subkanal txt_index\")"
   ]
  },
  {
   "cell_type": "code",
   "execution_count": 44,
   "metadata": {},
   "outputs": [
    {
     "data": {
      "text/plain": [
       "<a href=\"https://nasional.republika.co.id/berita/nasional/politik/pknlt7428/bawaslu-panggil-kpu-soal-kasus-pidana-pencalonan-oso\">Bawaslu Panggil KPU Soal Kasus Pidana Pencalonan Oso</a>"
      ]
     },
     "execution_count": 44,
     "metadata": {},
     "output_type": "execute_result"
    }
   ],
   "source": [
    "soup.find(\"div\", class_ = \"txt_subkanal txt_index\").h2.a"
   ]
  },
  {
   "cell_type": "code",
   "execution_count": 8,
   "metadata": {},
   "outputs": [
    {
     "name": "stdout",
     "output_type": "stream",
     "text": [
      "<class 'bs4.element.ResultSet'>\n",
      "14\n",
      "https://republika.co.id/index/politik/2019/01/01/40\n",
      "0\n"
     ]
    },
    {
     "data": {
      "text/plain": [
       "['https://nasional.republika.co.id/berita/nasional/politik/pknlt7428/bawaslu-panggil-kpu-soal-kasus-pidana-pencalonan-oso',\n",
       " 'https://nasional.republika.co.id/berita/nasional/politik/pkndbo428/sandiaga-awali-2019-dengan-kunjungan-ke-pasar-sidoarjo',\n",
       " 'https://nasional.republika.co.id/berita/nasional/politik/pknb8c428/kata-sandiaga-soal-cara-wudhunya-yang-jadi-perdebatan',\n",
       " 'https://nasional.republika.co.id/berita/nasional/politik/pknan3428/ratusan-wni-di-as-doakan-jokowimaruf',\n",
       " 'https://nasional.republika.co.id/berita/nasional/politik/pkn7nf428/tkn-tes-baca-alquran-bukan-politik-identitas',\n",
       " 'https://nasional.republika.co.id/berita/nasional/politik/pkn5o2409/tkn-jokowimaruf-siap-berdebat-soal-hukum-dan-ham',\n",
       " 'https://nasional.republika.co.id/berita/nasional/politik/pkn4i7409/tkn-ingatkan-dahnil-istilah-tsunami-politik-berbahaya',\n",
       " 'https://nasional.republika.co.id/berita/nasional/politik/pkn3dp440/capres-tes-baca-alquran-mui-umat-ingin-pemimpin-bisa-ngaji',\n",
       " 'https://nasional.republika.co.id/berita/nasional/politik/pkn0vy409/besok-bawaslu-lanjutkan-sidang-oso-vs-kpu',\n",
       " 'https://nasional.republika.co.id/berita/nasional/politik/pkmx3c409/prabowo-ingin-bentuk-kementerian-kebencanaan-tkn-baca-uu',\n",
       " 'https://nasional.republika.co.id/berita/nasional/politik/pkmsi6409/prabowo-siap-bentuk-kementerian-khusus-tangani-bencana',\n",
       " 'https://nasional.republika.co.id/berita/nasional/politik/pkmr8a409/dahnil-sby-sebut-atmosfer-kemenangan-ada-di-prabowosandi',\n",
       " 'https://nasional.republika.co.id/berita/nasional/politik/pkmdii368/putra-kiai-maruf-bertekad-luncurkan-gerakan-bicara-baik',\n",
       " 'https://nasional.republika.co.id/berita/nasional/politik/pklvop430/lily-wahid-tanggapi-tokoh-nu-di-kubu-prabowosandi']"
      ]
     },
     "execution_count": 8,
     "metadata": {},
     "output_type": "execute_result"
    }
   ],
   "source": [
    "containers = soup.find_all(\"div\", class_ = \"txt_subkanal txt_index\")\n",
    "\n",
    "a = soup.find(\"div\", class_ = \"pagination\")\n",
    "   \n",
    "print(type(containers))\n",
    "print(len(containers))\n",
    "main_page_products_urls = []\n",
    "for c in containers:\n",
    "    #print(c)\n",
    "    x = c.find('h2').a\n",
    "    a_link = x.get('href')\n",
    "    #print(a_link)\n",
    "    main_page_products_urls.append(a_link)\n",
    "    \n",
    "if soup.find(\"div\", class_ = \"pagination\"):\n",
    "    a = soup.find(\"div\", class_ = \"pagination\")\n",
    "    y = a.find('a')\n",
    "    linkku = y.get('href')\n",
    "    print(linkku)\n",
    "    soupku = getAndParseURL(linkku)\n",
    "    containers = soupku.find_all(\"div\", class_ = \"txt_subkanal txt_index\")\n",
    "    print(len(containers))\n",
    "    for c in containers:\n",
    "        #print(c)\n",
    "        x = c.find('h2').a\n",
    "        a_link = x.get('href')\n",
    "        #print(a_link)\n",
    "        main_page_products_urls.append(a_link)\n",
    "    \n",
    "    \n",
    "main_page_products_urls[:42]\n",
    "    "
   ]
  },
  {
   "cell_type": "code",
   "execution_count": 9,
   "metadata": {},
   "outputs": [
    {
     "name": "stdout",
     "output_type": "stream",
     "text": [
      "14 fetched products URLs\n",
      "One example:\n"
     ]
    },
    {
     "data": {
      "text/plain": [
       "'https://nasional.republika.co.id/berita/nasional/politik/pknlt7428/bawaslu-panggil-kpu-soal-kasus-pidana-pencalonan-oso'"
      ]
     },
     "execution_count": 9,
     "metadata": {},
     "output_type": "execute_result"
    }
   ],
   "source": [
    "print(str(len(main_page_products_urls)) + \" fetched products URLs\")\n",
    "print(\"One example:\")\n",
    "main_page_products_urls[0]"
   ]
  },
  {
   "cell_type": "code",
   "execution_count": 10,
   "metadata": {},
   "outputs": [],
   "source": [
    "def getBooksURLs(url):\n",
    "   \n",
    "    #containers = a.find_all('div', class_ = 'card card-type-1')\n",
    "    \n",
    "    soup = getAndParseURL(url)\n",
    "    #containers = soup.find_all(\"div\", class_ = \"txt_subkanal txt_index\")\n",
    "\n",
    "    a = soup.find(\"div\", class_ = \"pagination\")\n",
    "\n",
    "    # remove the index.html part of the base url before returning the results\n",
    "    return([x.h2.a.get('href') for x in soup.findAll(\"div\", class_ = \"txt_subkanal txt_index\")])\n",
    "\n",
    "    if soup.find(\"div\", class_ = \"pagination\"):\n",
    "        a = soup.find(\"div\", class_ = \"pagination\")\n",
    "        y = a.find('a')\n",
    "        linkku = y.get('href')\n",
    "        \n",
    "        soupku = getAndParseURL(linkku)\n",
    "        #containers = soupku.find_all(\"div\", class_ = \"txt_subkanal txt_index\")\n",
    "        return([x.h2.a.get('href') for x in soupku.findAll(\"div\", class_ = \"txt_subkanal txt_index\")])\n",
    "    \n",
    "    "
   ]
  },
  {
   "cell_type": "code",
   "execution_count": 12,
   "metadata": {
    "scrolled": true
   },
   "outputs": [
    {
     "name": "stdout",
     "output_type": "stream",
     "text": [
      "0 fetched categories URLs\n",
      "Some examples:\n"
     ]
    },
    {
     "data": {
      "text/plain": [
       "[]"
      ]
     },
     "execution_count": 12,
     "metadata": {},
     "output_type": "execute_result"
    }
   ],
   "source": [
    "import re\n",
    "\n",
    "categories_urls = [main_url + x.get('href') for x in soup.find_all(\"a\", href=re.compile(\"catalogue/category/books\"))]\n",
    "categories_urls = categories_urls[1:] # we remove the first one because it corresponds to all the books\n",
    "\n",
    "print(str(len(categories_urls)) + \" fetched categories URLs\")\n",
    "print(\"Some examples:\")\n",
    "categories_urls[:5]"
   ]
  },
  {
   "cell_type": "code",
   "execution_count": 49,
   "metadata": {},
   "outputs": [
    {
     "name": "stdout",
     "output_type": "stream",
     "text": [
      "status code for page 50: 200\n",
      "status code for page 51: 200\n"
     ]
    }
   ],
   "source": [
    "result = requests.get(\"https://www.tempo.co/indeks/2019/03/04/nasional\")\n",
    "print(\"status code for page 50: \" + str(result.status_code))\n",
    "\n",
    "result = requests.get(\"https://www.tempo.co/indeks/2019/03/37/nasional\")\n",
    "print(\"status code for page 51: \" + str(result.status_code))"
   ]
  },
  {
   "cell_type": "code",
   "execution_count": 11,
   "metadata": {},
   "outputs": [],
   "source": [
    "#str(int(pages_urls[-1].split(\"/\")[6]) + 1 )\n",
    "pages_urls = []\n",
    "tahun = [\"2019\"]\n",
    "bulan = [\"01\", \"02\", \"03\", \"04\", \"05\", \"06\", \"07\", \"08\", \"09\", \"10\", \"11\", \"12\"]\n",
    "tgl = [\"01\", \"02\", \"03\", \"04\", \"05\", \"06\", \"07\", \"08\", \"09\", \"10\", \"11\", \"12\", \"13\", \"14\", \"15\", \"16\", \"17\", \"18\", \"19\", \"20\", \"21\", \"22\", \"23\", \"24\", \"25\", \"26\", \"27\", \"28\", \"29\", \"30\", \"31\"]\n",
    "new_page = \"https://republika.co.id/index/politik/2019/01/01\"\n",
    "\n",
    "#while requests.get(new_page).status_code == 200:\n",
    "for y in bulan:\n",
    "    for x in tgl:\n",
    "            pages_urls.append(new_page)\n",
    "            new_page = pages_urls[-1].split(\"/\")[0] + \"/\" + pages_urls[-1].split(\"/\")[1] + \"/\" + pages_urls[-1].split(\"/\")[2] + \"/\" + pages_urls[-1].split(\"/\")[3] + \"/\" + \"politik/\" + '2019/'+ y + \"/\" + x \n",
    "    \n",
    "    \n",
    "    #new_page = pages_urls[-1].split(\"/\")[0] + \"/\" + pages_urls[-1].split(\"/\")[1] + \"/\" + pages_urls[-1].split(\"/\")[2] + \"/\" + pages_urls[-1].split(\"/\")[3] + \"/\" + pages_urls[-1].split(\"/\")[4] + \"/\" + pages_urls[-1].split(\"/\")[5] + \"/\" + str(x) + \"/\" + pages_urls[-1].split(\"/\")[7]\n",
    "    "
   ]
  },
  {
   "cell_type": "code",
   "execution_count": 12,
   "metadata": {},
   "outputs": [
    {
     "name": "stdout",
     "output_type": "stream",
     "text": [
      "372 fetched URLs\n",
      "Some examples:\n"
     ]
    },
    {
     "data": {
      "text/plain": [
       "['https://republika.co.id/index/politik/2019/01/01',\n",
       " 'https://republika.co.id/index/politik/2019/01/01',\n",
       " 'https://republika.co.id/index/politik/2019/01/02',\n",
       " 'https://republika.co.id/index/politik/2019/01/03',\n",
       " 'https://republika.co.id/index/politik/2019/01/04',\n",
       " 'https://republika.co.id/index/politik/2019/01/05',\n",
       " 'https://republika.co.id/index/politik/2019/01/06',\n",
       " 'https://republika.co.id/index/politik/2019/01/07',\n",
       " 'https://republika.co.id/index/politik/2019/01/08',\n",
       " 'https://republika.co.id/index/politik/2019/01/09']"
      ]
     },
     "execution_count": 12,
     "metadata": {},
     "output_type": "execute_result"
    }
   ],
   "source": [
    "print(str(len(pages_urls)) + \" fetched URLs\")\n",
    "print(\"Some examples:\")\n",
    "pages_urls[0:10]"
   ]
  },
  {
   "cell_type": "code",
   "execution_count": 13,
   "metadata": {},
   "outputs": [],
   "source": [
    "booksURLs = []\n",
    "for page in pages_urls:\n",
    "    booksURLs.extend(getBooksURLs(page))"
   ]
  },
  {
   "cell_type": "code",
   "execution_count": 14,
   "metadata": {},
   "outputs": [
    {
     "name": "stdout",
     "output_type": "stream",
     "text": [
      "3259 fetched URLs\n",
      "Some examples:\n"
     ]
    },
    {
     "data": {
      "text/plain": [
       "['https://nasional.republika.co.id/berita/nasional/politik/popoo5409/kpu-tak-larang-capres-bawa-catatan-dan-alat-bantu-saat-debat',\n",
       " 'https://nasional.republika.co.id/berita/nasional/politik/popnrl409/dua-aspek-keunggulan-prabowo-menurut-survei-indo-barometer',\n",
       " 'https://nasional.republika.co.id/berita/nasional/politik/popnix385/partai-berkarya-fokus-bangun-ekonomi-kerakyatan',\n",
       " 'https://nasional.republika.co.id/berita/nasional/politik/popmx7409/bpn-nilai-wiranto-lakukan-ltemgtblunder-ltemgt',\n",
       " 'https://nasional.republika.co.id/berita/nasional/politik/popmgx409/kpu-format-debat-capres-sama-dengan-debat-cawapres',\n",
       " 'https://nasional.republika.co.id/berita/nasional/politik/popmfy335/masukan-hoaks-ke-uu-terorisme-ylbhi-wiranto-ltemgtngawurltemgt',\n",
       " 'https://nasional.republika.co.id/berita/nasional/politik/popkvh430/ini-yang-buat-tkn-yakin-jokowimaruf-akan-menang-telak']"
      ]
     },
     "execution_count": 14,
     "metadata": {},
     "output_type": "execute_result"
    }
   ],
   "source": [
    "print(str(len(booksURLs)) + \" fetched URLs\")\n",
    "print(\"Some examples:\")\n",
    "booksURLs[3222:3229]"
   ]
  },
  {
   "cell_type": "code",
   "execution_count": 37,
   "metadata": {},
   "outputs": [
    {
     "ename": "KeyboardInterrupt",
     "evalue": "",
     "output_type": "error",
     "traceback": [
      "\u001b[1;31m---------------------------------------------------------------------------\u001b[0m",
      "\u001b[1;31mKeyboardInterrupt\u001b[0m                         Traceback (most recent call last)",
      "\u001b[1;32m<timed exec>\u001b[0m in \u001b[0;36m<module>\u001b[1;34m()\u001b[0m\n",
      "\u001b[1;32m<ipython-input-7-024895b673f6>\u001b[0m in \u001b[0;36mgetAndParseURL\u001b[1;34m(url)\u001b[0m\n\u001b[0;32m      1\u001b[0m \u001b[1;32mdef\u001b[0m \u001b[0mgetAndParseURL\u001b[0m\u001b[1;33m(\u001b[0m\u001b[0murl\u001b[0m\u001b[1;33m)\u001b[0m\u001b[1;33m:\u001b[0m\u001b[1;33m\u001b[0m\u001b[0m\n\u001b[0;32m      2\u001b[0m     \u001b[0mresult\u001b[0m \u001b[1;33m=\u001b[0m \u001b[0mrequests\u001b[0m\u001b[1;33m.\u001b[0m\u001b[0mget\u001b[0m\u001b[1;33m(\u001b[0m\u001b[0murl\u001b[0m\u001b[1;33m)\u001b[0m\u001b[1;33m\u001b[0m\u001b[0m\n\u001b[1;32m----> 3\u001b[1;33m     \u001b[0msoup\u001b[0m \u001b[1;33m=\u001b[0m \u001b[0mBeautifulSoup\u001b[0m\u001b[1;33m(\u001b[0m\u001b[0mresult\u001b[0m\u001b[1;33m.\u001b[0m\u001b[0mtext\u001b[0m\u001b[1;33m,\u001b[0m \u001b[1;34m'html.parser'\u001b[0m\u001b[1;33m)\u001b[0m\u001b[1;33m\u001b[0m\u001b[0m\n\u001b[0m\u001b[0;32m      4\u001b[0m     \u001b[1;32mreturn\u001b[0m\u001b[1;33m(\u001b[0m\u001b[0msoup\u001b[0m\u001b[1;33m)\u001b[0m\u001b[1;33m\u001b[0m\u001b[0m\n",
      "\u001b[1;32m~\\Anaconda3\\lib\\site-packages\\bs4\\__init__.py\u001b[0m in \u001b[0;36m__init__\u001b[1;34m(self, markup, features, builder, parse_only, from_encoding, exclude_encodings, **kwargs)\u001b[0m\n\u001b[0;32m    226\u001b[0m             \u001b[0mself\u001b[0m\u001b[1;33m.\u001b[0m\u001b[0mreset\u001b[0m\u001b[1;33m(\u001b[0m\u001b[1;33m)\u001b[0m\u001b[1;33m\u001b[0m\u001b[0m\n\u001b[0;32m    227\u001b[0m             \u001b[1;32mtry\u001b[0m\u001b[1;33m:\u001b[0m\u001b[1;33m\u001b[0m\u001b[0m\n\u001b[1;32m--> 228\u001b[1;33m                 \u001b[0mself\u001b[0m\u001b[1;33m.\u001b[0m\u001b[0m_feed\u001b[0m\u001b[1;33m(\u001b[0m\u001b[1;33m)\u001b[0m\u001b[1;33m\u001b[0m\u001b[0m\n\u001b[0m\u001b[0;32m    229\u001b[0m                 \u001b[1;32mbreak\u001b[0m\u001b[1;33m\u001b[0m\u001b[0m\n\u001b[0;32m    230\u001b[0m             \u001b[1;32mexcept\u001b[0m \u001b[0mParserRejectedMarkup\u001b[0m\u001b[1;33m:\u001b[0m\u001b[1;33m\u001b[0m\u001b[0m\n",
      "\u001b[1;32m~\\Anaconda3\\lib\\site-packages\\bs4\\__init__.py\u001b[0m in \u001b[0;36m_feed\u001b[1;34m(self)\u001b[0m\n\u001b[0;32m    287\u001b[0m         \u001b[0mself\u001b[0m\u001b[1;33m.\u001b[0m\u001b[0mbuilder\u001b[0m\u001b[1;33m.\u001b[0m\u001b[0mreset\u001b[0m\u001b[1;33m(\u001b[0m\u001b[1;33m)\u001b[0m\u001b[1;33m\u001b[0m\u001b[0m\n\u001b[0;32m    288\u001b[0m \u001b[1;33m\u001b[0m\u001b[0m\n\u001b[1;32m--> 289\u001b[1;33m         \u001b[0mself\u001b[0m\u001b[1;33m.\u001b[0m\u001b[0mbuilder\u001b[0m\u001b[1;33m.\u001b[0m\u001b[0mfeed\u001b[0m\u001b[1;33m(\u001b[0m\u001b[0mself\u001b[0m\u001b[1;33m.\u001b[0m\u001b[0mmarkup\u001b[0m\u001b[1;33m)\u001b[0m\u001b[1;33m\u001b[0m\u001b[0m\n\u001b[0m\u001b[0;32m    290\u001b[0m         \u001b[1;31m# Close out any unfinished strings and close all the open tags.\u001b[0m\u001b[1;33m\u001b[0m\u001b[1;33m\u001b[0m\u001b[0m\n\u001b[0;32m    291\u001b[0m         \u001b[0mself\u001b[0m\u001b[1;33m.\u001b[0m\u001b[0mendData\u001b[0m\u001b[1;33m(\u001b[0m\u001b[1;33m)\u001b[0m\u001b[1;33m\u001b[0m\u001b[0m\n",
      "\u001b[1;32m~\\Anaconda3\\lib\\site-packages\\bs4\\builder\\_htmlparser.py\u001b[0m in \u001b[0;36mfeed\u001b[1;34m(self, markup)\u001b[0m\n\u001b[0;32m    213\u001b[0m         \u001b[0mparser\u001b[0m\u001b[1;33m.\u001b[0m\u001b[0msoup\u001b[0m \u001b[1;33m=\u001b[0m \u001b[0mself\u001b[0m\u001b[1;33m.\u001b[0m\u001b[0msoup\u001b[0m\u001b[1;33m\u001b[0m\u001b[0m\n\u001b[0;32m    214\u001b[0m         \u001b[1;32mtry\u001b[0m\u001b[1;33m:\u001b[0m\u001b[1;33m\u001b[0m\u001b[0m\n\u001b[1;32m--> 215\u001b[1;33m             \u001b[0mparser\u001b[0m\u001b[1;33m.\u001b[0m\u001b[0mfeed\u001b[0m\u001b[1;33m(\u001b[0m\u001b[0mmarkup\u001b[0m\u001b[1;33m)\u001b[0m\u001b[1;33m\u001b[0m\u001b[0m\n\u001b[0m\u001b[0;32m    216\u001b[0m         \u001b[1;32mexcept\u001b[0m \u001b[0mHTMLParseError\u001b[0m \u001b[1;32mas\u001b[0m \u001b[0me\u001b[0m\u001b[1;33m:\u001b[0m\u001b[1;33m\u001b[0m\u001b[0m\n\u001b[0;32m    217\u001b[0m             warnings.warn(RuntimeWarning(\n",
      "\u001b[1;32m~\\Anaconda3\\lib\\html\\parser.py\u001b[0m in \u001b[0;36mfeed\u001b[1;34m(self, data)\u001b[0m\n\u001b[0;32m    109\u001b[0m         \"\"\"\n\u001b[0;32m    110\u001b[0m         \u001b[0mself\u001b[0m\u001b[1;33m.\u001b[0m\u001b[0mrawdata\u001b[0m \u001b[1;33m=\u001b[0m \u001b[0mself\u001b[0m\u001b[1;33m.\u001b[0m\u001b[0mrawdata\u001b[0m \u001b[1;33m+\u001b[0m \u001b[0mdata\u001b[0m\u001b[1;33m\u001b[0m\u001b[0m\n\u001b[1;32m--> 111\u001b[1;33m         \u001b[0mself\u001b[0m\u001b[1;33m.\u001b[0m\u001b[0mgoahead\u001b[0m\u001b[1;33m(\u001b[0m\u001b[1;36m0\u001b[0m\u001b[1;33m)\u001b[0m\u001b[1;33m\u001b[0m\u001b[0m\n\u001b[0m\u001b[0;32m    112\u001b[0m \u001b[1;33m\u001b[0m\u001b[0m\n\u001b[0;32m    113\u001b[0m     \u001b[1;32mdef\u001b[0m \u001b[0mclose\u001b[0m\u001b[1;33m(\u001b[0m\u001b[0mself\u001b[0m\u001b[1;33m)\u001b[0m\u001b[1;33m:\u001b[0m\u001b[1;33m\u001b[0m\u001b[0m\n",
      "\u001b[1;32m~\\Anaconda3\\lib\\html\\parser.py\u001b[0m in \u001b[0;36mgoahead\u001b[1;34m(self, end)\u001b[0m\n\u001b[0;32m    171\u001b[0m                     \u001b[0mk\u001b[0m \u001b[1;33m=\u001b[0m \u001b[0mself\u001b[0m\u001b[1;33m.\u001b[0m\u001b[0mparse_starttag\u001b[0m\u001b[1;33m(\u001b[0m\u001b[0mi\u001b[0m\u001b[1;33m)\u001b[0m\u001b[1;33m\u001b[0m\u001b[0m\n\u001b[0;32m    172\u001b[0m                 \u001b[1;32melif\u001b[0m \u001b[0mstartswith\u001b[0m\u001b[1;33m(\u001b[0m\u001b[1;34m\"</\"\u001b[0m\u001b[1;33m,\u001b[0m \u001b[0mi\u001b[0m\u001b[1;33m)\u001b[0m\u001b[1;33m:\u001b[0m\u001b[1;33m\u001b[0m\u001b[0m\n\u001b[1;32m--> 173\u001b[1;33m                     \u001b[0mk\u001b[0m \u001b[1;33m=\u001b[0m \u001b[0mself\u001b[0m\u001b[1;33m.\u001b[0m\u001b[0mparse_endtag\u001b[0m\u001b[1;33m(\u001b[0m\u001b[0mi\u001b[0m\u001b[1;33m)\u001b[0m\u001b[1;33m\u001b[0m\u001b[0m\n\u001b[0m\u001b[0;32m    174\u001b[0m                 \u001b[1;32melif\u001b[0m \u001b[0mstartswith\u001b[0m\u001b[1;33m(\u001b[0m\u001b[1;34m\"<!--\"\u001b[0m\u001b[1;33m,\u001b[0m \u001b[0mi\u001b[0m\u001b[1;33m)\u001b[0m\u001b[1;33m:\u001b[0m\u001b[1;33m\u001b[0m\u001b[0m\n\u001b[0;32m    175\u001b[0m                     \u001b[0mk\u001b[0m \u001b[1;33m=\u001b[0m \u001b[0mself\u001b[0m\u001b[1;33m.\u001b[0m\u001b[0mparse_comment\u001b[0m\u001b[1;33m(\u001b[0m\u001b[0mi\u001b[0m\u001b[1;33m)\u001b[0m\u001b[1;33m\u001b[0m\u001b[0m\n",
      "\u001b[1;32m~\\Anaconda3\\lib\\html\\parser.py\u001b[0m in \u001b[0;36mparse_endtag\u001b[1;34m(self, i)\u001b[0m\n\u001b[0;32m    419\u001b[0m                 \u001b[1;32mreturn\u001b[0m \u001b[0mgtpos\u001b[0m\u001b[1;33m\u001b[0m\u001b[0m\n\u001b[0;32m    420\u001b[0m \u001b[1;33m\u001b[0m\u001b[0m\n\u001b[1;32m--> 421\u001b[1;33m         \u001b[0mself\u001b[0m\u001b[1;33m.\u001b[0m\u001b[0mhandle_endtag\u001b[0m\u001b[1;33m(\u001b[0m\u001b[0melem\u001b[0m\u001b[1;33m.\u001b[0m\u001b[0mlower\u001b[0m\u001b[1;33m(\u001b[0m\u001b[1;33m)\u001b[0m\u001b[1;33m)\u001b[0m\u001b[1;33m\u001b[0m\u001b[0m\n\u001b[0m\u001b[0;32m    422\u001b[0m         \u001b[0mself\u001b[0m\u001b[1;33m.\u001b[0m\u001b[0mclear_cdata_mode\u001b[0m\u001b[1;33m(\u001b[0m\u001b[1;33m)\u001b[0m\u001b[1;33m\u001b[0m\u001b[0m\n\u001b[0;32m    423\u001b[0m         \u001b[1;32mreturn\u001b[0m \u001b[0mgtpos\u001b[0m\u001b[1;33m\u001b[0m\u001b[0m\n",
      "\u001b[1;32m~\\Anaconda3\\lib\\site-packages\\bs4\\builder\\_htmlparser.py\u001b[0m in \u001b[0;36mhandle_endtag\u001b[1;34m(self, name, check_already_closed)\u001b[0m\n\u001b[0;32m    114\u001b[0m             \u001b[0mself\u001b[0m\u001b[1;33m.\u001b[0m\u001b[0malready_closed_empty_element\u001b[0m\u001b[1;33m.\u001b[0m\u001b[0mremove\u001b[0m\u001b[1;33m(\u001b[0m\u001b[0mname\u001b[0m\u001b[1;33m)\u001b[0m\u001b[1;33m\u001b[0m\u001b[0m\n\u001b[0;32m    115\u001b[0m         \u001b[1;32melse\u001b[0m\u001b[1;33m:\u001b[0m\u001b[1;33m\u001b[0m\u001b[0m\n\u001b[1;32m--> 116\u001b[1;33m             \u001b[0mself\u001b[0m\u001b[1;33m.\u001b[0m\u001b[0msoup\u001b[0m\u001b[1;33m.\u001b[0m\u001b[0mhandle_endtag\u001b[0m\u001b[1;33m(\u001b[0m\u001b[0mname\u001b[0m\u001b[1;33m)\u001b[0m\u001b[1;33m\u001b[0m\u001b[0m\n\u001b[0m\u001b[0;32m    117\u001b[0m \u001b[1;33m\u001b[0m\u001b[0m\n\u001b[0;32m    118\u001b[0m     \u001b[1;32mdef\u001b[0m \u001b[0mhandle_data\u001b[0m\u001b[1;33m(\u001b[0m\u001b[0mself\u001b[0m\u001b[1;33m,\u001b[0m \u001b[0mdata\u001b[0m\u001b[1;33m)\u001b[0m\u001b[1;33m:\u001b[0m\u001b[1;33m\u001b[0m\u001b[0m\n",
      "\u001b[1;32m~\\Anaconda3\\lib\\site-packages\\bs4\\__init__.py\u001b[0m in \u001b[0;36mhandle_endtag\u001b[1;34m(self, name, nsprefix)\u001b[0m\n\u001b[0;32m    474\u001b[0m     \u001b[1;32mdef\u001b[0m \u001b[0mhandle_endtag\u001b[0m\u001b[1;33m(\u001b[0m\u001b[0mself\u001b[0m\u001b[1;33m,\u001b[0m \u001b[0mname\u001b[0m\u001b[1;33m,\u001b[0m \u001b[0mnsprefix\u001b[0m\u001b[1;33m=\u001b[0m\u001b[1;32mNone\u001b[0m\u001b[1;33m)\u001b[0m\u001b[1;33m:\u001b[0m\u001b[1;33m\u001b[0m\u001b[0m\n\u001b[0;32m    475\u001b[0m         \u001b[1;31m#print \"End tag: \" + name\u001b[0m\u001b[1;33m\u001b[0m\u001b[1;33m\u001b[0m\u001b[0m\n\u001b[1;32m--> 476\u001b[1;33m         \u001b[0mself\u001b[0m\u001b[1;33m.\u001b[0m\u001b[0mendData\u001b[0m\u001b[1;33m(\u001b[0m\u001b[1;33m)\u001b[0m\u001b[1;33m\u001b[0m\u001b[0m\n\u001b[0m\u001b[0;32m    477\u001b[0m         \u001b[0mself\u001b[0m\u001b[1;33m.\u001b[0m\u001b[0m_popToTag\u001b[0m\u001b[1;33m(\u001b[0m\u001b[0mname\u001b[0m\u001b[1;33m,\u001b[0m \u001b[0mnsprefix\u001b[0m\u001b[1;33m)\u001b[0m\u001b[1;33m\u001b[0m\u001b[0m\n\u001b[0;32m    478\u001b[0m \u001b[1;33m\u001b[0m\u001b[0m\n",
      "\u001b[1;32m~\\Anaconda3\\lib\\site-packages\\bs4\\__init__.py\u001b[0m in \u001b[0;36mendData\u001b[1;34m(self, containerClass)\u001b[0m\n\u001b[0;32m    344\u001b[0m                 \u001b[0mstrippable\u001b[0m \u001b[1;33m=\u001b[0m \u001b[1;32mTrue\u001b[0m\u001b[1;33m\u001b[0m\u001b[0m\n\u001b[0;32m    345\u001b[0m                 \u001b[1;32mfor\u001b[0m \u001b[0mi\u001b[0m \u001b[1;32min\u001b[0m \u001b[0mcurrent_data\u001b[0m\u001b[1;33m:\u001b[0m\u001b[1;33m\u001b[0m\u001b[0m\n\u001b[1;32m--> 346\u001b[1;33m                     \u001b[1;32mif\u001b[0m \u001b[0mi\u001b[0m \u001b[1;32mnot\u001b[0m \u001b[1;32min\u001b[0m \u001b[0mself\u001b[0m\u001b[1;33m.\u001b[0m\u001b[0mASCII_SPACES\u001b[0m\u001b[1;33m:\u001b[0m\u001b[1;33m\u001b[0m\u001b[0m\n\u001b[0m\u001b[0;32m    347\u001b[0m                         \u001b[0mstrippable\u001b[0m \u001b[1;33m=\u001b[0m \u001b[1;32mFalse\u001b[0m\u001b[1;33m\u001b[0m\u001b[0m\n\u001b[0;32m    348\u001b[0m                         \u001b[1;32mbreak\u001b[0m\u001b[1;33m\u001b[0m\u001b[0m\n",
      "\u001b[1;31mKeyboardInterrupt\u001b[0m: "
     ]
    }
   ],
   "source": [
    "%%time\n",
    "\n",
    "names = []\n",
    "deskripsi = []\n",
    "tgl = []\n",
    "link_url = []\n",
    "\n",
    "# scrape data for every book URL: this may take some time\n",
    "for url in booksURLs:\n",
    "       \n",
    "        soup = getAndParseURL(url)\n",
    "        # product name\n",
    "        \n",
    "        title_box = soup.find('div', attrs={'class':'wrap_detail'}).h1\n",
    "        title = title_box.text\n",
    "        #print (title)\n",
    "        names.append(title)\n",
    "        \n",
    "        # deskripsi\n",
    "        des_box = soup.find('div', attrs={'class':'artikel'})\n",
    "        tes = des_box.findAll('p')\n",
    "        des = ''\n",
    "        for x in tes:\n",
    "            des = des + x.text\n",
    "        deskripsi.append(des)\n",
    "        \n",
    "        # tanggal published\n",
    "        tgl_box = soup.find('div', attrs={'class':'date_detail'})\n",
    "        tgl_p = tgl_box.text\n",
    "        tgl.append(tgl_p)\n",
    "        \n",
    "      \n",
    "        \n",
    "    "
   ]
  },
  {
   "cell_type": "code",
   "execution_count": 38,
   "metadata": {},
   "outputs": [
    {
     "data": {
      "text/html": [
       "<div>\n",
       "<style scoped>\n",
       "    .dataframe tbody tr th:only-of-type {\n",
       "        vertical-align: middle;\n",
       "    }\n",
       "\n",
       "    .dataframe tbody tr th {\n",
       "        vertical-align: top;\n",
       "    }\n",
       "\n",
       "    .dataframe thead th {\n",
       "        text-align: right;\n",
       "    }\n",
       "</style>\n",
       "<table border=\"1\" class=\"dataframe\">\n",
       "  <thead>\n",
       "    <tr style=\"text-align: right;\">\n",
       "      <th></th>\n",
       "      <th>name</th>\n",
       "      <th>deskripsi</th>\n",
       "      <th>tanggal</th>\n",
       "    </tr>\n",
       "  </thead>\n",
       "  <tbody>\n",
       "    <tr>\n",
       "      <th>0</th>\n",
       "      <td>Bawaslu Panggil KPU Soal Kasus Pidana Pencalon...</td>\n",
       "      <td>REPUBLIKA.CO.ID, JAKARTA -- Lebih dari 300 war...</td>\n",
       "      <td>Selasa   01 Jan 2019  20:07 WIB\\n</td>\n",
       "    </tr>\n",
       "    <tr>\n",
       "      <th>1</th>\n",
       "      <td>Sandiaga Awali 2019 dengan Kunjungan ke Pasar ...</td>\n",
       "      <td>REPUBLIKA.CO.ID, JAKARTA -- Lebih dari 300 war...</td>\n",
       "      <td>Selasa   01 Jan 2019  17:04 WIB\\n</td>\n",
       "    </tr>\n",
       "    <tr>\n",
       "      <th>2</th>\n",
       "      <td>Kata Sandiaga Soal Cara Wudhunya yang Jadi Per...</td>\n",
       "      <td>REPUBLIKA.CO.ID, JAKARTA -- Lebih dari 300 war...</td>\n",
       "      <td>Selasa   01 Jan 2019  16:19 WIB\\n</td>\n",
       "    </tr>\n",
       "    <tr>\n",
       "      <th>3</th>\n",
       "      <td>Ratusan WNI di AS Doakan Jokowi-Ma'ruf</td>\n",
       "      <td>REPUBLIKA.CO.ID, JAKARTA -- Lebih dari 300 war...</td>\n",
       "      <td>Selasa   01 Jan 2019  16:06 WIB\\n</td>\n",
       "    </tr>\n",
       "  </tbody>\n",
       "</table>\n",
       "</div>"
      ],
      "text/plain": [
       "                                                name  \\\n",
       "0  Bawaslu Panggil KPU Soal Kasus Pidana Pencalon...   \n",
       "1  Sandiaga Awali 2019 dengan Kunjungan ke Pasar ...   \n",
       "2  Kata Sandiaga Soal Cara Wudhunya yang Jadi Per...   \n",
       "3             Ratusan WNI di AS Doakan Jokowi-Ma'ruf   \n",
       "\n",
       "                                           deskripsi  \\\n",
       "0  REPUBLIKA.CO.ID, JAKARTA -- Lebih dari 300 war...   \n",
       "1  REPUBLIKA.CO.ID, JAKARTA -- Lebih dari 300 war...   \n",
       "2  REPUBLIKA.CO.ID, JAKARTA -- Lebih dari 300 war...   \n",
       "3  REPUBLIKA.CO.ID, JAKARTA -- Lebih dari 300 war...   \n",
       "\n",
       "                             tanggal  \n",
       "0  Selasa   01 Jan 2019  20:07 WIB\\n  \n",
       "1  Selasa   01 Jan 2019  17:04 WIB\\n  \n",
       "2  Selasa   01 Jan 2019  16:19 WIB\\n  \n",
       "3  Selasa   01 Jan 2019  16:06 WIB\\n  "
      ]
     },
     "execution_count": 38,
     "metadata": {},
     "output_type": "execute_result"
    }
   ],
   "source": [
    "# add data into pandas df\n",
    "import pandas as pd\n",
    "\n",
    "scraped_data = pd.DataFrame({'name': names, 'deskripsi' : des, 'tanggal' : tgl} )\n",
    "scraped_data.head(3000)\n"
   ]
  },
  {
   "cell_type": "code",
   "execution_count": null,
   "metadata": {},
   "outputs": [],
   "source": []
  }
 ],
 "metadata": {
  "kernelspec": {
   "display_name": "Python 3",
   "language": "python",
   "name": "python3"
  },
  "language_info": {
   "codemirror_mode": {
    "name": "ipython",
    "version": 3
   },
   "file_extension": ".py",
   "mimetype": "text/x-python",
   "name": "python",
   "nbconvert_exporter": "python",
   "pygments_lexer": "ipython3",
   "version": "3.6.5"
  }
 },
 "nbformat": 4,
 "nbformat_minor": 2
}
